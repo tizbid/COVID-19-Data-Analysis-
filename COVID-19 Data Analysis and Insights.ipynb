{
 "cells": [
  {
   "cell_type": "markdown",
   "metadata": {},
   "source": [
    "# <h1 align=\"center\">COVID-19: Data Analysis And Insights</h1>                                           \n",
    "<img src=\"covidimage.gif\" width=\"500\" align=\"center\">"
   ]
  },
  {
   "cell_type": "markdown",
   "metadata": {},
   "source": [
    "The aim of these project is to analyse Italy COVID-19 multiple datasets as provided by John Hopkins University,to gain insights about the virus by analysing the data and seeking answers to some possible questions we may have.\n",
    "\n",
    "Dataset source: <a href = 'https://www.kaggle.com/virosky/italy-covid19'>Here</a>"
   ]
  },
  {
   "cell_type": "code",
   "execution_count": 217,
   "metadata": {
    "scrolled": false
   },
   "outputs": [],
   "source": [
    "import pandas as pd\n",
    "import numpy as np\n",
    "import matplotlib.pyplot as plt\n",
    "import seaborn as sns\n",
    "import datetime \n",
    "import plotly.express as px\n",
    "import plotly.graph_objects as go\n",
    "from plotly.subplots import make_subplots\n",
    "from wordcloud import WordCloud, ImageColorGenerator\n",
    "\n",
    "\n",
    "\n",
    "import warnings\n",
    "warnings.filterwarnings('ignore') \n",
    "\n",
    "%matplotlib inline"
   ]
  },
  {
   "cell_type": "markdown",
   "metadata": {},
   "source": [
    "### Gaining insights about the details of the individuals with the virus\n",
    "\n",
    "\n",
    "**First Dataset**\n",
    "\n",
    "The dataset contains age distribution of Covid-19 cases across all pronvinces in Italy.We will explore the dataset doing some data cleaning and manipulation and provide answers visualition of the following questions.\n",
    "\n",
    "* Age distribution of all total cases\n",
    "* Age distribution of total Deaths\n",
    "* Compare Age distribution of confirmed cases by Gender"
   ]
  },
  {
   "cell_type": "code",
   "execution_count": 79,
   "metadata": {},
   "outputs": [
    {
     "data": {
      "text/html": [
       "<div>\n",
       "<style scoped>\n",
       "    .dataframe tbody tr th:only-of-type {\n",
       "        vertical-align: middle;\n",
       "    }\n",
       "\n",
       "    .dataframe tbody tr th {\n",
       "        vertical-align: top;\n",
       "    }\n",
       "\n",
       "    .dataframe thead th {\n",
       "        text-align: right;\n",
       "    }\n",
       "</style>\n",
       "<table border=\"1\" class=\"dataframe\">\n",
       "  <thead>\n",
       "    <tr style=\"text-align: right;\">\n",
       "      <th></th>\n",
       "      <th>Unnamed: 0</th>\n",
       "      <th>male_cases</th>\n",
       "      <th>male_deaths</th>\n",
       "      <th>female_cases</th>\n",
       "      <th>female_deaths</th>\n",
       "      <th>total_cases</th>\n",
       "      <th>total_deaths</th>\n",
       "      <th>piemonte_cases</th>\n",
       "      <th>lombardia_cases</th>\n",
       "      <th>veneto_cases</th>\n",
       "      <th>...</th>\n",
       "      <th>toscana_cases</th>\n",
       "      <th>umbria_cases</th>\n",
       "      <th>marche_cases</th>\n",
       "      <th>lazio_cases</th>\n",
       "      <th>abruzzo_cases</th>\n",
       "      <th>molise_cases</th>\n",
       "      <th>campania_cases</th>\n",
       "      <th>puglia_cases</th>\n",
       "      <th>sicilia_cases</th>\n",
       "      <th>sardegna_cases</th>\n",
       "    </tr>\n",
       "    <tr>\n",
       "      <th>age_classes</th>\n",
       "      <th></th>\n",
       "      <th></th>\n",
       "      <th></th>\n",
       "      <th></th>\n",
       "      <th></th>\n",
       "      <th></th>\n",
       "      <th></th>\n",
       "      <th></th>\n",
       "      <th></th>\n",
       "      <th></th>\n",
       "      <th></th>\n",
       "      <th></th>\n",
       "      <th></th>\n",
       "      <th></th>\n",
       "      <th></th>\n",
       "      <th></th>\n",
       "      <th></th>\n",
       "      <th></th>\n",
       "      <th></th>\n",
       "      <th></th>\n",
       "      <th></th>\n",
       "    </tr>\n",
       "  </thead>\n",
       "  <tbody>\n",
       "    <tr>\n",
       "      <th>0-9</th>\n",
       "      <td>0</td>\n",
       "      <td>381</td>\n",
       "      <td>0</td>\n",
       "      <td>307</td>\n",
       "      <td>0</td>\n",
       "      <td>693</td>\n",
       "      <td>0</td>\n",
       "      <td>35</td>\n",
       "      <td>205</td>\n",
       "      <td>90</td>\n",
       "      <td>...</td>\n",
       "      <td>56</td>\n",
       "      <td>22</td>\n",
       "      <td>20</td>\n",
       "      <td>35</td>\n",
       "      <td>16</td>\n",
       "      <td>1</td>\n",
       "      <td>17</td>\n",
       "      <td>21</td>\n",
       "      <td>12</td>\n",
       "      <td>7</td>\n",
       "    </tr>\n",
       "    <tr>\n",
       "      <th>10-19</th>\n",
       "      <td>1</td>\n",
       "      <td>475</td>\n",
       "      <td>0</td>\n",
       "      <td>454</td>\n",
       "      <td>0</td>\n",
       "      <td>931</td>\n",
       "      <td>0</td>\n",
       "      <td>29</td>\n",
       "      <td>170</td>\n",
       "      <td>164</td>\n",
       "      <td>...</td>\n",
       "      <td>66</td>\n",
       "      <td>20</td>\n",
       "      <td>29</td>\n",
       "      <td>48</td>\n",
       "      <td>41</td>\n",
       "      <td>7</td>\n",
       "      <td>30</td>\n",
       "      <td>34</td>\n",
       "      <td>23</td>\n",
       "      <td>8</td>\n",
       "    </tr>\n",
       "    <tr>\n",
       "      <th>20-29</th>\n",
       "      <td>2</td>\n",
       "      <td>1919</td>\n",
       "      <td>4</td>\n",
       "      <td>2531</td>\n",
       "      <td>2</td>\n",
       "      <td>4530</td>\n",
       "      <td>6</td>\n",
       "      <td>311</td>\n",
       "      <td>1494</td>\n",
       "      <td>715</td>\n",
       "      <td>...</td>\n",
       "      <td>167</td>\n",
       "      <td>65</td>\n",
       "      <td>127</td>\n",
       "      <td>152</td>\n",
       "      <td>62</td>\n",
       "      <td>6</td>\n",
       "      <td>102</td>\n",
       "      <td>117</td>\n",
       "      <td>59</td>\n",
       "      <td>23</td>\n",
       "    </tr>\n",
       "    <tr>\n",
       "      <th>30-39</th>\n",
       "      <td>3</td>\n",
       "      <td>3505</td>\n",
       "      <td>22</td>\n",
       "      <td>3885</td>\n",
       "      <td>7</td>\n",
       "      <td>7466</td>\n",
       "      <td>29</td>\n",
       "      <td>479</td>\n",
       "      <td>2778</td>\n",
       "      <td>879</td>\n",
       "      <td>...</td>\n",
       "      <td>264</td>\n",
       "      <td>96</td>\n",
       "      <td>265</td>\n",
       "      <td>283</td>\n",
       "      <td>124</td>\n",
       "      <td>12</td>\n",
       "      <td>138</td>\n",
       "      <td>195</td>\n",
       "      <td>85</td>\n",
       "      <td>70</td>\n",
       "    </tr>\n",
       "    <tr>\n",
       "      <th>40-49</th>\n",
       "      <td>4</td>\n",
       "      <td>6480</td>\n",
       "      <td>81</td>\n",
       "      <td>7130</td>\n",
       "      <td>29</td>\n",
       "      <td>13701</td>\n",
       "      <td>110</td>\n",
       "      <td>1021</td>\n",
       "      <td>5436</td>\n",
       "      <td>1460</td>\n",
       "      <td>...</td>\n",
       "      <td>523</td>\n",
       "      <td>111</td>\n",
       "      <td>472</td>\n",
       "      <td>436</td>\n",
       "      <td>238</td>\n",
       "      <td>22</td>\n",
       "      <td>203</td>\n",
       "      <td>298</td>\n",
       "      <td>147</td>\n",
       "      <td>115</td>\n",
       "    </tr>\n",
       "    <tr>\n",
       "      <th>50-59</th>\n",
       "      <td>5</td>\n",
       "      <td>11149</td>\n",
       "      <td>377</td>\n",
       "      <td>9706</td>\n",
       "      <td>100</td>\n",
       "      <td>20975</td>\n",
       "      <td>479</td>\n",
       "      <td>1634</td>\n",
       "      <td>8866</td>\n",
       "      <td>2182</td>\n",
       "      <td>...</td>\n",
       "      <td>825</td>\n",
       "      <td>191</td>\n",
       "      <td>725</td>\n",
       "      <td>654</td>\n",
       "      <td>267</td>\n",
       "      <td>47</td>\n",
       "      <td>303</td>\n",
       "      <td>445</td>\n",
       "      <td>241</td>\n",
       "      <td>126</td>\n",
       "    </tr>\n",
       "    <tr>\n",
       "      <th>60-69</th>\n",
       "      <td>6</td>\n",
       "      <td>11761</td>\n",
       "      <td>1144</td>\n",
       "      <td>6254</td>\n",
       "      <td>299</td>\n",
       "      <td>18089</td>\n",
       "      <td>1448</td>\n",
       "      <td>1436</td>\n",
       "      <td>8266</td>\n",
       "      <td>1483</td>\n",
       "      <td>...</td>\n",
       "      <td>701</td>\n",
       "      <td>139</td>\n",
       "      <td>630</td>\n",
       "      <td>507</td>\n",
       "      <td>300</td>\n",
       "      <td>28</td>\n",
       "      <td>268</td>\n",
       "      <td>353</td>\n",
       "      <td>190</td>\n",
       "      <td>93</td>\n",
       "    </tr>\n",
       "    <tr>\n",
       "      <th>70-79</th>\n",
       "      <td>7</td>\n",
       "      <td>12281</td>\n",
       "      <td>3146</td>\n",
       "      <td>6868</td>\n",
       "      <td>1041</td>\n",
       "      <td>19238</td>\n",
       "      <td>4196</td>\n",
       "      <td>1551</td>\n",
       "      <td>9651</td>\n",
       "      <td>1303</td>\n",
       "      <td>...</td>\n",
       "      <td>661</td>\n",
       "      <td>96</td>\n",
       "      <td>642</td>\n",
       "      <td>450</td>\n",
       "      <td>204</td>\n",
       "      <td>13</td>\n",
       "      <td>176</td>\n",
       "      <td>271</td>\n",
       "      <td>133</td>\n",
       "      <td>79</td>\n",
       "    </tr>\n",
       "    <tr>\n",
       "      <th>80-89</th>\n",
       "      <td>8</td>\n",
       "      <td>8553</td>\n",
       "      <td>3259</td>\n",
       "      <td>7644</td>\n",
       "      <td>1767</td>\n",
       "      <td>16252</td>\n",
       "      <td>5029</td>\n",
       "      <td>1345</td>\n",
       "      <td>7631</td>\n",
       "      <td>1371</td>\n",
       "      <td>...</td>\n",
       "      <td>525</td>\n",
       "      <td>54</td>\n",
       "      <td>659</td>\n",
       "      <td>396</td>\n",
       "      <td>151</td>\n",
       "      <td>16</td>\n",
       "      <td>101</td>\n",
       "      <td>260</td>\n",
       "      <td>79</td>\n",
       "      <td>76</td>\n",
       "    </tr>\n",
       "    <tr>\n",
       "      <th>&gt;90</th>\n",
       "      <td>9</td>\n",
       "      <td>1374</td>\n",
       "      <td>558</td>\n",
       "      <td>2973</td>\n",
       "      <td>692</td>\n",
       "      <td>4356</td>\n",
       "      <td>1251</td>\n",
       "      <td>289</td>\n",
       "      <td>1553</td>\n",
       "      <td>545</td>\n",
       "      <td>...</td>\n",
       "      <td>176</td>\n",
       "      <td>10</td>\n",
       "      <td>236</td>\n",
       "      <td>123</td>\n",
       "      <td>39</td>\n",
       "      <td>7</td>\n",
       "      <td>28</td>\n",
       "      <td>78</td>\n",
       "      <td>28</td>\n",
       "      <td>34</td>\n",
       "    </tr>\n",
       "    <tr>\n",
       "      <th>Uknown</th>\n",
       "      <td>10</td>\n",
       "      <td>84</td>\n",
       "      <td>1</td>\n",
       "      <td>81</td>\n",
       "      <td>1</td>\n",
       "      <td>168</td>\n",
       "      <td>2</td>\n",
       "      <td>3</td>\n",
       "      <td>21</td>\n",
       "      <td>0</td>\n",
       "      <td>...</td>\n",
       "      <td>4</td>\n",
       "      <td>2</td>\n",
       "      <td>10</td>\n",
       "      <td>4</td>\n",
       "      <td>5</td>\n",
       "      <td>0</td>\n",
       "      <td>28</td>\n",
       "      <td>5</td>\n",
       "      <td>50</td>\n",
       "      <td>4</td>\n",
       "    </tr>\n",
       "  </tbody>\n",
       "</table>\n",
       "<p>11 rows × 25 columns</p>\n",
       "</div>"
      ],
      "text/plain": [
       "             Unnamed: 0  male_cases  male_deaths  female_cases  female_deaths  \\\n",
       "age_classes                                                                     \n",
       "0-9                   0         381            0           307              0   \n",
       "10-19                 1         475            0           454              0   \n",
       "20-29                 2        1919            4          2531              2   \n",
       "30-39                 3        3505           22          3885              7   \n",
       "40-49                 4        6480           81          7130             29   \n",
       "50-59                 5       11149          377          9706            100   \n",
       "60-69                 6       11761         1144          6254            299   \n",
       "70-79                 7       12281         3146          6868           1041   \n",
       "80-89                 8        8553         3259          7644           1767   \n",
       ">90                   9        1374          558          2973            692   \n",
       "Uknown               10          84            1            81              1   \n",
       "\n",
       "             total_cases  total_deaths  piemonte_cases  lombardia_cases  \\\n",
       "age_classes                                                               \n",
       "0-9                  693             0              35              205   \n",
       "10-19                931             0              29              170   \n",
       "20-29               4530             6             311             1494   \n",
       "30-39               7466            29             479             2778   \n",
       "40-49              13701           110            1021             5436   \n",
       "50-59              20975           479            1634             8866   \n",
       "60-69              18089          1448            1436             8266   \n",
       "70-79              19238          4196            1551             9651   \n",
       "80-89              16252          5029            1345             7631   \n",
       ">90                 4356          1251             289             1553   \n",
       "Uknown               168             2               3               21   \n",
       "\n",
       "             veneto_cases  ...  toscana_cases  umbria_cases  marche_cases  \\\n",
       "age_classes                ...                                              \n",
       "0-9                    90  ...             56            22            20   \n",
       "10-19                 164  ...             66            20            29   \n",
       "20-29                 715  ...            167            65           127   \n",
       "30-39                 879  ...            264            96           265   \n",
       "40-49                1460  ...            523           111           472   \n",
       "50-59                2182  ...            825           191           725   \n",
       "60-69                1483  ...            701           139           630   \n",
       "70-79                1303  ...            661            96           642   \n",
       "80-89                1371  ...            525            54           659   \n",
       ">90                   545  ...            176            10           236   \n",
       "Uknown                  0  ...              4             2            10   \n",
       "\n",
       "             lazio_cases  abruzzo_cases  molise_cases  campania_cases  \\\n",
       "age_classes                                                             \n",
       "0-9                   35             16             1              17   \n",
       "10-19                 48             41             7              30   \n",
       "20-29                152             62             6             102   \n",
       "30-39                283            124            12             138   \n",
       "40-49                436            238            22             203   \n",
       "50-59                654            267            47             303   \n",
       "60-69                507            300            28             268   \n",
       "70-79                450            204            13             176   \n",
       "80-89                396            151            16             101   \n",
       ">90                  123             39             7              28   \n",
       "Uknown                 4              5             0              28   \n",
       "\n",
       "             puglia_cases  sicilia_cases  sardegna_cases  \n",
       "age_classes                                               \n",
       "0-9                    21             12               7  \n",
       "10-19                  34             23               8  \n",
       "20-29                 117             59              23  \n",
       "30-39                 195             85              70  \n",
       "40-49                 298            147             115  \n",
       "50-59                 445            241             126  \n",
       "60-69                 353            190              93  \n",
       "70-79                 271            133              79  \n",
       "80-89                 260             79              76  \n",
       ">90                    78             28              34  \n",
       "Uknown                  5             50               4  \n",
       "\n",
       "[11 rows x 25 columns]"
      ]
     },
     "execution_count": 79,
     "metadata": {},
     "output_type": "execute_result"
    }
   ],
   "source": [
    "#import Datasets\n",
    "covid_age = pd.read_csv('Data/covid-age.csv',index_col = 'age_classes')\n",
    "covid_age"
   ]
  },
  {
   "cell_type": "code",
   "execution_count": 83,
   "metadata": {},
   "outputs": [],
   "source": [
    "#Drop two first columns\n",
    "covid_age.drop(covid_age.iloc[:,0:1],axis = 1,inplace = True)"
   ]
  },
  {
   "cell_type": "code",
   "execution_count": 84,
   "metadata": {},
   "outputs": [],
   "source": [
    "#Age distribution of total cases\n",
    "cases = covid_age.groupby(['age_classes'])[('total_cases','male_cases','female_cases')].agg(sum).reset_index()"
   ]
  },
  {
   "cell_type": "code",
   "execution_count": 85,
   "metadata": {},
   "outputs": [],
   "source": [
    "#Age distribution of total Deaths\n",
    "\n",
    "deaths= covid_age.groupby(['age_classes'])[('total_deaths','male_deaths','female_deaths')].agg(sum).reset_index()"
   ]
  },
  {
   "cell_type": "code",
   "execution_count": 182,
   "metadata": {},
   "outputs": [
    {
     "data": {
      "image/png": "[encoded data removed]",
      "text/plain": [
       "<Figure size 864x432 with 1 Axes>"
      ]
     },
     "metadata": {
      "needs_background": "light"
     },
     "output_type": "display_data"
    }
   ],
   "source": [
    "# Plot data\n",
    "fig, ax = plt.subplots(figsize=(12,6))\n",
    "plt.title(\"Age distribution of Confirmed Cases\")\n",
    "sns.barplot(ax = ax,\n",
    "            data = cases,\n",
    "            x = 'age_classes',\n",
    "            y = 'total_cases')\n",
    "plt.show()"
   ]
  },
  {
   "cell_type": "markdown",
   "metadata": {},
   "source": [
    "The plot aboves clearly shows that irrespective of gender,most confirmed COVID-19 cases occur among people advanced in age."
   ]
  },
  {
   "cell_type": "code",
   "execution_count": 181,
   "metadata": {},
   "outputs": [
    {
     "data": {
      "text/plain": [
       "<Figure size 432x288 with 0 Axes>"
      ]
     },
     "metadata": {},
     "output_type": "display_data"
    },
    {
     "data": {
      "image/png": "[encoded data removed]",
      "text/plain": [
       "<Figure size 962.125x576 with 1 Axes>"
      ]
     },
     "metadata": {
      "needs_background": "light"
     },
     "output_type": "display_data"
    }
   ],
   "source": [
    "#Manipulate data to obtain a ngender based plot \n",
    "df_melt = pd.melt(cases, value_vars = (\"male_cases\",\"female_cases\"),id_vars = \"age_classes\")\n",
    "\n",
    "fig = plt.figure()\n",
    "sns.factorplot(x = 'age_classes', y='value', hue = 'variable',data=df_melt, kind='bar',height=8, aspect=1.5 )\n",
    "\n",
    "plt.show()"
   ]
  },
  {
   "cell_type": "markdown",
   "metadata": {},
   "source": [
    "Based on gender males tend to dominate in the number of confirmed cases."
   ]
  },
  {
   "cell_type": "code",
   "execution_count": 183,
   "metadata": {},
   "outputs": [
    {
     "data": {
      "application/vnd.plotly.v1+json": {
       "config": {
        "plotlyServerURL": "https://plot.ly"
       },
       "data": [
        {
         "domain": {
          "x": [
           0,
           0.45
          ],
          "y": [
           0,
           1
          ]
         },
         "labels": [
          "0-9",
          "10-19",
          "20-29",
          "30-39",
          "40-49",
          "50-59",
          "60-69",
          "70-79",
          "80-89",
          ">90",
          "Uknown"
         ],
         "name": "Male: Confirmed cases",
         "type": "pie",
         "values": [
          381,
          475,
          1919,
          3505,
          6480,
          11149,
          11761,
          12281,
          8553,
          1374,
          84
         ]
        },
        {
         "domain": {
          "x": [
           0.55,
           1
          ],
          "y": [
           0,
           1
          ]
         },
         "labels": [
          "0-9",
          "10-19",
          "20-29",
          "30-39",
          "40-49",
          "50-59",
          "60-69",
          "70-79",
          "80-89",
          ">90",
          "Uknown"
         ],
         "name": "Female: Confirmed cases",
         "type": "pie",
         "values": [
          307,
          454,
          2531,
          3885,
          7130,
          9706,
          6254,
          6868,
          7644,
          2973,
          81
         ]
        }
       ],
       "layout": {
        "annotations": [
         {
          "font": {
           "size": 16
          },
          "showarrow": false,
          "text": "Ratio of confrmed and death cases based on gender",
          "x": 0.5,
          "xanchor": "center",
          "xref": "paper",
          "y": 0,
          "yanchor": "top",
          "yref": "paper",
          "yshift": -30
         }
        ],
        "template": {
         "data": {
          "bar": [
           {
            "error_x": {
             "color": "#2a3f5f"
            },
            "error_y": {
             "color": "#2a3f5f"
            },
            "marker": {
             "line": {
              "color": "#E5ECF6",
              "width": 0.5
             }
            },
            "type": "bar"
           }
          ],
          "barpolar": [
           {
            "marker": {
             "line": {
              "color": "#E5ECF6",
              "width": 0.5
             }
            },
            "type": "barpolar"
           }
          ],
          "carpet": [
           {
            "aaxis": {
             "endlinecolor": "#2a3f5f",
             "gridcolor": "white",
             "linecolor": "white",
             "minorgridcolor": "white",
             "startlinecolor": "#2a3f5f"
            },
            "baxis": {
             "endlinecolor": "#2a3f5f",
             "gridcolor": "white",
             "linecolor": "white",
             "minorgridcolor": "white",
             "startlinecolor": "#2a3f5f"
            },
            "type": "carpet"
           }
          ],
          "choropleth": [
           {
            "colorbar": {
             "outlinewidth": 0,
             "ticks": ""
            },
            "type": "choropleth"
           }
          ],
          "contour": [
           {
            "colorbar": {
             "outlinewidth": 0,
             "ticks": ""
            },
            "colorscale": [
             [
              0,
              "#0d0887"
             ],
             [
              0.1111111111111111,
              "#46039f"
             ],
             [
              0.2222222222222222,
              "#7201a8"
             ],
             [
              0.3333333333333333,
              "#9c179e"
             ],
             [
              0.4444444444444444,
              "#bd3786"
             ],
             [
              0.5555555555555556,
              "#d8576b"
             ],
             [
              0.6666666666666666,
              "#ed7953"
             ],
             [
              0.7777777777777778,
              "#fb9f3a"
             ],
             [
              0.8888888888888888,
              "#fdca26"
             ],
             [
              1,
              "#f0f921"
             ]
            ],
            "type": "contour"
           }
          ],
          "contourcarpet": [
           {
            "colorbar": {
             "outlinewidth": 0,
             "ticks": ""
            },
            "type": "contourcarpet"
           }
          ],
          "heatmap": [
           {
            "colorbar": {
             "outlinewidth": 0,
             "ticks": ""
            },
            "colorscale": [
             [
              0,
              "#0d0887"
             ],
             [
              0.1111111111111111,
              "#46039f"
             ],
             [
              0.2222222222222222,
              "#7201a8"
             ],
             [
              0.3333333333333333,
              "#9c179e"
             ],
             [
              0.4444444444444444,
              "#bd3786"
             ],
             [
              0.5555555555555556,
              "#d8576b"
             ],
             [
              0.6666666666666666,
              "#ed7953"
             ],
             [
              0.7777777777777778,
              "#fb9f3a"
             ],
             [
              0.8888888888888888,
              "#fdca26"
             ],
             [
              1,
              "#f0f921"
             ]
            ],
            "type": "heatmap"
           }
          ],
          "heatmapgl": [
           {
            "colorbar": {
             "outlinewidth": 0,
             "ticks": ""
            },
            "colorscale": [
             [
              0,
              "#0d0887"
             ],
             [
              0.1111111111111111,
              "#46039f"
             ],
             [
              0.2222222222222222,
              "#7201a8"
             ],
             [
              0.3333333333333333,
              "#9c179e"
             ],
             [
              0.4444444444444444,
              "#bd3786"
             ],
             [
              0.5555555555555556,
              "#d8576b"
             ],
             [
              0.6666666666666666,
              "#ed7953"
             ],
             [
              0.7777777777777778,
              "#fb9f3a"
             ],
             [
              0.8888888888888888,
              "#fdca26"
             ],
             [
              1,
              "#f0f921"
             ]
            ],
            "type": "heatmapgl"
           }
          ],
          "histogram": [
           {
            "marker": {
             "colorbar": {
              "outlinewidth": 0,
              "ticks": ""
             }
            },
            "type": "histogram"
           }
          ],
          "histogram2d": [
           {
            "colorbar": {
             "outlinewidth": 0,
             "ticks": ""
            },
            "colorscale": [
             [
              0,
              "#0d0887"
             ],
             [
              0.1111111111111111,
              "#46039f"
             ],
             [
              0.2222222222222222,
              "#7201a8"
             ],
             [
              0.3333333333333333,
              "#9c179e"
             ],
             [
              0.4444444444444444,
              "#bd3786"
             ],
             [
              0.5555555555555556,
              "#d8576b"
             ],
             [
              0.6666666666666666,
              "#ed7953"
             ],
             [
              0.7777777777777778,
              "#fb9f3a"
             ],
             [
              0.8888888888888888,
              "#fdca26"
             ],
             [
              1,
              "#f0f921"
             ]
            ],
            "type": "histogram2d"
           }
          ],
          "histogram2dcontour": [
           {
            "colorbar": {
             "outlinewidth": 0,
             "ticks": ""
            },
            "colorscale": [
             [
              0,
              "#0d0887"
             ],
             [
              0.1111111111111111,
              "#46039f"
             ],
             [
              0.2222222222222222,
              "#7201a8"
             ],
             [
              0.3333333333333333,
              "#9c179e"
             ],
             [
              0.4444444444444444,
              "#bd3786"
             ],
             [
              0.5555555555555556,
              "#d8576b"
             ],
             [
              0.6666666666666666,
              "#ed7953"
             ],
             [
              0.7777777777777778,
              "#fb9f3a"
             ],
             [
              0.8888888888888888,
              "#fdca26"
             ],
             [
              1,
              "#f0f921"
             ]
            ],
            "type": "histogram2dcontour"
           }
          ],
          "mesh3d": [
           {
            "colorbar": {
             "outlinewidth": 0,
             "ticks": ""
            },
            "type": "mesh3d"
           }
          ],
          "parcoords": [
           {
            "line": {
             "colorbar": {
              "outlinewidth": 0,
              "ticks": ""
             }
            },
            "type": "parcoords"
           }
          ],
          "pie": [
           {
            "automargin": true,
            "type": "pie"
           }
          ],
          "scatter": [
           {
            "marker": {
             "colorbar": {
              "outlinewidth": 0,
              "ticks": ""
             }
            },
            "type": "scatter"
           }
          ],
          "scatter3d": [
           {
            "line": {
             "colorbar": {
              "outlinewidth": 0,
              "ticks": ""
             }
            },
            "marker": {
             "colorbar": {
              "outlinewidth": 0,
              "ticks": ""
             }
            },
            "type": "scatter3d"
           }
          ],
          "scattercarpet": [
           {
            "marker": {
             "colorbar": {
              "outlinewidth": 0,
              "ticks": ""
             }
            },
            "type": "scattercarpet"
           }
          ],
          "scattergeo": [
           {
            "marker": {
             "colorbar": {
              "outlinewidth": 0,
              "ticks": ""
             }
            },
            "type": "scattergeo"
           }
          ],
          "scattergl": [
           {
            "marker": {
             "colorbar": {
              "outlinewidth": 0,
              "ticks": ""
             }
            },
            "type": "scattergl"
           }
          ],
          "scattermapbox": [
           {
            "marker": {
             "colorbar": {
              "outlinewidth": 0,
              "ticks": ""
             }
            },
            "type": "scattermapbox"
           }
          ],
          "scatterpolar": [
           {
            "marker": {
             "colorbar": {
              "outlinewidth": 0,
              "ticks": ""
             }
            },
            "type": "scatterpolar"
           }
          ],
          "scatterpolargl": [
           {
            "marker": {
             "colorbar": {
              "outlinewidth": 0,
              "ticks": ""
             }
            },
            "type": "scatterpolargl"
           }
          ],
          "scatterternary": [
           {
            "marker": {
             "colorbar": {
              "outlinewidth": 0,
              "ticks": ""
             }
            },
            "type": "scatterternary"
           }
          ],
          "surface": [
           {
            "colorbar": {
             "outlinewidth": 0,
             "ticks": ""
            },
            "colorscale": [
             [
              0,
              "#0d0887"
             ],
             [
              0.1111111111111111,
              "#46039f"
             ],
             [
              0.2222222222222222,
              "#7201a8"
             ],
             [
              0.3333333333333333,
              "#9c179e"
             ],
             [
              0.4444444444444444,
              "#bd3786"
             ],
             [
              0.5555555555555556,
              "#d8576b"
             ],
             [
              0.6666666666666666,
              "#ed7953"
             ],
             [
              0.7777777777777778,
              "#fb9f3a"
             ],
             [
              0.8888888888888888,
              "#fdca26"
             ],
             [
              1,
              "#f0f921"
             ]
            ],
            "type": "surface"
           }
          ],
          "table": [
           {
            "cells": {
             "fill": {
              "color": "#EBF0F8"
             },
             "line": {
              "color": "white"
             }
            },
            "header": {
             "fill": {
              "color": "#C8D4E3"
             },
             "line": {
              "color": "white"
             }
            },
            "type": "table"
           }
          ]
         },
         "layout": {
          "annotationdefaults": {
           "arrowcolor": "#2a3f5f",
           "arrowhead": 0,
           "arrowwidth": 1
          },
          "coloraxis": {
           "colorbar": {
            "outlinewidth": 0,
            "ticks": ""
           }
          },
          "colorscale": {
           "diverging": [
            [
             0,
             "#8e0152"
            ],
            [
             0.1,
             "#c51b7d"
            ],
            [
             0.2,
             "#de77ae"
            ],
            [
             0.3,
             "#f1b6da"
            ],
            [
             0.4,
             "#fde0ef"
            ],
            [
             0.5,
             "#f7f7f7"
            ],
            [
             0.6,
             "#e6f5d0"
            ],
            [
             0.7,
             "#b8e186"
            ],
            [
             0.8,
             "#7fbc41"
            ],
            [
             0.9,
             "#4d9221"
            ],
            [
             1,
             "#276419"
            ]
           ],
           "sequential": [
            [
             0,
             "#0d0887"
            ],
            [
             0.1111111111111111,
             "#46039f"
            ],
            [
             0.2222222222222222,
             "#7201a8"
            ],
            [
             0.3333333333333333,
             "#9c179e"
            ],
            [
             0.4444444444444444,
             "#bd3786"
            ],
            [
             0.5555555555555556,
             "#d8576b"
            ],
            [
             0.6666666666666666,
             "#ed7953"
            ],
            [
             0.7777777777777778,
             "#fb9f3a"
            ],
            [
             0.8888888888888888,
             "#fdca26"
            ],
            [
             1,
             "#f0f921"
            ]
           ],
           "sequentialminus": [
            [
             0,
             "#0d0887"
            ],
            [
             0.1111111111111111,
             "#46039f"
            ],
            [
             0.2222222222222222,
             "#7201a8"
            ],
            [
             0.3333333333333333,
             "#9c179e"
            ],
            [
             0.4444444444444444,
             "#bd3786"
            ],
            [
             0.5555555555555556,
             "#d8576b"
            ],
            [
             0.6666666666666666,
             "#ed7953"
            ],
            [
             0.7777777777777778,
             "#fb9f3a"
            ],
            [
             0.8888888888888888,
             "#fdca26"
            ],
            [
             1,
             "#f0f921"
            ]
           ]
          },
          "colorway": [
           "#636efa",
           "#EF553B",
           "#00cc96",
           "#ab63fa",
           "#FFA15A",
           "#19d3f3",
           "#FF6692",
           "#B6E880",
           "#FF97FF",
           "#FECB52"
          ],
          "font": {
           "color": "#2a3f5f"
          },
          "geo": {
           "bgcolor": "white",
           "lakecolor": "white",
           "landcolor": "#E5ECF6",
           "showlakes": true,
           "showland": true,
           "subunitcolor": "white"
          },
          "hoverlabel": {
           "align": "left"
          },
          "hovermode": "closest",
          "mapbox": {
           "style": "light"
          },
          "paper_bgcolor": "white",
          "plot_bgcolor": "#E5ECF6",
          "polar": {
           "angularaxis": {
            "gridcolor": "white",
            "linecolor": "white",
            "ticks": ""
           },
           "bgcolor": "#E5ECF6",
           "radialaxis": {
            "gridcolor": "white",
            "linecolor": "white",
            "ticks": ""
           }
          },
          "scene": {
           "xaxis": {
            "backgroundcolor": "#E5ECF6",
            "gridcolor": "white",
            "gridwidth": 2,
            "linecolor": "white",
            "showbackground": true,
            "ticks": "",
            "zerolinecolor": "white"
           },
           "yaxis": {
            "backgroundcolor": "#E5ECF6",
            "gridcolor": "white",
            "gridwidth": 2,
            "linecolor": "white",
            "showbackground": true,
            "ticks": "",
            "zerolinecolor": "white"
           },
           "zaxis": {
            "backgroundcolor": "#E5ECF6",
            "gridcolor": "white",
            "gridwidth": 2,
            "linecolor": "white",
            "showbackground": true,
            "ticks": "",
            "zerolinecolor": "white"
           }
          },
          "shapedefaults": {
           "line": {
            "color": "#2a3f5f"
           }
          },
          "ternary": {
           "aaxis": {
            "gridcolor": "white",
            "linecolor": "white",
            "ticks": ""
           },
           "baxis": {
            "gridcolor": "white",
            "linecolor": "white",
            "ticks": ""
           },
           "bgcolor": "#E5ECF6",
           "caxis": {
            "gridcolor": "white",
            "linecolor": "white",
            "ticks": ""
           }
          },
          "title": {
           "x": 0.05
          },
          "xaxis": {
           "automargin": true,
           "gridcolor": "white",
           "linecolor": "white",
           "ticks": "",
           "title": {
            "standoff": 15
           },
           "zerolinecolor": "white",
           "zerolinewidth": 2
          },
          "yaxis": {
           "automargin": true,
           "gridcolor": "white",
           "linecolor": "white",
           "ticks": "",
           "title": {
            "standoff": 15
           },
           "zerolinecolor": "white",
           "zerolinewidth": 2
          }
         }
        }
       }
      },
      "text/html": [
       "<div>\n",
       "        \n",
       "        \n",
       "            <div id=\"7b2a7054-4f81-4a2d-8902-7932275e6b62\" class=\"plotly-graph-div\" style=\"height:525px; width:100%;\"></div>\n",
       "            <script type=\"text/javascript\">\n",
       "                require([\"plotly\"], function(Plotly) {\n",
       "                    window.PLOTLYENV=window.PLOTLYENV || {};\n",
       "                    \n",
       "                if (document.getElementById(\"7b2a7054-4f81-4a2d-8902-7932275e6b62\")) {\n",
       "                    Plotly.newPlot(\n",
       "                        '7b2a7054-4f81-4a2d-8902-7932275e6b62',\n",
       "                        [{\"domain\": {\"x\": [0.0, 0.45], \"y\": [0.0, 1.0]}, \"labels\": [\"0-9\", \"10-19\", \"20-29\", \"30-39\", \"40-49\", \"50-59\", \"60-69\", \"70-79\", \"80-89\", \">90\", \"Uknown\"], \"name\": \"Male: Confirmed cases\", \"type\": \"pie\", \"values\": [381, 475, 1919, 3505, 6480, 11149, 11761, 12281, 8553, 1374, 84]}, {\"domain\": {\"x\": [0.55, 1.0], \"y\": [0.0, 1.0]}, \"labels\": [\"0-9\", \"10-19\", \"20-29\", \"30-39\", \"40-49\", \"50-59\", \"60-69\", \"70-79\", \"80-89\", \">90\", \"Uknown\"], \"name\": \"Female: Confirmed cases\", \"type\": \"pie\", \"values\": [307, 454, 2531, 3885, 7130, 9706, 6254, 6868, 7644, 2973, 81]}],\n",
       "                        {\"annotations\": [{\"font\": {\"size\": 16}, \"showarrow\": false, \"text\": \"Ratio of confrmed and death cases based on gender\", \"x\": 0.5, \"xanchor\": \"center\", \"xref\": \"paper\", \"y\": 0, \"yanchor\": \"top\", \"yref\": \"paper\", \"yshift\": -30}], \"template\": {\"data\": {\"bar\": [{\"error_x\": {\"color\": \"#2a3f5f\"}, \"error_y\": {\"color\": \"#2a3f5f\"}, \"marker\": {\"line\": {\"color\": \"#E5ECF6\", \"width\": 0.5}}, \"type\": \"bar\"}], \"barpolar\": [{\"marker\": {\"line\": {\"color\": \"#E5ECF6\", \"width\": 0.5}}, \"type\": \"barpolar\"}], \"carpet\": [{\"aaxis\": {\"endlinecolor\": \"#2a3f5f\", \"gridcolor\": \"white\", \"linecolor\": \"white\", \"minorgridcolor\": \"white\", \"startlinecolor\": \"#2a3f5f\"}, \"baxis\": {\"endlinecolor\": \"#2a3f5f\", \"gridcolor\": \"white\", \"linecolor\": \"white\", \"minorgridcolor\": \"white\", \"startlinecolor\": \"#2a3f5f\"}, \"type\": \"carpet\"}], \"choropleth\": [{\"colorbar\": {\"outlinewidth\": 0, \"ticks\": \"\"}, \"type\": \"choropleth\"}], \"contour\": [{\"colorbar\": {\"outlinewidth\": 0, \"ticks\": \"\"}, \"colorscale\": [[0.0, \"#0d0887\"], [0.1111111111111111, \"#46039f\"], [0.2222222222222222, \"#7201a8\"], [0.3333333333333333, \"#9c179e\"], [0.4444444444444444, \"#bd3786\"], [0.5555555555555556, \"#d8576b\"], [0.6666666666666666, \"#ed7953\"], [0.7777777777777778, \"#fb9f3a\"], [0.8888888888888888, \"#fdca26\"], [1.0, \"#f0f921\"]], \"type\": \"contour\"}], \"contourcarpet\": [{\"colorbar\": {\"outlinewidth\": 0, \"ticks\": \"\"}, \"type\": \"contourcarpet\"}], \"heatmap\": [{\"colorbar\": {\"outlinewidth\": 0, \"ticks\": \"\"}, \"colorscale\": [[0.0, \"#0d0887\"], [0.1111111111111111, \"#46039f\"], [0.2222222222222222, \"#7201a8\"], [0.3333333333333333, \"#9c179e\"], [0.4444444444444444, \"#bd3786\"], [0.5555555555555556, \"#d8576b\"], [0.6666666666666666, \"#ed7953\"], [0.7777777777777778, \"#fb9f3a\"], [0.8888888888888888, \"#fdca26\"], [1.0, \"#f0f921\"]], \"type\": \"heatmap\"}], \"heatmapgl\": [{\"colorbar\": {\"outlinewidth\": 0, \"ticks\": \"\"}, \"colorscale\": [[0.0, \"#0d0887\"], [0.1111111111111111, \"#46039f\"], [0.2222222222222222, \"#7201a8\"], [0.3333333333333333, \"#9c179e\"], [0.4444444444444444, \"#bd3786\"], [0.5555555555555556, \"#d8576b\"], [0.6666666666666666, \"#ed7953\"], [0.7777777777777778, \"#fb9f3a\"], [0.8888888888888888, \"#fdca26\"], [1.0, \"#f0f921\"]], \"type\": \"heatmapgl\"}], \"histogram\": [{\"marker\": {\"colorbar\": {\"outlinewidth\": 0, \"ticks\": \"\"}}, \"type\": \"histogram\"}], \"histogram2d\": [{\"colorbar\": {\"outlinewidth\": 0, \"ticks\": \"\"}, \"colorscale\": [[0.0, \"#0d0887\"], [0.1111111111111111, \"#46039f\"], [0.2222222222222222, \"#7201a8\"], [0.3333333333333333, \"#9c179e\"], [0.4444444444444444, \"#bd3786\"], [0.5555555555555556, \"#d8576b\"], [0.6666666666666666, \"#ed7953\"], [0.7777777777777778, \"#fb9f3a\"], [0.8888888888888888, \"#fdca26\"], [1.0, \"#f0f921\"]], \"type\": \"histogram2d\"}], \"histogram2dcontour\": [{\"colorbar\": {\"outlinewidth\": 0, \"ticks\": \"\"}, \"colorscale\": [[0.0, \"#0d0887\"], [0.1111111111111111, \"#46039f\"], [0.2222222222222222, \"#7201a8\"], [0.3333333333333333, \"#9c179e\"], [0.4444444444444444, \"#bd3786\"], [0.5555555555555556, \"#d8576b\"], [0.6666666666666666, \"#ed7953\"], [0.7777777777777778, \"#fb9f3a\"], [0.8888888888888888, \"#fdca26\"], [1.0, \"#f0f921\"]], \"type\": \"histogram2dcontour\"}], \"mesh3d\": [{\"colorbar\": {\"outlinewidth\": 0, \"ticks\": \"\"}, \"type\": \"mesh3d\"}], \"parcoords\": [{\"line\": {\"colorbar\": {\"outlinewidth\": 0, \"ticks\": \"\"}}, \"type\": \"parcoords\"}], \"pie\": [{\"automargin\": true, \"type\": \"pie\"}], \"scatter\": [{\"marker\": {\"colorbar\": {\"outlinewidth\": 0, \"ticks\": \"\"}}, \"type\": \"scatter\"}], \"scatter3d\": [{\"line\": {\"colorbar\": {\"outlinewidth\": 0, \"ticks\": \"\"}}, \"marker\": {\"colorbar\": {\"outlinewidth\": 0, \"ticks\": \"\"}}, \"type\": \"scatter3d\"}], \"scattercarpet\": [{\"marker\": {\"colorbar\": {\"outlinewidth\": 0, \"ticks\": \"\"}}, \"type\": \"scattercarpet\"}], \"scattergeo\": [{\"marker\": {\"colorbar\": {\"outlinewidth\": 0, \"ticks\": \"\"}}, \"type\": \"scattergeo\"}], \"scattergl\": [{\"marker\": {\"colorbar\": {\"outlinewidth\": 0, \"ticks\": \"\"}}, \"type\": \"scattergl\"}], \"scattermapbox\": [{\"marker\": {\"colorbar\": {\"outlinewidth\": 0, \"ticks\": \"\"}}, \"type\": \"scattermapbox\"}], \"scatterpolar\": [{\"marker\": {\"colorbar\": {\"outlinewidth\": 0, \"ticks\": \"\"}}, \"type\": \"scatterpolar\"}], \"scatterpolargl\": [{\"marker\": {\"colorbar\": {\"outlinewidth\": 0, \"ticks\": \"\"}}, \"type\": \"scatterpolargl\"}], \"scatterternary\": [{\"marker\": {\"colorbar\": {\"outlinewidth\": 0, \"ticks\": \"\"}}, \"type\": \"scatterternary\"}], \"surface\": [{\"colorbar\": {\"outlinewidth\": 0, \"ticks\": \"\"}, \"colorscale\": [[0.0, \"#0d0887\"], [0.1111111111111111, \"#46039f\"], [0.2222222222222222, \"#7201a8\"], [0.3333333333333333, \"#9c179e\"], [0.4444444444444444, \"#bd3786\"], [0.5555555555555556, \"#d8576b\"], [0.6666666666666666, \"#ed7953\"], [0.7777777777777778, \"#fb9f3a\"], [0.8888888888888888, \"#fdca26\"], [1.0, \"#f0f921\"]], \"type\": \"surface\"}], \"table\": [{\"cells\": {\"fill\": {\"color\": \"#EBF0F8\"}, \"line\": {\"color\": \"white\"}}, \"header\": {\"fill\": {\"color\": \"#C8D4E3\"}, \"line\": {\"color\": \"white\"}}, \"type\": \"table\"}]}, \"layout\": {\"annotationdefaults\": {\"arrowcolor\": \"#2a3f5f\", \"arrowhead\": 0, \"arrowwidth\": 1}, \"coloraxis\": {\"colorbar\": {\"outlinewidth\": 0, \"ticks\": \"\"}}, \"colorscale\": {\"diverging\": [[0, \"#8e0152\"], [0.1, \"#c51b7d\"], [0.2, \"#de77ae\"], [0.3, \"#f1b6da\"], [0.4, \"#fde0ef\"], [0.5, \"#f7f7f7\"], [0.6, \"#e6f5d0\"], [0.7, \"#b8e186\"], [0.8, \"#7fbc41\"], [0.9, \"#4d9221\"], [1, \"#276419\"]], \"sequential\": [[0.0, \"#0d0887\"], [0.1111111111111111, \"#46039f\"], [0.2222222222222222, \"#7201a8\"], [0.3333333333333333, \"#9c179e\"], [0.4444444444444444, \"#bd3786\"], [0.5555555555555556, \"#d8576b\"], [0.6666666666666666, \"#ed7953\"], [0.7777777777777778, \"#fb9f3a\"], [0.8888888888888888, \"#fdca26\"], [1.0, \"#f0f921\"]], \"sequentialminus\": [[0.0, \"#0d0887\"], [0.1111111111111111, \"#46039f\"], [0.2222222222222222, \"#7201a8\"], [0.3333333333333333, \"#9c179e\"], [0.4444444444444444, \"#bd3786\"], [0.5555555555555556, \"#d8576b\"], [0.6666666666666666, \"#ed7953\"], [0.7777777777777778, \"#fb9f3a\"], [0.8888888888888888, \"#fdca26\"], [1.0, \"#f0f921\"]]}, \"colorway\": [\"#636efa\", \"#EF553B\", \"#00cc96\", \"#ab63fa\", \"#FFA15A\", \"#19d3f3\", \"#FF6692\", \"#B6E880\", \"#FF97FF\", \"#FECB52\"], \"font\": {\"color\": \"#2a3f5f\"}, \"geo\": {\"bgcolor\": \"white\", \"lakecolor\": \"white\", \"landcolor\": \"#E5ECF6\", \"showlakes\": true, \"showland\": true, \"subunitcolor\": \"white\"}, \"hoverlabel\": {\"align\": \"left\"}, \"hovermode\": \"closest\", \"mapbox\": {\"style\": \"light\"}, \"paper_bgcolor\": \"white\", \"plot_bgcolor\": \"#E5ECF6\", \"polar\": {\"angularaxis\": {\"gridcolor\": \"white\", \"linecolor\": \"white\", \"ticks\": \"\"}, \"bgcolor\": \"#E5ECF6\", \"radialaxis\": {\"gridcolor\": \"white\", \"linecolor\": \"white\", \"ticks\": \"\"}}, \"scene\": {\"xaxis\": {\"backgroundcolor\": \"#E5ECF6\", \"gridcolor\": \"white\", \"gridwidth\": 2, \"linecolor\": \"white\", \"showbackground\": true, \"ticks\": \"\", \"zerolinecolor\": \"white\"}, \"yaxis\": {\"backgroundcolor\": \"#E5ECF6\", \"gridcolor\": \"white\", \"gridwidth\": 2, \"linecolor\": \"white\", \"showbackground\": true, \"ticks\": \"\", \"zerolinecolor\": \"white\"}, \"zaxis\": {\"backgroundcolor\": \"#E5ECF6\", \"gridcolor\": \"white\", \"gridwidth\": 2, \"linecolor\": \"white\", \"showbackground\": true, \"ticks\": \"\", \"zerolinecolor\": \"white\"}}, \"shapedefaults\": {\"line\": {\"color\": \"#2a3f5f\"}}, \"ternary\": {\"aaxis\": {\"gridcolor\": \"white\", \"linecolor\": \"white\", \"ticks\": \"\"}, \"baxis\": {\"gridcolor\": \"white\", \"linecolor\": \"white\", \"ticks\": \"\"}, \"bgcolor\": \"#E5ECF6\", \"caxis\": {\"gridcolor\": \"white\", \"linecolor\": \"white\", \"ticks\": \"\"}}, \"title\": {\"x\": 0.05}, \"xaxis\": {\"automargin\": true, \"gridcolor\": \"white\", \"linecolor\": \"white\", \"ticks\": \"\", \"title\": {\"standoff\": 15}, \"zerolinecolor\": \"white\", \"zerolinewidth\": 2}, \"yaxis\": {\"automargin\": true, \"gridcolor\": \"white\", \"linecolor\": \"white\", \"ticks\": \"\", \"title\": {\"standoff\": 15}, \"zerolinecolor\": \"white\", \"zerolinewidth\": 2}}}},\n",
       "                        {\"responsive\": true}\n",
       "                    ).then(function(){\n",
       "                            \n",
       "var gd = document.getElementById('7b2a7054-4f81-4a2d-8902-7932275e6b62');\n",
       "var x = new MutationObserver(function (mutations, observer) {{\n",
       "        var display = window.getComputedStyle(gd).display;\n",
       "        if (!display || display === 'none') {{\n",
       "            console.log([gd, 'removed!']);\n",
       "            Plotly.purge(gd);\n",
       "            observer.disconnect();\n",
       "        }}\n",
       "}});\n",
       "\n",
       "// Listen for the removal of the full notebook cells\n",
       "var notebookContainer = gd.closest('#notebook-container');\n",
       "if (notebookContainer) {{\n",
       "    x.observe(notebookContainer, {childList: true});\n",
       "}}\n",
       "\n",
       "// Listen for the clearing of the current output cell\n",
       "var outputEl = gd.closest('.output');\n",
       "if (outputEl) {{\n",
       "    x.observe(outputEl, {childList: true});\n",
       "}}\n",
       "\n",
       "                        })\n",
       "                };\n",
       "                });\n",
       "            </script>\n",
       "        </div>"
      ]
     },
     "metadata": {},
     "output_type": "display_data"
    }
   ],
   "source": [
    "#Piecharts comparing Confirmed and Death cases\n",
    "\n",
    "fig = make_subplots(rows=1, cols=2, specs=[[{\"type\": \"pie\"}, {\"type\": \"pie\"}]],\n",
    "                   x_title='Ratio of confrmed and death cases based on gender')\n",
    "\n",
    "\n",
    "fig.add_trace(go.Pie(\n",
    "     values=cases['male_cases'],\n",
    "     labels=cases['age_classes'],\n",
    "     domain=dict(x=[0,0.5]),\n",
    "     name='Male: Confirmed cases'), \n",
    "     row=1, col=1)\n",
    "\n",
    "fig.add_trace(go.Pie(\n",
    "     values=cases['female_cases'],\n",
    "     labels=cases['age_classes'],\n",
    "     domain=dict(x=[0.5,1.0]),\n",
    "     name='Female: Confirmed cases'), \n",
    "    row=1, col=2)\n",
    "\n",
    "fig.show()"
   ]
  },
  {
   "cell_type": "markdown",
   "metadata": {},
   "source": [
    "**Second Dataset**\n",
    "\n",
    "Pre-existing chronic patologies observed in patients deceased by COVID19 . Last 4 rows are records of patients deceased and detection on how comorbidities they have. "
   ]
  },
  {
   "cell_type": "code",
   "execution_count": 319,
   "metadata": {
    "scrolled": false
   },
   "outputs": [
    {
     "data": {
      "text/html": [
       "<div>\n",
       "<style scoped>\n",
       "    .dataframe tbody tr th:only-of-type {\n",
       "        vertical-align: middle;\n",
       "    }\n",
       "\n",
       "    .dataframe tbody tr th {\n",
       "        vertical-align: top;\n",
       "    }\n",
       "\n",
       "    .dataframe thead th {\n",
       "        text-align: right;\n",
       "    }\n",
       "</style>\n",
       "<table border=\"1\" class=\"dataframe\">\n",
       "  <thead>\n",
       "    <tr style=\"text-align: right;\">\n",
       "      <th></th>\n",
       "      <th>Unnamed: 0</th>\n",
       "      <th>Disease</th>\n",
       "      <th>Men</th>\n",
       "      <th>Women</th>\n",
       "      <th>Total</th>\n",
       "    </tr>\n",
       "  </thead>\n",
       "  <tbody>\n",
       "    <tr>\n",
       "      <th>0</th>\n",
       "      <td>0</td>\n",
       "      <td>Ischemic heart disease</td>\n",
       "      <td>64</td>\n",
       "      <td>238</td>\n",
       "      <td>302</td>\n",
       "    </tr>\n",
       "    <tr>\n",
       "      <th>1</th>\n",
       "      <td>1</td>\n",
       "      <td>Atrial Fibrillation</td>\n",
       "      <td>84</td>\n",
       "      <td>165</td>\n",
       "      <td>249</td>\n",
       "    </tr>\n",
       "    <tr>\n",
       "      <th>2</th>\n",
       "      <td>2</td>\n",
       "      <td>Heart Failure</td>\n",
       "      <td>78</td>\n",
       "      <td>108</td>\n",
       "      <td>186</td>\n",
       "    </tr>\n",
       "    <tr>\n",
       "      <th>3</th>\n",
       "      <td>3</td>\n",
       "      <td>Stroke</td>\n",
       "      <td>37</td>\n",
       "      <td>90</td>\n",
       "      <td>127</td>\n",
       "    </tr>\n",
       "    <tr>\n",
       "      <th>4</th>\n",
       "      <td>4</td>\n",
       "      <td>Hypertension</td>\n",
       "      <td>251</td>\n",
       "      <td>543</td>\n",
       "      <td>794</td>\n",
       "    </tr>\n",
       "    <tr>\n",
       "      <th>5</th>\n",
       "      <td>5</td>\n",
       "      <td>Type 2-Diabetes</td>\n",
       "      <td>102</td>\n",
       "      <td>245</td>\n",
       "      <td>347</td>\n",
       "    </tr>\n",
       "    <tr>\n",
       "      <th>6</th>\n",
       "      <td>6</td>\n",
       "      <td>Dementia</td>\n",
       "      <td>66</td>\n",
       "      <td>107</td>\n",
       "      <td>173</td>\n",
       "    </tr>\n",
       "    <tr>\n",
       "      <th>7</th>\n",
       "      <td>7</td>\n",
       "      <td>COPD</td>\n",
       "      <td>44</td>\n",
       "      <td>158</td>\n",
       "      <td>202</td>\n",
       "    </tr>\n",
       "    <tr>\n",
       "      <th>8</th>\n",
       "      <td>8</td>\n",
       "      <td>Active cancer in the past 5 years</td>\n",
       "      <td>54</td>\n",
       "      <td>134</td>\n",
       "      <td>188</td>\n",
       "    </tr>\n",
       "    <tr>\n",
       "      <th>9</th>\n",
       "      <td>9</td>\n",
       "      <td>Chronic liver disease</td>\n",
       "      <td>10</td>\n",
       "      <td>35</td>\n",
       "      <td>45</td>\n",
       "    </tr>\n",
       "    <tr>\n",
       "      <th>10</th>\n",
       "      <td>10</td>\n",
       "      <td>Chronic renal failure</td>\n",
       "      <td>66</td>\n",
       "      <td>193</td>\n",
       "      <td>259</td>\n",
       "    </tr>\n",
       "    <tr>\n",
       "      <th>11</th>\n",
       "      <td>11</td>\n",
       "      <td>0 comorbidities</td>\n",
       "      <td>4</td>\n",
       "      <td>27</td>\n",
       "      <td>31</td>\n",
       "    </tr>\n",
       "    <tr>\n",
       "      <th>12</th>\n",
       "      <td>12</td>\n",
       "      <td>1 comorbidity</td>\n",
       "      <td>86</td>\n",
       "      <td>157</td>\n",
       "      <td>243</td>\n",
       "    </tr>\n",
       "    <tr>\n",
       "      <th>13</th>\n",
       "      <td>13</td>\n",
       "      <td>2 comorbidities</td>\n",
       "      <td>79</td>\n",
       "      <td>184</td>\n",
       "      <td>263</td>\n",
       "    </tr>\n",
       "    <tr>\n",
       "      <th>14</th>\n",
       "      <td>14</td>\n",
       "      <td>3 comorbidities and over</td>\n",
       "      <td>164</td>\n",
       "      <td>401</td>\n",
       "      <td>565</td>\n",
       "    </tr>\n",
       "  </tbody>\n",
       "</table>\n",
       "</div>"
      ],
      "text/plain": [
       "    Unnamed: 0                            Disease  Men  Women  Total\n",
       "0            0             Ischemic heart disease   64    238    302\n",
       "1            1                Atrial Fibrillation   84    165    249\n",
       "2            2                      Heart Failure   78    108    186\n",
       "3            3                             Stroke   37     90    127\n",
       "4            4                       Hypertension  251    543    794\n",
       "5            5                    Type 2-Diabetes  102    245    347\n",
       "6            6                           Dementia   66    107    173\n",
       "7            7                               COPD   44    158    202\n",
       "8            8  Active cancer in the past 5 years   54    134    188\n",
       "9            9              Chronic liver disease   10     35     45\n",
       "10          10              Chronic renal failure   66    193    259\n",
       "11          11                    0 comorbidities    4     27     31\n",
       "12          12                      1 comorbidity   86    157    243\n",
       "13          13                    2 comorbidities   79    184    263\n",
       "14          14           3 comorbidities and over  164    401    565"
      ]
     },
     "execution_count": 319,
     "metadata": {},
     "output_type": "execute_result"
    }
   ],
   "source": [
    "#import Datasets\n",
    "covid_disease = pd.read_csv('Data/covid-disease.csv')\n",
    "covid_disease"
   ]
  },
  {
   "cell_type": "code",
   "execution_count": 208,
   "metadata": {},
   "outputs": [],
   "source": [
    "#Drop row\n",
    "covid_disease.drop(covid_disease.iloc[11:15,:].index,axis = 0,inplace = True)\n"
   ]
  },
  {
   "cell_type": "code",
   "execution_count": 214,
   "metadata": {
    "scrolled": true
   },
   "outputs": [
    {
     "data": {
      "image/png": "[encoded data removed]",
      "text/plain": [
       "<Figure size 1440x576 with 1 Axes>"
      ]
     },
     "metadata": {
      "needs_background": "light"
     },
     "output_type": "display_data"
    }
   ],
   "source": [
    "# Common underlying health condition amongst COVID-19 cases\n",
    "fig, ax = plt.subplots(figsize=(20,8))\n",
    "plt.title(\"Common health conditions among COVID-19 Patients \")\n",
    "sns.barplot(ax = ax,\n",
    "            data = covid_disease,\n",
    "            x = 'Disease',\n",
    "            y = 'Total')\n",
    "plt.show()"
   ]
  },
  {
   "cell_type": "markdown",
   "metadata": {},
   "source": [
    "Majority of those with the virus are patients with Hypertension"
   ]
  },
  {
   "cell_type": "code",
   "execution_count": 320,
   "metadata": {},
   "outputs": [],
   "source": [
    "#Convert two columns of dataframe to dict\n",
    "d_ = {Diseases: Frequency for Diseases, Frequency  in zip(covid_disease['Disease'].values, covid_disease['Total'].values)}"
   ]
  },
  {
   "cell_type": "code",
   "execution_count": 326,
   "metadata": {},
   "outputs": [
    {
     "data": {
      "text/plain": [
       "<Figure size 720x720 with 0 Axes>"
      ]
     },
     "metadata": {},
     "output_type": "display_data"
    },
    {
     "data": {
      "image/png": "[encoded data removed]",
      "text/plain": [
       "<Figure size 720x720 with 1 Axes>"
      ]
     },
     "metadata": {
      "needs_background": "light"
     },
     "output_type": "display_data"
    }
   ],
   "source": [
    "'''A word cloud of common underlying health conditions based on the frequencies of total column'''\n",
    "\n",
    "#dataframe with disease and total column\n",
    "word = covid_disease.drop(columns=['Men','Women','Unnamed: 0'],axis = 1)\n",
    "for a, x in word.values:\n",
    "    d[a] = x\n",
    "\n",
    "wordcloud = WordCloud()\n",
    "wordcloud.generate_from_frequencies(frequencies=d)\n",
    "plt.figure(figsize=(10,10))\n",
    "plt.figure(figsize=(10,10))\n",
    "plt.imshow(wordcloud, interpolation=\"bilinear\")\n",
    "plt.axis(\"off\")\n",
    "\n",
    "plt.show()"
   ]
  },
  {
   "cell_type": "markdown",
   "metadata": {},
   "source": [
    "**Third Dataset**\n",
    "\n",
    "Dataset contains Nationality trend with all columns(hospitalized with symptoms, intensive care.. etc.)\n"
   ]
  },
  {
   "cell_type": "code",
   "execution_count": 329,
   "metadata": {},
   "outputs": [
    {
     "data": {
      "text/html": [
       "<div>\n",
       "<style scoped>\n",
       "    .dataframe tbody tr th:only-of-type {\n",
       "        vertical-align: middle;\n",
       "    }\n",
       "\n",
       "    .dataframe tbody tr th {\n",
       "        vertical-align: top;\n",
       "    }\n",
       "\n",
       "    .dataframe thead th {\n",
       "        text-align: right;\n",
       "    }\n",
       "</style>\n",
       "<table border=\"1\" class=\"dataframe\">\n",
       "  <thead>\n",
       "    <tr style=\"text-align: right;\">\n",
       "      <th></th>\n",
       "      <th>Unnamed: 0</th>\n",
       "      <th>date</th>\n",
       "      <th>state</th>\n",
       "      <th>hospitalized_with_symptoms</th>\n",
       "      <th>intensive_care</th>\n",
       "      <th>total_hospitalized</th>\n",
       "      <th>home_quarantine</th>\n",
       "      <th>total_confirmed_cases</th>\n",
       "      <th>variation_total_confirmed</th>\n",
       "      <th>new_confirmed_cases</th>\n",
       "      <th>recovered</th>\n",
       "      <th>deaths</th>\n",
       "      <th>total_cases</th>\n",
       "      <th>swabs_made</th>\n",
       "      <th>casi_testati</th>\n",
       "      <th>note_it</th>\n",
       "      <th>note_en</th>\n",
       "    </tr>\n",
       "  </thead>\n",
       "  <tbody>\n",
       "    <tr>\n",
       "      <th>0</th>\n",
       "      <td>0</td>\n",
       "      <td>2020-02-24T18:00:00</td>\n",
       "      <td>ITA</td>\n",
       "      <td>101</td>\n",
       "      <td>26</td>\n",
       "      <td>127</td>\n",
       "      <td>94</td>\n",
       "      <td>221</td>\n",
       "      <td>0</td>\n",
       "      <td>221</td>\n",
       "      <td>1</td>\n",
       "      <td>7</td>\n",
       "      <td>229</td>\n",
       "      <td>4324</td>\n",
       "      <td>NaN</td>\n",
       "      <td>NaN</td>\n",
       "      <td>NaN</td>\n",
       "    </tr>\n",
       "    <tr>\n",
       "      <th>1</th>\n",
       "      <td>1</td>\n",
       "      <td>2020-02-25T18:00:00</td>\n",
       "      <td>ITA</td>\n",
       "      <td>114</td>\n",
       "      <td>35</td>\n",
       "      <td>150</td>\n",
       "      <td>162</td>\n",
       "      <td>311</td>\n",
       "      <td>90</td>\n",
       "      <td>93</td>\n",
       "      <td>1</td>\n",
       "      <td>10</td>\n",
       "      <td>322</td>\n",
       "      <td>8623</td>\n",
       "      <td>NaN</td>\n",
       "      <td>NaN</td>\n",
       "      <td>NaN</td>\n",
       "    </tr>\n",
       "    <tr>\n",
       "      <th>2</th>\n",
       "      <td>2</td>\n",
       "      <td>2020-02-26T18:00:00</td>\n",
       "      <td>ITA</td>\n",
       "      <td>128</td>\n",
       "      <td>36</td>\n",
       "      <td>164</td>\n",
       "      <td>221</td>\n",
       "      <td>385</td>\n",
       "      <td>74</td>\n",
       "      <td>78</td>\n",
       "      <td>3</td>\n",
       "      <td>12</td>\n",
       "      <td>400</td>\n",
       "      <td>9587</td>\n",
       "      <td>NaN</td>\n",
       "      <td>NaN</td>\n",
       "      <td>NaN</td>\n",
       "    </tr>\n",
       "    <tr>\n",
       "      <th>3</th>\n",
       "      <td>3</td>\n",
       "      <td>2020-02-27T18:00:00</td>\n",
       "      <td>ITA</td>\n",
       "      <td>248</td>\n",
       "      <td>56</td>\n",
       "      <td>304</td>\n",
       "      <td>284</td>\n",
       "      <td>588</td>\n",
       "      <td>203</td>\n",
       "      <td>250</td>\n",
       "      <td>45</td>\n",
       "      <td>17</td>\n",
       "      <td>650</td>\n",
       "      <td>12014</td>\n",
       "      <td>NaN</td>\n",
       "      <td>NaN</td>\n",
       "      <td>NaN</td>\n",
       "    </tr>\n",
       "    <tr>\n",
       "      <th>4</th>\n",
       "      <td>4</td>\n",
       "      <td>2020-02-28T18:00:00</td>\n",
       "      <td>ITA</td>\n",
       "      <td>345</td>\n",
       "      <td>64</td>\n",
       "      <td>409</td>\n",
       "      <td>412</td>\n",
       "      <td>821</td>\n",
       "      <td>233</td>\n",
       "      <td>238</td>\n",
       "      <td>46</td>\n",
       "      <td>21</td>\n",
       "      <td>888</td>\n",
       "      <td>15695</td>\n",
       "      <td>NaN</td>\n",
       "      <td>NaN</td>\n",
       "      <td>NaN</td>\n",
       "    </tr>\n",
       "    <tr>\n",
       "      <th>...</th>\n",
       "      <td>...</td>\n",
       "      <td>...</td>\n",
       "      <td>...</td>\n",
       "      <td>...</td>\n",
       "      <td>...</td>\n",
       "      <td>...</td>\n",
       "      <td>...</td>\n",
       "      <td>...</td>\n",
       "      <td>...</td>\n",
       "      <td>...</td>\n",
       "      <td>...</td>\n",
       "      <td>...</td>\n",
       "      <td>...</td>\n",
       "      <td>...</td>\n",
       "      <td>...</td>\n",
       "      <td>...</td>\n",
       "      <td>...</td>\n",
       "    </tr>\n",
       "    <tr>\n",
       "      <th>65</th>\n",
       "      <td>65</td>\n",
       "      <td>2020-04-29T17:00:00</td>\n",
       "      <td>ITA</td>\n",
       "      <td>19210</td>\n",
       "      <td>1795</td>\n",
       "      <td>21005</td>\n",
       "      <td>83652</td>\n",
       "      <td>104657</td>\n",
       "      <td>-548</td>\n",
       "      <td>2086</td>\n",
       "      <td>71252</td>\n",
       "      <td>27682</td>\n",
       "      <td>203591</td>\n",
       "      <td>1910761</td>\n",
       "      <td>1313460.0</td>\n",
       "      <td>NaN</td>\n",
       "      <td>NaN</td>\n",
       "    </tr>\n",
       "    <tr>\n",
       "      <th>66</th>\n",
       "      <td>66</td>\n",
       "      <td>2020-04-30T17:00:00</td>\n",
       "      <td>ITA</td>\n",
       "      <td>18149</td>\n",
       "      <td>1694</td>\n",
       "      <td>19843</td>\n",
       "      <td>81708</td>\n",
       "      <td>101551</td>\n",
       "      <td>-3106</td>\n",
       "      <td>1872</td>\n",
       "      <td>75945</td>\n",
       "      <td>27967</td>\n",
       "      <td>205463</td>\n",
       "      <td>1979217</td>\n",
       "      <td>1354901.0</td>\n",
       "      <td>NaN</td>\n",
       "      <td>NaN</td>\n",
       "    </tr>\n",
       "    <tr>\n",
       "      <th>67</th>\n",
       "      <td>67</td>\n",
       "      <td>2020-05-01T17:00:00</td>\n",
       "      <td>ITA</td>\n",
       "      <td>17569</td>\n",
       "      <td>1578</td>\n",
       "      <td>19147</td>\n",
       "      <td>81796</td>\n",
       "      <td>100943</td>\n",
       "      <td>-608</td>\n",
       "      <td>1965</td>\n",
       "      <td>78249</td>\n",
       "      <td>28236</td>\n",
       "      <td>207428</td>\n",
       "      <td>2053425</td>\n",
       "      <td>1398633.0</td>\n",
       "      <td>dc-IT-0015</td>\n",
       "      <td>dc-EN-0015</td>\n",
       "    </tr>\n",
       "    <tr>\n",
       "      <th>68</th>\n",
       "      <td>68</td>\n",
       "      <td>2020-05-02T17:00:00</td>\n",
       "      <td>ITA</td>\n",
       "      <td>17357</td>\n",
       "      <td>1539</td>\n",
       "      <td>18896</td>\n",
       "      <td>81808</td>\n",
       "      <td>100704</td>\n",
       "      <td>-239</td>\n",
       "      <td>1900</td>\n",
       "      <td>79914</td>\n",
       "      <td>28710</td>\n",
       "      <td>209328</td>\n",
       "      <td>2108837</td>\n",
       "      <td>1429864.0</td>\n",
       "      <td>dc-IT-0017</td>\n",
       "      <td>dc-EN-0017</td>\n",
       "    </tr>\n",
       "    <tr>\n",
       "      <th>69</th>\n",
       "      <td>69</td>\n",
       "      <td>2020-05-03T17:00:00</td>\n",
       "      <td>ITA</td>\n",
       "      <td>17242</td>\n",
       "      <td>1501</td>\n",
       "      <td>18743</td>\n",
       "      <td>81436</td>\n",
       "      <td>100179</td>\n",
       "      <td>-525</td>\n",
       "      <td>1389</td>\n",
       "      <td>81654</td>\n",
       "      <td>28884</td>\n",
       "      <td>210717</td>\n",
       "      <td>2153772</td>\n",
       "      <td>1456911.0</td>\n",
       "      <td>NaN</td>\n",
       "      <td>NaN</td>\n",
       "    </tr>\n",
       "  </tbody>\n",
       "</table>\n",
       "<p>70 rows × 17 columns</p>\n",
       "</div>"
      ],
      "text/plain": [
       "    Unnamed: 0                 date state  hospitalized_with_symptoms  \\\n",
       "0            0  2020-02-24T18:00:00   ITA                         101   \n",
       "1            1  2020-02-25T18:00:00   ITA                         114   \n",
       "2            2  2020-02-26T18:00:00   ITA                         128   \n",
       "3            3  2020-02-27T18:00:00   ITA                         248   \n",
       "4            4  2020-02-28T18:00:00   ITA                         345   \n",
       "..         ...                  ...   ...                         ...   \n",
       "65          65  2020-04-29T17:00:00   ITA                       19210   \n",
       "66          66  2020-04-30T17:00:00   ITA                       18149   \n",
       "67          67  2020-05-01T17:00:00   ITA                       17569   \n",
       "68          68  2020-05-02T17:00:00   ITA                       17357   \n",
       "69          69  2020-05-03T17:00:00   ITA                       17242   \n",
       "\n",
       "    intensive_care  total_hospitalized  home_quarantine  \\\n",
       "0               26                 127               94   \n",
       "1               35                 150              162   \n",
       "2               36                 164              221   \n",
       "3               56                 304              284   \n",
       "4               64                 409              412   \n",
       "..             ...                 ...              ...   \n",
       "65            1795               21005            83652   \n",
       "66            1694               19843            81708   \n",
       "67            1578               19147            81796   \n",
       "68            1539               18896            81808   \n",
       "69            1501               18743            81436   \n",
       "\n",
       "    total_confirmed_cases  variation_total_confirmed  new_confirmed_cases  \\\n",
       "0                     221                          0                  221   \n",
       "1                     311                         90                   93   \n",
       "2                     385                         74                   78   \n",
       "3                     588                        203                  250   \n",
       "4                     821                        233                  238   \n",
       "..                    ...                        ...                  ...   \n",
       "65                 104657                       -548                 2086   \n",
       "66                 101551                      -3106                 1872   \n",
       "67                 100943                       -608                 1965   \n",
       "68                 100704                       -239                 1900   \n",
       "69                 100179                       -525                 1389   \n",
       "\n",
       "    recovered  deaths  total_cases  swabs_made  casi_testati     note_it  \\\n",
       "0           1       7          229        4324           NaN         NaN   \n",
       "1           1      10          322        8623           NaN         NaN   \n",
       "2           3      12          400        9587           NaN         NaN   \n",
       "3          45      17          650       12014           NaN         NaN   \n",
       "4          46      21          888       15695           NaN         NaN   \n",
       "..        ...     ...          ...         ...           ...         ...   \n",
       "65      71252   27682       203591     1910761     1313460.0         NaN   \n",
       "66      75945   27967       205463     1979217     1354901.0         NaN   \n",
       "67      78249   28236       207428     2053425     1398633.0  dc-IT-0015   \n",
       "68      79914   28710       209328     2108837     1429864.0  dc-IT-0017   \n",
       "69      81654   28884       210717     2153772     1456911.0         NaN   \n",
       "\n",
       "       note_en  \n",
       "0          NaN  \n",
       "1          NaN  \n",
       "2          NaN  \n",
       "3          NaN  \n",
       "4          NaN  \n",
       "..         ...  \n",
       "65         NaN  \n",
       "66         NaN  \n",
       "67  dc-EN-0015  \n",
       "68  dc-EN-0017  \n",
       "69         NaN  \n",
       "\n",
       "[70 rows x 17 columns]"
      ]
     },
     "execution_count": 329,
     "metadata": {},
     "output_type": "execute_result"
    }
   ],
   "source": [
    "#import csv\n",
    "covid_nationality = pd.read_csv('Data/covid-nationality.csv')\n",
    "covid_nationality"
   ]
  },
  {
   "cell_type": "code",
   "execution_count": 2,
   "metadata": {},
   "outputs": [],
   "source": [
    "#Get request\n",
    "url = 'https://en.wikipedia.org/wiki/Provinces_of_Italy'"
   ]
  },
  {
   "cell_type": "code",
   "execution_count": 3,
   "metadata": {},
   "outputs": [],
   "source": [
    "population = pd.read_html(url,header = 0)"
   ]
  },
  {
   "cell_type": "code",
   "execution_count": 4,
   "metadata": {},
   "outputs": [],
   "source": [
    "#Population in provinces in italy \n",
    "province= population[2]\n",
    "province.drop(['Type','Capital','Code','Region','Macroregion','Area(km²)','Density(p/km²)','Comuni','President'],inplace = True, axis = 1)"
   ]
  },
  {
   "cell_type": "code",
   "execution_count": 5,
   "metadata": {},
   "outputs": [
    {
     "data": {
      "text/html": [
       "<div>\n",
       "<style scoped>\n",
       "    .dataframe tbody tr th:only-of-type {\n",
       "        vertical-align: middle;\n",
       "    }\n",
       "\n",
       "    .dataframe tbody tr th {\n",
       "        vertical-align: top;\n",
       "    }\n",
       "\n",
       "    .dataframe thead th {\n",
       "        text-align: right;\n",
       "    }\n",
       "</style>\n",
       "<table border=\"1\" class=\"dataframe\">\n",
       "  <thead>\n",
       "    <tr style=\"text-align: right;\">\n",
       "      <th></th>\n",
       "      <th>Province</th>\n",
       "      <th>Population (2019)[3]</th>\n",
       "    </tr>\n",
       "  </thead>\n",
       "  <tbody>\n",
       "    <tr>\n",
       "      <th>0</th>\n",
       "      <td>Agrigento</td>\n",
       "      <td>434870</td>\n",
       "    </tr>\n",
       "    <tr>\n",
       "      <th>1</th>\n",
       "      <td>Alessandria</td>\n",
       "      <td>421284</td>\n",
       "    </tr>\n",
       "    <tr>\n",
       "      <th>2</th>\n",
       "      <td>Ancona</td>\n",
       "      <td>471228</td>\n",
       "    </tr>\n",
       "    <tr>\n",
       "      <th>3</th>\n",
       "      <td>Aosta</td>\n",
       "      <td>125666</td>\n",
       "    </tr>\n",
       "    <tr>\n",
       "      <th>4</th>\n",
       "      <td>Arezzo</td>\n",
       "      <td>342654</td>\n",
       "    </tr>\n",
       "    <tr>\n",
       "      <th>...</th>\n",
       "      <td>...</td>\n",
       "      <td>...</td>\n",
       "    </tr>\n",
       "    <tr>\n",
       "      <th>103</th>\n",
       "      <td>Verona</td>\n",
       "      <td>926497</td>\n",
       "    </tr>\n",
       "    <tr>\n",
       "      <th>104</th>\n",
       "      <td>Vibo Valentia</td>\n",
       "      <td>160073</td>\n",
       "    </tr>\n",
       "    <tr>\n",
       "      <th>105</th>\n",
       "      <td>Vicenza</td>\n",
       "      <td>862418</td>\n",
       "    </tr>\n",
       "    <tr>\n",
       "      <th>106</th>\n",
       "      <td>Viterbo</td>\n",
       "      <td>317030</td>\n",
       "    </tr>\n",
       "    <tr>\n",
       "      <th>107</th>\n",
       "      <td>—</td>\n",
       "      <td>60359546</td>\n",
       "    </tr>\n",
       "  </tbody>\n",
       "</table>\n",
       "<p>108 rows × 2 columns</p>\n",
       "</div>"
      ],
      "text/plain": [
       "          Province  Population (2019)[3]\n",
       "0        Agrigento                434870\n",
       "1      Alessandria                421284\n",
       "2           Ancona                471228\n",
       "3            Aosta                125666\n",
       "4           Arezzo                342654\n",
       "..             ...                   ...\n",
       "103         Verona                926497\n",
       "104  Vibo Valentia                160073\n",
       "105        Vicenza                862418\n",
       "106        Viterbo                317030\n",
       "107              —              60359546\n",
       "\n",
       "[108 rows x 2 columns]"
      ]
     },
     "execution_count": 5,
     "metadata": {},
     "output_type": "execute_result"
    }
   ],
   "source": [
    "province"
   ]
  },
  {
   "cell_type": "code",
   "execution_count": 16,
   "metadata": {
    "scrolled": true
   },
   "outputs": [
    {
     "data": {
      "text/html": [
       "<div>\n",
       "<style scoped>\n",
       "    .dataframe tbody tr th:only-of-type {\n",
       "        vertical-align: middle;\n",
       "    }\n",
       "\n",
       "    .dataframe tbody tr th {\n",
       "        vertical-align: top;\n",
       "    }\n",
       "\n",
       "    .dataframe thead th {\n",
       "        text-align: right;\n",
       "    }\n",
       "</style>\n",
       "<table border=\"1\" class=\"dataframe\">\n",
       "  <thead>\n",
       "    <tr style=\"text-align: right;\">\n",
       "      <th></th>\n",
       "      <th>SNo</th>\n",
       "      <th>Country</th>\n",
       "      <th>RegionCode</th>\n",
       "      <th>RegionName</th>\n",
       "      <th>Latitude</th>\n",
       "      <th>Longitude</th>\n",
       "      <th>HospitalizedPatients</th>\n",
       "      <th>IntensiveCarePatients</th>\n",
       "      <th>TotalHospitalizedPatients</th>\n",
       "      <th>HomeConfinement</th>\n",
       "      <th>CurrentPositiveCases</th>\n",
       "      <th>NewPositiveCases</th>\n",
       "      <th>Recovered</th>\n",
       "      <th>Deaths</th>\n",
       "      <th>TotalPositiveCases</th>\n",
       "      <th>TestsPerformed</th>\n",
       "    </tr>\n",
       "    <tr>\n",
       "      <th>Date</th>\n",
       "      <th></th>\n",
       "      <th></th>\n",
       "      <th></th>\n",
       "      <th></th>\n",
       "      <th></th>\n",
       "      <th></th>\n",
       "      <th></th>\n",
       "      <th></th>\n",
       "      <th></th>\n",
       "      <th></th>\n",
       "      <th></th>\n",
       "      <th></th>\n",
       "      <th></th>\n",
       "      <th></th>\n",
       "      <th></th>\n",
       "      <th></th>\n",
       "    </tr>\n",
       "  </thead>\n",
       "  <tbody>\n",
       "    <tr>\n",
       "      <th>2020-02-24T18:00:00</th>\n",
       "      <td>0</td>\n",
       "      <td>ITA</td>\n",
       "      <td>13</td>\n",
       "      <td>Abruzzo</td>\n",
       "      <td>42.351222</td>\n",
       "      <td>13.398438</td>\n",
       "      <td>0</td>\n",
       "      <td>0</td>\n",
       "      <td>0</td>\n",
       "      <td>0</td>\n",
       "      <td>0</td>\n",
       "      <td>0</td>\n",
       "      <td>0</td>\n",
       "      <td>0</td>\n",
       "      <td>0</td>\n",
       "      <td>NaN</td>\n",
       "    </tr>\n",
       "    <tr>\n",
       "      <th>2020-02-24T18:00:00</th>\n",
       "      <td>1</td>\n",
       "      <td>ITA</td>\n",
       "      <td>17</td>\n",
       "      <td>Basilicata</td>\n",
       "      <td>40.639471</td>\n",
       "      <td>15.805148</td>\n",
       "      <td>0</td>\n",
       "      <td>0</td>\n",
       "      <td>0</td>\n",
       "      <td>0</td>\n",
       "      <td>0</td>\n",
       "      <td>0</td>\n",
       "      <td>0</td>\n",
       "      <td>0</td>\n",
       "      <td>0</td>\n",
       "      <td>NaN</td>\n",
       "    </tr>\n",
       "    <tr>\n",
       "      <th>2020-02-24T18:00:00</th>\n",
       "      <td>2</td>\n",
       "      <td>ITA</td>\n",
       "      <td>21</td>\n",
       "      <td>P.A. Bolzano</td>\n",
       "      <td>46.499335</td>\n",
       "      <td>11.356624</td>\n",
       "      <td>0</td>\n",
       "      <td>0</td>\n",
       "      <td>0</td>\n",
       "      <td>0</td>\n",
       "      <td>0</td>\n",
       "      <td>0</td>\n",
       "      <td>0</td>\n",
       "      <td>0</td>\n",
       "      <td>0</td>\n",
       "      <td>NaN</td>\n",
       "    </tr>\n",
       "    <tr>\n",
       "      <th>2020-02-24T18:00:00</th>\n",
       "      <td>3</td>\n",
       "      <td>ITA</td>\n",
       "      <td>18</td>\n",
       "      <td>Calabria</td>\n",
       "      <td>38.905976</td>\n",
       "      <td>16.594402</td>\n",
       "      <td>0</td>\n",
       "      <td>0</td>\n",
       "      <td>0</td>\n",
       "      <td>0</td>\n",
       "      <td>0</td>\n",
       "      <td>0</td>\n",
       "      <td>0</td>\n",
       "      <td>0</td>\n",
       "      <td>0</td>\n",
       "      <td>NaN</td>\n",
       "    </tr>\n",
       "    <tr>\n",
       "      <th>2020-02-24T18:00:00</th>\n",
       "      <td>4</td>\n",
       "      <td>ITA</td>\n",
       "      <td>15</td>\n",
       "      <td>Campania</td>\n",
       "      <td>40.839566</td>\n",
       "      <td>14.250850</td>\n",
       "      <td>0</td>\n",
       "      <td>0</td>\n",
       "      <td>0</td>\n",
       "      <td>0</td>\n",
       "      <td>0</td>\n",
       "      <td>0</td>\n",
       "      <td>0</td>\n",
       "      <td>0</td>\n",
       "      <td>0</td>\n",
       "      <td>NaN</td>\n",
       "    </tr>\n",
       "  </tbody>\n",
       "</table>\n",
       "</div>"
      ],
      "text/plain": [
       "                     SNo Country  RegionCode    RegionName   Latitude  \\\n",
       "Date                                                                    \n",
       "2020-02-24T18:00:00    0     ITA          13       Abruzzo  42.351222   \n",
       "2020-02-24T18:00:00    1     ITA          17    Basilicata  40.639471   \n",
       "2020-02-24T18:00:00    2     ITA          21  P.A. Bolzano  46.499335   \n",
       "2020-02-24T18:00:00    3     ITA          18      Calabria  38.905976   \n",
       "2020-02-24T18:00:00    4     ITA          15      Campania  40.839566   \n",
       "\n",
       "                     Longitude  HospitalizedPatients  IntensiveCarePatients  \\\n",
       "Date                                                                          \n",
       "2020-02-24T18:00:00  13.398438                     0                      0   \n",
       "2020-02-24T18:00:00  15.805148                     0                      0   \n",
       "2020-02-24T18:00:00  11.356624                     0                      0   \n",
       "2020-02-24T18:00:00  16.594402                     0                      0   \n",
       "2020-02-24T18:00:00  14.250850                     0                      0   \n",
       "\n",
       "                     TotalHospitalizedPatients  HomeConfinement  \\\n",
       "Date                                                              \n",
       "2020-02-24T18:00:00                          0                0   \n",
       "2020-02-24T18:00:00                          0                0   \n",
       "2020-02-24T18:00:00                          0                0   \n",
       "2020-02-24T18:00:00                          0                0   \n",
       "2020-02-24T18:00:00                          0                0   \n",
       "\n",
       "                     CurrentPositiveCases  NewPositiveCases  Recovered  \\\n",
       "Date                                                                     \n",
       "2020-02-24T18:00:00                     0                 0          0   \n",
       "2020-02-24T18:00:00                     0                 0          0   \n",
       "2020-02-24T18:00:00                     0                 0          0   \n",
       "2020-02-24T18:00:00                     0                 0          0   \n",
       "2020-02-24T18:00:00                     0                 0          0   \n",
       "\n",
       "                     Deaths  TotalPositiveCases  TestsPerformed  \n",
       "Date                                                             \n",
       "2020-02-24T18:00:00       0                   0             NaN  \n",
       "2020-02-24T18:00:00       0                   0             NaN  \n",
       "2020-02-24T18:00:00       0                   0             NaN  \n",
       "2020-02-24T18:00:00       0                   0             NaN  \n",
       "2020-02-24T18:00:00       0                   0             NaN  "
      ]
     },
     "execution_count": 16,
     "metadata": {},
     "output_type": "execute_result"
    }
   ],
   "source": [
    "#Import Dataset\n",
    "df = pd.read_csv('italy.csv',index_col = 'Date')\n",
    "df.head()"
   ]
  },
  {
   "cell_type": "code",
   "execution_count": 176,
   "metadata": {},
   "outputs": [
    {
     "name": "stdout",
     "output_type": "stream",
     "text": [
      "<class 'pandas.core.frame.DataFrame'>\n",
      "RangeIndex: 2499 entries, 0 to 2498\n",
      "Data columns (total 17 columns):\n",
      "SNo                          2499 non-null int64\n",
      "Date                         2499 non-null object\n",
      "Country                      2499 non-null object\n",
      "RegionCode                   2499 non-null int64\n",
      "RegionName                   2499 non-null object\n",
      "Latitude                     2499 non-null float64\n",
      "Longitude                    2499 non-null float64\n",
      "HospitalizedPatients         2499 non-null int64\n",
      "IntensiveCarePatients        2499 non-null int64\n",
      "TotalHospitalizedPatients    2499 non-null int64\n",
      "HomeConfinement              2499 non-null int64\n",
      "CurrentPositiveCases         2499 non-null int64\n",
      "NewPositiveCases             2499 non-null int64\n",
      "Recovered                    2499 non-null int64\n",
      "Deaths                       2499 non-null int64\n",
      "TotalPositiveCases           2499 non-null int64\n",
      "TestsPerformed               1344 non-null float64\n",
      "dtypes: float64(3), int64(11), object(3)\n",
      "memory usage: 332.0+ KB\n"
     ]
    }
   ],
   "source": [
    "df.info()"
   ]
  },
  {
   "cell_type": "code",
   "execution_count": 12,
   "metadata": {},
   "outputs": [
    {
     "data": {
      "text/plain": [
       "(2499, 17)"
      ]
     },
     "execution_count": 12,
     "metadata": {},
     "output_type": "execute_result"
    }
   ],
   "source": [
    "Obtain the number of (rows,columns)\n",
    "df.shape"
   ]
  },
  {
   "cell_type": "code",
   "execution_count": 112,
   "metadata": {},
   "outputs": [
    {
     "data": {
      "text/plain": [
       "Country                       0.0\n",
       "RegionCode                    0.0\n",
       "RegionName                    0.0\n",
       "Latitude                      0.0\n",
       "Longitude                     0.0\n",
       "HospitalizedPatients          0.0\n",
       "IntensiveCarePatients         0.0\n",
       "TotalHospitalizedPatients     0.0\n",
       "HomeConfinement               0.0\n",
       "CurrentPositiveCases          0.0\n",
       "NewPositiveCases              0.0\n",
       "Recovered                     0.0\n",
       "Deaths                        0.0\n",
       "TotalPositiveCases            0.0\n",
       "TestsPerformed               77.0\n",
       "dtype: float64"
      ]
     },
     "execution_count": 112,
     "metadata": {},
     "output_type": "execute_result"
    }
   ],
   "source": [
    "#Check for null values\n",
    "df.isnull().sum()"
   ]
  },
  {
   "cell_type": "code",
   "execution_count": 113,
   "metadata": {},
   "outputs": [
    {
     "data": {
      "text/plain": [
       "Country                       0.0\n",
       "RegionCode                    0.0\n",
       "RegionName                    0.0\n",
       "Latitude                      0.0\n",
       "Longitude                     0.0\n",
       "HospitalizedPatients          0.0\n",
       "IntensiveCarePatients         0.0\n",
       "TotalHospitalizedPatients     0.0\n",
       "HomeConfinement               0.0\n",
       "CurrentPositiveCases          0.0\n",
       "NewPositiveCases              0.0\n",
       "Recovered                     0.0\n",
       "Deaths                        0.0\n",
       "TotalPositiveCases            0.0\n",
       "TestsPerformed               77.0\n",
       "dtype: float64"
      ]
     },
     "execution_count": 113,
     "metadata": {},
     "output_type": "execute_result"
    }
   ],
   "source": [
    "#% of null values for each column\n",
    "df.isnull().sum()/df.shape[1]"
   ]
  },
  {
   "cell_type": "code",
   "execution_count": 120,
   "metadata": {},
   "outputs": [
    {
     "data": {
      "text/plain": [
       "Deaths                       1\n",
       "Recovered                    1\n",
       "NewPositiveCases             1\n",
       "Longitude                    1\n",
       "TotalHospitalizedPatients    1\n",
       "HomeConfinement              1\n",
       "Latitude                     1\n",
       "RegionName                   1\n",
       "HospitalizedPatients         1\n",
       "Country                      1\n",
       "IntensiveCarePatients        1\n",
       "TestsPerformed               1\n",
       "TotalPositiveCases           1\n",
       "CurrentPositiveCases         1\n",
       "RegionCode                   1\n",
       "dtype: int64"
      ]
     },
     "execution_count": 120,
     "metadata": {},
     "output_type": "execute_result"
    }
   ],
   "source": [
    "df.IntensiveCarePatients.value_counts()"
   ]
  },
  {
   "cell_type": "code",
   "execution_count": 136,
   "metadata": {},
   "outputs": [
    {
     "data": {
      "text/plain": [
       "array(['Abruzzo', 'Basilicata', 'P.A. Bolzano', 'Calabria', 'Campania',\n",
       "       'Emilia-Romagna', 'Friuli Venezia Giulia', 'Lazio', 'Liguria',\n",
       "       'Lombardia', 'Marche', 'Molise', 'Piemonte', 'Puglia', 'Sardegna',\n",
       "       'Sicilia', 'Toscana', 'P.A. Trento', 'Umbria', \"Valle d'Aosta\",\n",
       "       'Veneto'], dtype=object)"
      ]
     },
     "execution_count": 136,
     "metadata": {},
     "output_type": "execute_result"
    }
   ],
   "source": [
    "df['RegionName'].unique()"
   ]
  },
  {
   "cell_type": "code",
   "execution_count": 18,
   "metadata": {
    "scrolled": true
   },
   "outputs": [
    {
     "data": {
      "text/html": [
       "<div>\n",
       "<style scoped>\n",
       "    .dataframe tbody tr th:only-of-type {\n",
       "        vertical-align: middle;\n",
       "    }\n",
       "\n",
       "    .dataframe tbody tr th {\n",
       "        vertical-align: top;\n",
       "    }\n",
       "\n",
       "    .dataframe thead th {\n",
       "        text-align: right;\n",
       "    }\n",
       "</style>\n",
       "<table border=\"1\" class=\"dataframe\">\n",
       "  <thead>\n",
       "    <tr style=\"text-align: right;\">\n",
       "      <th></th>\n",
       "      <th>Country</th>\n",
       "      <th>RegionCode</th>\n",
       "      <th>RegionName</th>\n",
       "      <th>Latitude</th>\n",
       "      <th>Longitude</th>\n",
       "      <th>HospitalizedPatients</th>\n",
       "      <th>IntensiveCarePatients</th>\n",
       "      <th>TotalHospitalizedPatients</th>\n",
       "      <th>HomeConfinement</th>\n",
       "      <th>CurrentPositiveCases</th>\n",
       "      <th>NewPositiveCases</th>\n",
       "      <th>Recovered</th>\n",
       "      <th>Deaths</th>\n",
       "      <th>TotalPositiveCases</th>\n",
       "      <th>TestsPerformed</th>\n",
       "    </tr>\n",
       "    <tr>\n",
       "      <th>Date</th>\n",
       "      <th></th>\n",
       "      <th></th>\n",
       "      <th></th>\n",
       "      <th></th>\n",
       "      <th></th>\n",
       "      <th></th>\n",
       "      <th></th>\n",
       "      <th></th>\n",
       "      <th></th>\n",
       "      <th></th>\n",
       "      <th></th>\n",
       "      <th></th>\n",
       "      <th></th>\n",
       "      <th></th>\n",
       "      <th></th>\n",
       "    </tr>\n",
       "  </thead>\n",
       "  <tbody>\n",
       "    <tr>\n",
       "      <th>2020-02-24 18:00:00</th>\n",
       "      <td>ITA</td>\n",
       "      <td>13</td>\n",
       "      <td>Abruzzo</td>\n",
       "      <td>42.351222</td>\n",
       "      <td>13.398438</td>\n",
       "      <td>0</td>\n",
       "      <td>0</td>\n",
       "      <td>0</td>\n",
       "      <td>0</td>\n",
       "      <td>0</td>\n",
       "      <td>0</td>\n",
       "      <td>0</td>\n",
       "      <td>0</td>\n",
       "      <td>0</td>\n",
       "      <td>NaN</td>\n",
       "    </tr>\n",
       "    <tr>\n",
       "      <th>2020-02-24 18:00:00</th>\n",
       "      <td>ITA</td>\n",
       "      <td>17</td>\n",
       "      <td>Basilicata</td>\n",
       "      <td>40.639471</td>\n",
       "      <td>15.805148</td>\n",
       "      <td>0</td>\n",
       "      <td>0</td>\n",
       "      <td>0</td>\n",
       "      <td>0</td>\n",
       "      <td>0</td>\n",
       "      <td>0</td>\n",
       "      <td>0</td>\n",
       "      <td>0</td>\n",
       "      <td>0</td>\n",
       "      <td>NaN</td>\n",
       "    </tr>\n",
       "    <tr>\n",
       "      <th>2020-02-24 18:00:00</th>\n",
       "      <td>ITA</td>\n",
       "      <td>21</td>\n",
       "      <td>P.A. Bolzano</td>\n",
       "      <td>46.499335</td>\n",
       "      <td>11.356624</td>\n",
       "      <td>0</td>\n",
       "      <td>0</td>\n",
       "      <td>0</td>\n",
       "      <td>0</td>\n",
       "      <td>0</td>\n",
       "      <td>0</td>\n",
       "      <td>0</td>\n",
       "      <td>0</td>\n",
       "      <td>0</td>\n",
       "      <td>NaN</td>\n",
       "    </tr>\n",
       "    <tr>\n",
       "      <th>2020-02-24 18:00:00</th>\n",
       "      <td>ITA</td>\n",
       "      <td>18</td>\n",
       "      <td>Calabria</td>\n",
       "      <td>38.905976</td>\n",
       "      <td>16.594402</td>\n",
       "      <td>0</td>\n",
       "      <td>0</td>\n",
       "      <td>0</td>\n",
       "      <td>0</td>\n",
       "      <td>0</td>\n",
       "      <td>0</td>\n",
       "      <td>0</td>\n",
       "      <td>0</td>\n",
       "      <td>0</td>\n",
       "      <td>NaN</td>\n",
       "    </tr>\n",
       "    <tr>\n",
       "      <th>2020-02-24 18:00:00</th>\n",
       "      <td>ITA</td>\n",
       "      <td>15</td>\n",
       "      <td>Campania</td>\n",
       "      <td>40.839566</td>\n",
       "      <td>14.250850</td>\n",
       "      <td>0</td>\n",
       "      <td>0</td>\n",
       "      <td>0</td>\n",
       "      <td>0</td>\n",
       "      <td>0</td>\n",
       "      <td>0</td>\n",
       "      <td>0</td>\n",
       "      <td>0</td>\n",
       "      <td>0</td>\n",
       "      <td>NaN</td>\n",
       "    </tr>\n",
       "    <tr>\n",
       "      <th>2020-02-24 18:00:00</th>\n",
       "      <td>ITA</td>\n",
       "      <td>8</td>\n",
       "      <td>Emilia-Romagna</td>\n",
       "      <td>44.494367</td>\n",
       "      <td>11.341721</td>\n",
       "      <td>10</td>\n",
       "      <td>2</td>\n",
       "      <td>12</td>\n",
       "      <td>6</td>\n",
       "      <td>18</td>\n",
       "      <td>18</td>\n",
       "      <td>0</td>\n",
       "      <td>0</td>\n",
       "      <td>18</td>\n",
       "      <td>NaN</td>\n",
       "    </tr>\n",
       "    <tr>\n",
       "      <th>2020-02-24 18:00:00</th>\n",
       "      <td>ITA</td>\n",
       "      <td>6</td>\n",
       "      <td>Friuli Venezia Giulia</td>\n",
       "      <td>45.649435</td>\n",
       "      <td>13.768136</td>\n",
       "      <td>0</td>\n",
       "      <td>0</td>\n",
       "      <td>0</td>\n",
       "      <td>0</td>\n",
       "      <td>0</td>\n",
       "      <td>0</td>\n",
       "      <td>0</td>\n",
       "      <td>0</td>\n",
       "      <td>0</td>\n",
       "      <td>NaN</td>\n",
       "    </tr>\n",
       "    <tr>\n",
       "      <th>2020-02-24 18:00:00</th>\n",
       "      <td>ITA</td>\n",
       "      <td>12</td>\n",
       "      <td>Lazio</td>\n",
       "      <td>41.892770</td>\n",
       "      <td>12.483667</td>\n",
       "      <td>1</td>\n",
       "      <td>1</td>\n",
       "      <td>2</td>\n",
       "      <td>0</td>\n",
       "      <td>2</td>\n",
       "      <td>2</td>\n",
       "      <td>1</td>\n",
       "      <td>0</td>\n",
       "      <td>3</td>\n",
       "      <td>NaN</td>\n",
       "    </tr>\n",
       "    <tr>\n",
       "      <th>2020-02-24 18:00:00</th>\n",
       "      <td>ITA</td>\n",
       "      <td>7</td>\n",
       "      <td>Liguria</td>\n",
       "      <td>44.411493</td>\n",
       "      <td>8.932699</td>\n",
       "      <td>0</td>\n",
       "      <td>0</td>\n",
       "      <td>0</td>\n",
       "      <td>0</td>\n",
       "      <td>0</td>\n",
       "      <td>0</td>\n",
       "      <td>0</td>\n",
       "      <td>0</td>\n",
       "      <td>0</td>\n",
       "      <td>NaN</td>\n",
       "    </tr>\n",
       "    <tr>\n",
       "      <th>2020-02-24 18:00:00</th>\n",
       "      <td>ITA</td>\n",
       "      <td>3</td>\n",
       "      <td>Lombardia</td>\n",
       "      <td>45.466794</td>\n",
       "      <td>9.190347</td>\n",
       "      <td>76</td>\n",
       "      <td>19</td>\n",
       "      <td>95</td>\n",
       "      <td>71</td>\n",
       "      <td>166</td>\n",
       "      <td>166</td>\n",
       "      <td>0</td>\n",
       "      <td>6</td>\n",
       "      <td>172</td>\n",
       "      <td>NaN</td>\n",
       "    </tr>\n",
       "    <tr>\n",
       "      <th>2020-02-24 18:00:00</th>\n",
       "      <td>ITA</td>\n",
       "      <td>11</td>\n",
       "      <td>Marche</td>\n",
       "      <td>43.616760</td>\n",
       "      <td>13.518875</td>\n",
       "      <td>0</td>\n",
       "      <td>0</td>\n",
       "      <td>0</td>\n",
       "      <td>0</td>\n",
       "      <td>0</td>\n",
       "      <td>0</td>\n",
       "      <td>0</td>\n",
       "      <td>0</td>\n",
       "      <td>0</td>\n",
       "      <td>NaN</td>\n",
       "    </tr>\n",
       "    <tr>\n",
       "      <th>2020-02-24 18:00:00</th>\n",
       "      <td>ITA</td>\n",
       "      <td>14</td>\n",
       "      <td>Molise</td>\n",
       "      <td>41.557748</td>\n",
       "      <td>14.659161</td>\n",
       "      <td>0</td>\n",
       "      <td>0</td>\n",
       "      <td>0</td>\n",
       "      <td>0</td>\n",
       "      <td>0</td>\n",
       "      <td>0</td>\n",
       "      <td>0</td>\n",
       "      <td>0</td>\n",
       "      <td>0</td>\n",
       "      <td>NaN</td>\n",
       "    </tr>\n",
       "    <tr>\n",
       "      <th>2020-02-24 18:00:00</th>\n",
       "      <td>ITA</td>\n",
       "      <td>1</td>\n",
       "      <td>Piemonte</td>\n",
       "      <td>45.073274</td>\n",
       "      <td>7.680687</td>\n",
       "      <td>2</td>\n",
       "      <td>0</td>\n",
       "      <td>2</td>\n",
       "      <td>1</td>\n",
       "      <td>3</td>\n",
       "      <td>3</td>\n",
       "      <td>0</td>\n",
       "      <td>0</td>\n",
       "      <td>3</td>\n",
       "      <td>NaN</td>\n",
       "    </tr>\n",
       "    <tr>\n",
       "      <th>2020-02-24 18:00:00</th>\n",
       "      <td>ITA</td>\n",
       "      <td>16</td>\n",
       "      <td>Puglia</td>\n",
       "      <td>41.125596</td>\n",
       "      <td>16.867367</td>\n",
       "      <td>0</td>\n",
       "      <td>0</td>\n",
       "      <td>0</td>\n",
       "      <td>0</td>\n",
       "      <td>0</td>\n",
       "      <td>0</td>\n",
       "      <td>0</td>\n",
       "      <td>0</td>\n",
       "      <td>0</td>\n",
       "      <td>NaN</td>\n",
       "    </tr>\n",
       "    <tr>\n",
       "      <th>2020-02-24 18:00:00</th>\n",
       "      <td>ITA</td>\n",
       "      <td>20</td>\n",
       "      <td>Sardegna</td>\n",
       "      <td>39.215312</td>\n",
       "      <td>9.110616</td>\n",
       "      <td>0</td>\n",
       "      <td>0</td>\n",
       "      <td>0</td>\n",
       "      <td>0</td>\n",
       "      <td>0</td>\n",
       "      <td>0</td>\n",
       "      <td>0</td>\n",
       "      <td>0</td>\n",
       "      <td>0</td>\n",
       "      <td>NaN</td>\n",
       "    </tr>\n",
       "  </tbody>\n",
       "</table>\n",
       "</div>"
      ],
      "text/plain": [
       "                    Country  RegionCode             RegionName   Latitude  \\\n",
       "Date                                                                        \n",
       "2020-02-24 18:00:00     ITA          13                Abruzzo  42.351222   \n",
       "2020-02-24 18:00:00     ITA          17             Basilicata  40.639471   \n",
       "2020-02-24 18:00:00     ITA          21           P.A. Bolzano  46.499335   \n",
       "2020-02-24 18:00:00     ITA          18               Calabria  38.905976   \n",
       "2020-02-24 18:00:00     ITA          15               Campania  40.839566   \n",
       "2020-02-24 18:00:00     ITA           8         Emilia-Romagna  44.494367   \n",
       "2020-02-24 18:00:00     ITA           6  Friuli Venezia Giulia  45.649435   \n",
       "2020-02-24 18:00:00     ITA          12                  Lazio  41.892770   \n",
       "2020-02-24 18:00:00     ITA           7                Liguria  44.411493   \n",
       "2020-02-24 18:00:00     ITA           3              Lombardia  45.466794   \n",
       "2020-02-24 18:00:00     ITA          11                 Marche  43.616760   \n",
       "2020-02-24 18:00:00     ITA          14                 Molise  41.557748   \n",
       "2020-02-24 18:00:00     ITA           1               Piemonte  45.073274   \n",
       "2020-02-24 18:00:00     ITA          16                 Puglia  41.125596   \n",
       "2020-02-24 18:00:00     ITA          20               Sardegna  39.215312   \n",
       "\n",
       "                     Longitude  HospitalizedPatients  IntensiveCarePatients  \\\n",
       "Date                                                                          \n",
       "2020-02-24 18:00:00  13.398438                     0                      0   \n",
       "2020-02-24 18:00:00  15.805148                     0                      0   \n",
       "2020-02-24 18:00:00  11.356624                     0                      0   \n",
       "2020-02-24 18:00:00  16.594402                     0                      0   \n",
       "2020-02-24 18:00:00  14.250850                     0                      0   \n",
       "2020-02-24 18:00:00  11.341721                    10                      2   \n",
       "2020-02-24 18:00:00  13.768136                     0                      0   \n",
       "2020-02-24 18:00:00  12.483667                     1                      1   \n",
       "2020-02-24 18:00:00   8.932699                     0                      0   \n",
       "2020-02-24 18:00:00   9.190347                    76                     19   \n",
       "2020-02-24 18:00:00  13.518875                     0                      0   \n",
       "2020-02-24 18:00:00  14.659161                     0                      0   \n",
       "2020-02-24 18:00:00   7.680687                     2                      0   \n",
       "2020-02-24 18:00:00  16.867367                     0                      0   \n",
       "2020-02-24 18:00:00   9.110616                     0                      0   \n",
       "\n",
       "                     TotalHospitalizedPatients  HomeConfinement  \\\n",
       "Date                                                              \n",
       "2020-02-24 18:00:00                          0                0   \n",
       "2020-02-24 18:00:00                          0                0   \n",
       "2020-02-24 18:00:00                          0                0   \n",
       "2020-02-24 18:00:00                          0                0   \n",
       "2020-02-24 18:00:00                          0                0   \n",
       "2020-02-24 18:00:00                         12                6   \n",
       "2020-02-24 18:00:00                          0                0   \n",
       "2020-02-24 18:00:00                          2                0   \n",
       "2020-02-24 18:00:00                          0                0   \n",
       "2020-02-24 18:00:00                         95               71   \n",
       "2020-02-24 18:00:00                          0                0   \n",
       "2020-02-24 18:00:00                          0                0   \n",
       "2020-02-24 18:00:00                          2                1   \n",
       "2020-02-24 18:00:00                          0                0   \n",
       "2020-02-24 18:00:00                          0                0   \n",
       "\n",
       "                     CurrentPositiveCases  NewPositiveCases  Recovered  \\\n",
       "Date                                                                     \n",
       "2020-02-24 18:00:00                     0                 0          0   \n",
       "2020-02-24 18:00:00                     0                 0          0   \n",
       "2020-02-24 18:00:00                     0                 0          0   \n",
       "2020-02-24 18:00:00                     0                 0          0   \n",
       "2020-02-24 18:00:00                     0                 0          0   \n",
       "2020-02-24 18:00:00                    18                18          0   \n",
       "2020-02-24 18:00:00                     0                 0          0   \n",
       "2020-02-24 18:00:00                     2                 2          1   \n",
       "2020-02-24 18:00:00                     0                 0          0   \n",
       "2020-02-24 18:00:00                   166               166          0   \n",
       "2020-02-24 18:00:00                     0                 0          0   \n",
       "2020-02-24 18:00:00                     0                 0          0   \n",
       "2020-02-24 18:00:00                     3                 3          0   \n",
       "2020-02-24 18:00:00                     0                 0          0   \n",
       "2020-02-24 18:00:00                     0                 0          0   \n",
       "\n",
       "                     Deaths  TotalPositiveCases  TestsPerformed  \n",
       "Date                                                             \n",
       "2020-02-24 18:00:00       0                   0             NaN  \n",
       "2020-02-24 18:00:00       0                   0             NaN  \n",
       "2020-02-24 18:00:00       0                   0             NaN  \n",
       "2020-02-24 18:00:00       0                   0             NaN  \n",
       "2020-02-24 18:00:00       0                   0             NaN  \n",
       "2020-02-24 18:00:00       0                  18             NaN  \n",
       "2020-02-24 18:00:00       0                   0             NaN  \n",
       "2020-02-24 18:00:00       0                   3             NaN  \n",
       "2020-02-24 18:00:00       0                   0             NaN  \n",
       "2020-02-24 18:00:00       6                 172             NaN  \n",
       "2020-02-24 18:00:00       0                   0             NaN  \n",
       "2020-02-24 18:00:00       0                   0             NaN  \n",
       "2020-02-24 18:00:00       0                   3             NaN  \n",
       "2020-02-24 18:00:00       0                   0             NaN  \n",
       "2020-02-24 18:00:00       0                   0             NaN  "
      ]
     },
     "execution_count": 18,
     "metadata": {},
     "output_type": "execute_result"
    }
   ],
   "source": [
    "#change the Date column into datetime format\n",
    "df.index = pd.to_datetime(df.index)\n",
    "\n",
    "#Drop SNo column\n",
    "df.drop(columns = ['SNo'],inplace  = True)\n",
    "\n",
    "df.head(15)"
   ]
  },
  {
   "cell_type": "markdown",
   "metadata": {},
   "source": [
    "### Exploratory Data Analysis :Gaining some insights on the data \n",
    "\n",
    "Answer the following questions \n",
    "\n",
    "* Timeframe between the first test case and the first death for each region\n",
    "\n",
    "* Number of test, performed per region\n",
    "\n",
    "* Number of deaths,per region"
   ]
  },
  {
   "cell_type": "code",
   "execution_count": 19,
   "metadata": {},
   "outputs": [
    {
     "data": {
      "text/plain": [
       "2450932"
      ]
     },
     "execution_count": 19,
     "metadata": {},
     "output_type": "execute_result"
    }
   ],
   "source": [
    "#Total number of confirmed cases and deaths recorded\n",
    "df['Deaths'].sum()"
   ]
  },
  {
   "cell_type": "code",
   "execution_count": 34,
   "metadata": {},
   "outputs": [],
   "source": [
    "#Region with the most deaths\n",
    "deaths_per_region = pd.DataFrame(df.groupby(['RegionName'])['Deaths'].agg(sum))\n"
   ]
  },
  {
   "cell_type": "code",
   "execution_count": 21,
   "metadata": {},
   "outputs": [
    {
     "data": {
      "text/html": [
       "<div>\n",
       "<style scoped>\n",
       "    .dataframe tbody tr th:only-of-type {\n",
       "        vertical-align: middle;\n",
       "    }\n",
       "\n",
       "    .dataframe tbody tr th {\n",
       "        vertical-align: top;\n",
       "    }\n",
       "\n",
       "    .dataframe thead th {\n",
       "        text-align: right;\n",
       "    }\n",
       "</style>\n",
       "<table border=\"1\" class=\"dataframe\">\n",
       "  <thead>\n",
       "    <tr style=\"text-align: right;\">\n",
       "      <th></th>\n",
       "      <th>TestsPerformed</th>\n",
       "    </tr>\n",
       "    <tr>\n",
       "      <th>RegionName</th>\n",
       "      <th></th>\n",
       "    </tr>\n",
       "  </thead>\n",
       "  <tbody>\n",
       "    <tr>\n",
       "      <th>Abruzzo</th>\n",
       "      <td>2765229.0</td>\n",
       "    </tr>\n",
       "    <tr>\n",
       "      <th>Basilicata</th>\n",
       "      <td>1457007.0</td>\n",
       "    </tr>\n",
       "    <tr>\n",
       "      <th>Calabria</th>\n",
       "      <td>3546703.0</td>\n",
       "    </tr>\n",
       "    <tr>\n",
       "      <th>Campania</th>\n",
       "      <td>4936410.0</td>\n",
       "    </tr>\n",
       "    <tr>\n",
       "      <th>Emilia-Romagna</th>\n",
       "      <td>11120369.0</td>\n",
       "    </tr>\n",
       "    <tr>\n",
       "      <th>Friuli Venezia Giulia</th>\n",
       "      <td>4271966.0</td>\n",
       "    </tr>\n",
       "    <tr>\n",
       "      <th>Lazio</th>\n",
       "      <td>10659732.0</td>\n",
       "    </tr>\n",
       "    <tr>\n",
       "      <th>Liguria</th>\n",
       "      <td>3146183.0</td>\n",
       "    </tr>\n",
       "    <tr>\n",
       "      <th>Lombardia</th>\n",
       "      <td>23480900.0</td>\n",
       "    </tr>\n",
       "    <tr>\n",
       "      <th>Marche</th>\n",
       "      <td>3571297.0</td>\n",
       "    </tr>\n",
       "    <tr>\n",
       "      <th>Molise</th>\n",
       "      <td>738260.0</td>\n",
       "    </tr>\n",
       "    <tr>\n",
       "      <th>P.A. Bolzano</th>\n",
       "      <td>1705716.0</td>\n",
       "    </tr>\n",
       "    <tr>\n",
       "      <th>P.A. Trento</th>\n",
       "      <td>2499942.0</td>\n",
       "    </tr>\n",
       "    <tr>\n",
       "      <th>Piemonte</th>\n",
       "      <td>10932178.0</td>\n",
       "    </tr>\n",
       "    <tr>\n",
       "      <th>Puglia</th>\n",
       "      <td>4599479.0</td>\n",
       "    </tr>\n",
       "    <tr>\n",
       "      <th>Sardegna</th>\n",
       "      <td>2506381.0</td>\n",
       "    </tr>\n",
       "    <tr>\n",
       "      <th>Sicilia</th>\n",
       "      <td>6980199.0</td>\n",
       "    </tr>\n",
       "    <tr>\n",
       "      <th>Toscana</th>\n",
       "      <td>9856642.0</td>\n",
       "    </tr>\n",
       "    <tr>\n",
       "      <th>Umbria</th>\n",
       "      <td>2605641.0</td>\n",
       "    </tr>\n",
       "    <tr>\n",
       "      <th>Valle d'Aosta</th>\n",
       "      <td>596980.0</td>\n",
       "    </tr>\n",
       "    <tr>\n",
       "      <th>Veneto</th>\n",
       "      <td>18240957.0</td>\n",
       "    </tr>\n",
       "  </tbody>\n",
       "</table>\n",
       "</div>"
      ],
      "text/plain": [
       "                       TestsPerformed\n",
       "RegionName                           \n",
       "Abruzzo                     2765229.0\n",
       "Basilicata                  1457007.0\n",
       "Calabria                    3546703.0\n",
       "Campania                    4936410.0\n",
       "Emilia-Romagna             11120369.0\n",
       "Friuli Venezia Giulia       4271966.0\n",
       "Lazio                      10659732.0\n",
       "Liguria                     3146183.0\n",
       "Lombardia                  23480900.0\n",
       "Marche                      3571297.0\n",
       "Molise                       738260.0\n",
       "P.A. Bolzano                1705716.0\n",
       "P.A. Trento                 2499942.0\n",
       "Piemonte                   10932178.0\n",
       "Puglia                      4599479.0\n",
       "Sardegna                    2506381.0\n",
       "Sicilia                     6980199.0\n",
       "Toscana                     9856642.0\n",
       "Umbria                      2605641.0\n",
       "Valle d'Aosta                596980.0\n",
       "Veneto                     18240957.0"
      ]
     },
     "execution_count": 21,
     "metadata": {},
     "output_type": "execute_result"
    }
   ],
   "source": [
    "#Group regions in terms of number of test performed\n",
    "test_per_region = pd.DataFrame(df.groupby(['RegionName'])['TestsPerformed'].agg(sum))\n",
    "test_per_region"
   ]
  },
  {
   "cell_type": "code",
   "execution_count": 97,
   "metadata": {},
   "outputs": [
    {
     "data": {
      "text/html": [
       "<div>\n",
       "<style scoped>\n",
       "    .dataframe tbody tr th:only-of-type {\n",
       "        vertical-align: middle;\n",
       "    }\n",
       "\n",
       "    .dataframe tbody tr th {\n",
       "        vertical-align: top;\n",
       "    }\n",
       "\n",
       "    .dataframe thead th {\n",
       "        text-align: right;\n",
       "    }\n",
       "</style>\n",
       "<table border=\"1\" class=\"dataframe\">\n",
       "  <thead>\n",
       "    <tr style=\"text-align: right;\">\n",
       "      <th></th>\n",
       "      <th>HospitalizedPatients</th>\n",
       "      <th>IntensiveCarePatients</th>\n",
       "      <th>TotalHospitalizedPatients</th>\n",
       "      <th>HomeConfinement</th>\n",
       "      <th>CurrentPositiveCases</th>\n",
       "      <th>NewPositiveCases</th>\n",
       "      <th>Recovered</th>\n",
       "      <th>Deaths</th>\n",
       "      <th>TotalPositiveCases</th>\n",
       "      <th>TestsPerformed</th>\n",
       "    </tr>\n",
       "    <tr>\n",
       "      <th>RegionName</th>\n",
       "      <th></th>\n",
       "      <th></th>\n",
       "      <th></th>\n",
       "      <th></th>\n",
       "      <th></th>\n",
       "      <th></th>\n",
       "      <th></th>\n",
       "      <th></th>\n",
       "      <th></th>\n",
       "      <th></th>\n",
       "    </tr>\n",
       "  </thead>\n",
       "  <tbody>\n",
       "    <tr>\n",
       "      <th>Abruzzo</th>\n",
       "      <td>21844</td>\n",
       "      <td>2660</td>\n",
       "      <td>24504</td>\n",
       "      <td>94995</td>\n",
       "      <td>119499</td>\n",
       "      <td>3286</td>\n",
       "      <td>99417</td>\n",
       "      <td>28549</td>\n",
       "      <td>247465</td>\n",
       "      <td>2765229.0</td>\n",
       "    </tr>\n",
       "    <tr>\n",
       "      <th>Basilicata</th>\n",
       "      <td>2868</td>\n",
       "      <td>570</td>\n",
       "      <td>3438</td>\n",
       "      <td>9217</td>\n",
       "      <td>12655</td>\n",
       "      <td>401</td>\n",
       "      <td>17324</td>\n",
       "      <td>1995</td>\n",
       "      <td>31974</td>\n",
       "      <td>1457007.0</td>\n",
       "    </tr>\n",
       "    <tr>\n",
       "      <th>Calabria</th>\n",
       "      <td>8131</td>\n",
       "      <td>677</td>\n",
       "      <td>8808</td>\n",
       "      <td>35022</td>\n",
       "      <td>43830</td>\n",
       "      <td>1174</td>\n",
       "      <td>43119</td>\n",
       "      <td>7172</td>\n",
       "      <td>94121</td>\n",
       "      <td>3546703.0</td>\n",
       "    </tr>\n",
       "    <tr>\n",
       "      <th>Campania</th>\n",
       "      <td>35416</td>\n",
       "      <td>4466</td>\n",
       "      <td>39882</td>\n",
       "      <td>127762</td>\n",
       "      <td>167644</td>\n",
       "      <td>4617</td>\n",
       "      <td>176010</td>\n",
       "      <td>30260</td>\n",
       "      <td>373914</td>\n",
       "      <td>4936410.0</td>\n",
       "    </tr>\n",
       "    <tr>\n",
       "      <th>Emilia-Romagna</th>\n",
       "      <td>189335</td>\n",
       "      <td>19365</td>\n",
       "      <td>208700</td>\n",
       "      <td>541517</td>\n",
       "      <td>750217</td>\n",
       "      <td>28221</td>\n",
       "      <td>1155832</td>\n",
       "      <td>308333</td>\n",
       "      <td>2214382</td>\n",
       "      <td>11120369.0</td>\n",
       "    </tr>\n",
       "    <tr>\n",
       "      <th>Friuli Venezia Giulia</th>\n",
       "      <td>11035</td>\n",
       "      <td>1757</td>\n",
       "      <td>12792</td>\n",
       "      <td>64245</td>\n",
       "      <td>77037</td>\n",
       "      <td>3305</td>\n",
       "      <td>159096</td>\n",
       "      <td>24325</td>\n",
       "      <td>260458</td>\n",
       "      <td>4271966.0</td>\n",
       "    </tr>\n",
       "    <tr>\n",
       "      <th>Lazio</th>\n",
       "      <td>96217</td>\n",
       "      <td>10441</td>\n",
       "      <td>106658</td>\n",
       "      <td>200819</td>\n",
       "      <td>307477</td>\n",
       "      <td>8016</td>\n",
       "      <td>223266</td>\n",
       "      <td>46121</td>\n",
       "      <td>576864</td>\n",
       "      <td>10659732.0</td>\n",
       "    </tr>\n",
       "    <tr>\n",
       "      <th>Liguria</th>\n",
       "      <td>56093</td>\n",
       "      <td>7296</td>\n",
       "      <td>63389</td>\n",
       "      <td>143035</td>\n",
       "      <td>206424</td>\n",
       "      <td>9927</td>\n",
       "      <td>391619</td>\n",
       "      <td>102018</td>\n",
       "      <td>700061</td>\n",
       "      <td>3146183.0</td>\n",
       "    </tr>\n",
       "    <tr>\n",
       "      <th>Lombardia</th>\n",
       "      <td>702408</td>\n",
       "      <td>67146</td>\n",
       "      <td>769554</td>\n",
       "      <td>1813408</td>\n",
       "      <td>2582962</td>\n",
       "      <td>92962</td>\n",
       "      <td>3107797</td>\n",
       "      <td>1226219</td>\n",
       "      <td>6916978</td>\n",
       "      <td>23480900.0</td>\n",
       "    </tr>\n",
       "    <tr>\n",
       "      <th>Marche</th>\n",
       "      <td>48019</td>\n",
       "      <td>6880</td>\n",
       "      <td>54899</td>\n",
       "      <td>182618</td>\n",
       "      <td>237517</td>\n",
       "      <td>6768</td>\n",
       "      <td>239675</td>\n",
       "      <td>77131</td>\n",
       "      <td>554323</td>\n",
       "      <td>3571297.0</td>\n",
       "    </tr>\n",
       "    <tr>\n",
       "      <th>Molise</th>\n",
       "      <td>1424</td>\n",
       "      <td>312</td>\n",
       "      <td>1736</td>\n",
       "      <td>13154</td>\n",
       "      <td>14890</td>\n",
       "      <td>441</td>\n",
       "      <td>13599</td>\n",
       "      <td>1741</td>\n",
       "      <td>30230</td>\n",
       "      <td>738260.0</td>\n",
       "    </tr>\n",
       "    <tr>\n",
       "      <th>P.A. Bolzano</th>\n",
       "      <td>10611</td>\n",
       "      <td>1954</td>\n",
       "      <td>12565</td>\n",
       "      <td>51612</td>\n",
       "      <td>64177</td>\n",
       "      <td>2621</td>\n",
       "      <td>125305</td>\n",
       "      <td>22172</td>\n",
       "      <td>211654</td>\n",
       "      <td>1705716.0</td>\n",
       "    </tr>\n",
       "    <tr>\n",
       "      <th>P.A. Trento</th>\n",
       "      <td>15079</td>\n",
       "      <td>2674</td>\n",
       "      <td>17753</td>\n",
       "      <td>74514</td>\n",
       "      <td>92267</td>\n",
       "      <td>4463</td>\n",
       "      <td>213828</td>\n",
       "      <td>34166</td>\n",
       "      <td>340261</td>\n",
       "      <td>2499942.0</td>\n",
       "    </tr>\n",
       "    <tr>\n",
       "      <th>Piemonte</th>\n",
       "      <td>201984</td>\n",
       "      <td>20688</td>\n",
       "      <td>222672</td>\n",
       "      <td>655367</td>\n",
       "      <td>878039</td>\n",
       "      <td>31241</td>\n",
       "      <td>1063137</td>\n",
       "      <td>260290</td>\n",
       "      <td>2201466</td>\n",
       "      <td>10932178.0</td>\n",
       "    </tr>\n",
       "    <tr>\n",
       "      <th>Puglia</th>\n",
       "      <td>33448</td>\n",
       "      <td>4102</td>\n",
       "      <td>37550</td>\n",
       "      <td>133248</td>\n",
       "      <td>170798</td>\n",
       "      <td>4527</td>\n",
       "      <td>135419</td>\n",
       "      <td>34992</td>\n",
       "      <td>341209</td>\n",
       "      <td>4599479.0</td>\n",
       "    </tr>\n",
       "    <tr>\n",
       "      <th>Sardegna</th>\n",
       "      <td>6917</td>\n",
       "      <td>1202</td>\n",
       "      <td>8119</td>\n",
       "      <td>37379</td>\n",
       "      <td>45498</td>\n",
       "      <td>1369</td>\n",
       "      <td>55688</td>\n",
       "      <td>9182</td>\n",
       "      <td>110368</td>\n",
       "      <td>2506381.0</td>\n",
       "    </tr>\n",
       "    <tr>\n",
       "      <th>Sicilia</th>\n",
       "      <td>27085</td>\n",
       "      <td>3032</td>\n",
       "      <td>30117</td>\n",
       "      <td>113369</td>\n",
       "      <td>143486</td>\n",
       "      <td>3469</td>\n",
       "      <td>102994</td>\n",
       "      <td>19604</td>\n",
       "      <td>266084</td>\n",
       "      <td>6980199.0</td>\n",
       "    </tr>\n",
       "    <tr>\n",
       "      <th>Toscana</th>\n",
       "      <td>50547</td>\n",
       "      <td>12884</td>\n",
       "      <td>63431</td>\n",
       "      <td>266498</td>\n",
       "      <td>329929</td>\n",
       "      <td>10210</td>\n",
       "      <td>391406</td>\n",
       "      <td>71303</td>\n",
       "      <td>792638</td>\n",
       "      <td>9856642.0</td>\n",
       "    </tr>\n",
       "    <tr>\n",
       "      <th>Umbria</th>\n",
       "      <td>6743</td>\n",
       "      <td>1767</td>\n",
       "      <td>8510</td>\n",
       "      <td>21955</td>\n",
       "      <td>30465</td>\n",
       "      <td>1438</td>\n",
       "      <td>87786</td>\n",
       "      <td>5747</td>\n",
       "      <td>123998</td>\n",
       "      <td>2605641.0</td>\n",
       "    </tr>\n",
       "    <tr>\n",
       "      <th>Valle d'Aosta</th>\n",
       "      <td>5329</td>\n",
       "      <td>728</td>\n",
       "      <td>6057</td>\n",
       "      <td>16466</td>\n",
       "      <td>22523</td>\n",
       "      <td>1193</td>\n",
       "      <td>62338</td>\n",
       "      <td>11134</td>\n",
       "      <td>95995</td>\n",
       "      <td>596980.0</td>\n",
       "    </tr>\n",
       "    <tr>\n",
       "      <th>Veneto</th>\n",
       "      <td>77582</td>\n",
       "      <td>13180</td>\n",
       "      <td>90762</td>\n",
       "      <td>455176</td>\n",
       "      <td>545938</td>\n",
       "      <td>19244</td>\n",
       "      <td>855031</td>\n",
       "      <td>128478</td>\n",
       "      <td>1529447</td>\n",
       "      <td>18240957.0</td>\n",
       "    </tr>\n",
       "  </tbody>\n",
       "</table>\n",
       "</div>"
      ],
      "text/plain": [
       "                       HospitalizedPatients  IntensiveCarePatients  \\\n",
       "RegionName                                                           \n",
       "Abruzzo                               21844                   2660   \n",
       "Basilicata                             2868                    570   \n",
       "Calabria                               8131                    677   \n",
       "Campania                              35416                   4466   \n",
       "Emilia-Romagna                       189335                  19365   \n",
       "Friuli Venezia Giulia                 11035                   1757   \n",
       "Lazio                                 96217                  10441   \n",
       "Liguria                               56093                   7296   \n",
       "Lombardia                            702408                  67146   \n",
       "Marche                                48019                   6880   \n",
       "Molise                                 1424                    312   \n",
       "P.A. Bolzano                          10611                   1954   \n",
       "P.A. Trento                           15079                   2674   \n",
       "Piemonte                             201984                  20688   \n",
       "Puglia                                33448                   4102   \n",
       "Sardegna                               6917                   1202   \n",
       "Sicilia                               27085                   3032   \n",
       "Toscana                               50547                  12884   \n",
       "Umbria                                 6743                   1767   \n",
       "Valle d'Aosta                          5329                    728   \n",
       "Veneto                                77582                  13180   \n",
       "\n",
       "                       TotalHospitalizedPatients  HomeConfinement  \\\n",
       "RegionName                                                          \n",
       "Abruzzo                                    24504            94995   \n",
       "Basilicata                                  3438             9217   \n",
       "Calabria                                    8808            35022   \n",
       "Campania                                   39882           127762   \n",
       "Emilia-Romagna                            208700           541517   \n",
       "Friuli Venezia Giulia                      12792            64245   \n",
       "Lazio                                     106658           200819   \n",
       "Liguria                                    63389           143035   \n",
       "Lombardia                                 769554          1813408   \n",
       "Marche                                     54899           182618   \n",
       "Molise                                      1736            13154   \n",
       "P.A. Bolzano                               12565            51612   \n",
       "P.A. Trento                                17753            74514   \n",
       "Piemonte                                  222672           655367   \n",
       "Puglia                                     37550           133248   \n",
       "Sardegna                                    8119            37379   \n",
       "Sicilia                                    30117           113369   \n",
       "Toscana                                    63431           266498   \n",
       "Umbria                                      8510            21955   \n",
       "Valle d'Aosta                               6057            16466   \n",
       "Veneto                                     90762           455176   \n",
       "\n",
       "                       CurrentPositiveCases  NewPositiveCases  Recovered  \\\n",
       "RegionName                                                                 \n",
       "Abruzzo                              119499              3286      99417   \n",
       "Basilicata                            12655               401      17324   \n",
       "Calabria                              43830              1174      43119   \n",
       "Campania                             167644              4617     176010   \n",
       "Emilia-Romagna                       750217             28221    1155832   \n",
       "Friuli Venezia Giulia                 77037              3305     159096   \n",
       "Lazio                                307477              8016     223266   \n",
       "Liguria                              206424              9927     391619   \n",
       "Lombardia                           2582962             92962    3107797   \n",
       "Marche                               237517              6768     239675   \n",
       "Molise                                14890               441      13599   \n",
       "P.A. Bolzano                          64177              2621     125305   \n",
       "P.A. Trento                           92267              4463     213828   \n",
       "Piemonte                             878039             31241    1063137   \n",
       "Puglia                               170798              4527     135419   \n",
       "Sardegna                              45498              1369      55688   \n",
       "Sicilia                              143486              3469     102994   \n",
       "Toscana                              329929             10210     391406   \n",
       "Umbria                                30465              1438      87786   \n",
       "Valle d'Aosta                         22523              1193      62338   \n",
       "Veneto                               545938             19244     855031   \n",
       "\n",
       "                        Deaths  TotalPositiveCases  TestsPerformed  \n",
       "RegionName                                                          \n",
       "Abruzzo                  28549              247465       2765229.0  \n",
       "Basilicata                1995               31974       1457007.0  \n",
       "Calabria                  7172               94121       3546703.0  \n",
       "Campania                 30260              373914       4936410.0  \n",
       "Emilia-Romagna          308333             2214382      11120369.0  \n",
       "Friuli Venezia Giulia    24325              260458       4271966.0  \n",
       "Lazio                    46121              576864      10659732.0  \n",
       "Liguria                 102018              700061       3146183.0  \n",
       "Lombardia              1226219             6916978      23480900.0  \n",
       "Marche                   77131              554323       3571297.0  \n",
       "Molise                    1741               30230        738260.0  \n",
       "P.A. Bolzano             22172              211654       1705716.0  \n",
       "P.A. Trento              34166              340261       2499942.0  \n",
       "Piemonte                260290             2201466      10932178.0  \n",
       "Puglia                   34992              341209       4599479.0  \n",
       "Sardegna                  9182              110368       2506381.0  \n",
       "Sicilia                  19604              266084       6980199.0  \n",
       "Toscana                  71303              792638       9856642.0  \n",
       "Umbria                    5747              123998       2605641.0  \n",
       "Valle d'Aosta            11134               95995        596980.0  \n",
       "Veneto                  128478             1529447      18240957.0  "
      ]
     },
     "execution_count": 97,
     "metadata": {},
     "output_type": "execute_result"
    }
   ],
   "source": [
    "#GSummary of covid related info from the dataset\n",
    "df_covid = df.copy().drop(columns = ['Latitude','Longitude','Country','RegionCode'],axis = 1)\n",
    "df_covid_summary=  pd.DataFrame(df_covid.groupby('RegionName').sum())\n",
    "df_covid_summary"
   ]
  },
  {
   "cell_type": "code",
   "execution_count": 108,
   "metadata": {},
   "outputs": [],
   "source": [
    "def Region_df(city):\n",
    "    ''' Create dataframe for each region'''\n",
    "\n",
    "    df_city = df_covid[df_covid['RegionName']== 'city']\n",
    "    return df_city"
   ]
  },
  {
   "cell_type": "code",
   "execution_count": 77,
   "metadata": {},
   "outputs": [
    {
     "data": {
      "text/html": [
       "<div>\n",
       "<style scoped>\n",
       "    .dataframe tbody tr th:only-of-type {\n",
       "        vertical-align: middle;\n",
       "    }\n",
       "\n",
       "    .dataframe tbody tr th {\n",
       "        vertical-align: top;\n",
       "    }\n",
       "\n",
       "    .dataframe thead th {\n",
       "        text-align: right;\n",
       "    }\n",
       "</style>\n",
       "<table border=\"1\" class=\"dataframe\">\n",
       "  <thead>\n",
       "    <tr style=\"text-align: right;\">\n",
       "      <th></th>\n",
       "      <th>RegionName</th>\n",
       "      <th>HospitalizedPatients</th>\n",
       "      <th>IntensiveCarePatients</th>\n",
       "      <th>TotalHospitalizedPatients</th>\n",
       "      <th>HomeConfinement</th>\n",
       "      <th>CurrentPositiveCases</th>\n",
       "      <th>NewPositiveCases</th>\n",
       "      <th>Recovered</th>\n",
       "      <th>Deaths</th>\n",
       "      <th>TotalPositiveCases</th>\n",
       "      <th>TestsPerformed</th>\n",
       "    </tr>\n",
       "    <tr>\n",
       "      <th>Date</th>\n",
       "      <th></th>\n",
       "      <th></th>\n",
       "      <th></th>\n",
       "      <th></th>\n",
       "      <th></th>\n",
       "      <th></th>\n",
       "      <th></th>\n",
       "      <th></th>\n",
       "      <th></th>\n",
       "      <th></th>\n",
       "      <th></th>\n",
       "    </tr>\n",
       "  </thead>\n",
       "  <tbody>\n",
       "    <tr>\n",
       "      <th>2020-02-24 18:00:00</th>\n",
       "      <td>Puglia</td>\n",
       "      <td>0</td>\n",
       "      <td>0</td>\n",
       "      <td>0</td>\n",
       "      <td>0</td>\n",
       "      <td>0</td>\n",
       "      <td>0</td>\n",
       "      <td>0</td>\n",
       "      <td>0</td>\n",
       "      <td>0</td>\n",
       "      <td>NaN</td>\n",
       "    </tr>\n",
       "    <tr>\n",
       "      <th>2020-02-25 18:00:00</th>\n",
       "      <td>Puglia</td>\n",
       "      <td>0</td>\n",
       "      <td>0</td>\n",
       "      <td>0</td>\n",
       "      <td>0</td>\n",
       "      <td>0</td>\n",
       "      <td>0</td>\n",
       "      <td>0</td>\n",
       "      <td>0</td>\n",
       "      <td>0</td>\n",
       "      <td>NaN</td>\n",
       "    </tr>\n",
       "    <tr>\n",
       "      <th>2020-02-26 18:00:00</th>\n",
       "      <td>Puglia</td>\n",
       "      <td>0</td>\n",
       "      <td>0</td>\n",
       "      <td>0</td>\n",
       "      <td>0</td>\n",
       "      <td>0</td>\n",
       "      <td>0</td>\n",
       "      <td>0</td>\n",
       "      <td>0</td>\n",
       "      <td>0</td>\n",
       "      <td>NaN</td>\n",
       "    </tr>\n",
       "    <tr>\n",
       "      <th>2020-02-27 18:00:00</th>\n",
       "      <td>Puglia</td>\n",
       "      <td>1</td>\n",
       "      <td>0</td>\n",
       "      <td>1</td>\n",
       "      <td>0</td>\n",
       "      <td>1</td>\n",
       "      <td>1</td>\n",
       "      <td>0</td>\n",
       "      <td>0</td>\n",
       "      <td>1</td>\n",
       "      <td>NaN</td>\n",
       "    </tr>\n",
       "    <tr>\n",
       "      <th>2020-02-28 18:00:00</th>\n",
       "      <td>Puglia</td>\n",
       "      <td>1</td>\n",
       "      <td>0</td>\n",
       "      <td>1</td>\n",
       "      <td>2</td>\n",
       "      <td>3</td>\n",
       "      <td>2</td>\n",
       "      <td>0</td>\n",
       "      <td>0</td>\n",
       "      <td>3</td>\n",
       "      <td>NaN</td>\n",
       "    </tr>\n",
       "    <tr>\n",
       "      <th>...</th>\n",
       "      <td>...</td>\n",
       "      <td>...</td>\n",
       "      <td>...</td>\n",
       "      <td>...</td>\n",
       "      <td>...</td>\n",
       "      <td>...</td>\n",
       "      <td>...</td>\n",
       "      <td>...</td>\n",
       "      <td>...</td>\n",
       "      <td>...</td>\n",
       "      <td>...</td>\n",
       "    </tr>\n",
       "    <tr>\n",
       "      <th>2020-06-17 17:00:00</th>\n",
       "      <td>Puglia</td>\n",
       "      <td>46</td>\n",
       "      <td>2</td>\n",
       "      <td>48</td>\n",
       "      <td>276</td>\n",
       "      <td>324</td>\n",
       "      <td>0</td>\n",
       "      <td>3656</td>\n",
       "      <td>536</td>\n",
       "      <td>4516</td>\n",
       "      <td>101350.0</td>\n",
       "    </tr>\n",
       "    <tr>\n",
       "      <th>2020-06-18 17:00:00</th>\n",
       "      <td>Puglia</td>\n",
       "      <td>34</td>\n",
       "      <td>1</td>\n",
       "      <td>35</td>\n",
       "      <td>271</td>\n",
       "      <td>306</td>\n",
       "      <td>3</td>\n",
       "      <td>3675</td>\n",
       "      <td>538</td>\n",
       "      <td>4519</td>\n",
       "      <td>103148.0</td>\n",
       "    </tr>\n",
       "    <tr>\n",
       "      <th>2020-06-19 17:00:00</th>\n",
       "      <td>Puglia</td>\n",
       "      <td>31</td>\n",
       "      <td>1</td>\n",
       "      <td>32</td>\n",
       "      <td>223</td>\n",
       "      <td>255</td>\n",
       "      <td>1</td>\n",
       "      <td>3727</td>\n",
       "      <td>538</td>\n",
       "      <td>4520</td>\n",
       "      <td>104225.0</td>\n",
       "    </tr>\n",
       "    <tr>\n",
       "      <th>2020-06-20 17:00:00</th>\n",
       "      <td>Puglia</td>\n",
       "      <td>32</td>\n",
       "      <td>1</td>\n",
       "      <td>33</td>\n",
       "      <td>187</td>\n",
       "      <td>220</td>\n",
       "      <td>5</td>\n",
       "      <td>3765</td>\n",
       "      <td>540</td>\n",
       "      <td>4525</td>\n",
       "      <td>105780.0</td>\n",
       "    </tr>\n",
       "    <tr>\n",
       "      <th>2020-06-21 17:00:00</th>\n",
       "      <td>Puglia</td>\n",
       "      <td>32</td>\n",
       "      <td>1</td>\n",
       "      <td>33</td>\n",
       "      <td>189</td>\n",
       "      <td>222</td>\n",
       "      <td>2</td>\n",
       "      <td>3765</td>\n",
       "      <td>540</td>\n",
       "      <td>4527</td>\n",
       "      <td>106637.0</td>\n",
       "    </tr>\n",
       "  </tbody>\n",
       "</table>\n",
       "<p>119 rows × 11 columns</p>\n",
       "</div>"
      ],
      "text/plain": [
       "                    RegionName  HospitalizedPatients  IntensiveCarePatients  \\\n",
       "Date                                                                          \n",
       "2020-02-24 18:00:00     Puglia                     0                      0   \n",
       "2020-02-25 18:00:00     Puglia                     0                      0   \n",
       "2020-02-26 18:00:00     Puglia                     0                      0   \n",
       "2020-02-27 18:00:00     Puglia                     1                      0   \n",
       "2020-02-28 18:00:00     Puglia                     1                      0   \n",
       "...                        ...                   ...                    ...   \n",
       "2020-06-17 17:00:00     Puglia                    46                      2   \n",
       "2020-06-18 17:00:00     Puglia                    34                      1   \n",
       "2020-06-19 17:00:00     Puglia                    31                      1   \n",
       "2020-06-20 17:00:00     Puglia                    32                      1   \n",
       "2020-06-21 17:00:00     Puglia                    32                      1   \n",
       "\n",
       "                     TotalHospitalizedPatients  HomeConfinement  \\\n",
       "Date                                                              \n",
       "2020-02-24 18:00:00                          0                0   \n",
       "2020-02-25 18:00:00                          0                0   \n",
       "2020-02-26 18:00:00                          0                0   \n",
       "2020-02-27 18:00:00                          1                0   \n",
       "2020-02-28 18:00:00                          1                2   \n",
       "...                                        ...              ...   \n",
       "2020-06-17 17:00:00                         48              276   \n",
       "2020-06-18 17:00:00                         35              271   \n",
       "2020-06-19 17:00:00                         32              223   \n",
       "2020-06-20 17:00:00                         33              187   \n",
       "2020-06-21 17:00:00                         33              189   \n",
       "\n",
       "                     CurrentPositiveCases  NewPositiveCases  Recovered  \\\n",
       "Date                                                                     \n",
       "2020-02-24 18:00:00                     0                 0          0   \n",
       "2020-02-25 18:00:00                     0                 0          0   \n",
       "2020-02-26 18:00:00                     0                 0          0   \n",
       "2020-02-27 18:00:00                     1                 1          0   \n",
       "2020-02-28 18:00:00                     3                 2          0   \n",
       "...                                   ...               ...        ...   \n",
       "2020-06-17 17:00:00                   324                 0       3656   \n",
       "2020-06-18 17:00:00                   306                 3       3675   \n",
       "2020-06-19 17:00:00                   255                 1       3727   \n",
       "2020-06-20 17:00:00                   220                 5       3765   \n",
       "2020-06-21 17:00:00                   222                 2       3765   \n",
       "\n",
       "                     Deaths  TotalPositiveCases  TestsPerformed  \n",
       "Date                                                             \n",
       "2020-02-24 18:00:00       0                   0             NaN  \n",
       "2020-02-25 18:00:00       0                   0             NaN  \n",
       "2020-02-26 18:00:00       0                   0             NaN  \n",
       "2020-02-27 18:00:00       0                   1             NaN  \n",
       "2020-02-28 18:00:00       0                   3             NaN  \n",
       "...                     ...                 ...             ...  \n",
       "2020-06-17 17:00:00     536                4516        101350.0  \n",
       "2020-06-18 17:00:00     538                4519        103148.0  \n",
       "2020-06-19 17:00:00     538                4520        104225.0  \n",
       "2020-06-20 17:00:00     540                4525        105780.0  \n",
       "2020-06-21 17:00:00     540                4527        106637.0  \n",
       "\n",
       "[119 rows x 11 columns]"
      ]
     },
     "execution_count": 77,
     "metadata": {},
     "output_type": "execute_result"
    }
   ],
   "source": [
    "df_RegionName = df_covid[df_covid['RegionName']== 'Puglia']\n",
    "df_RegionName"
   ]
  },
  {
   "cell_type": "code",
   "execution_count": 107,
   "metadata": {},
   "outputs": [
    {
     "ename": "InvalidIndexError",
     "evalue": "Reindexing only valid with uniquely valued Index objects",
     "output_type": "error",
     "traceback": [
      "\u001b[1;31m---------------------------------------------------------------------------\u001b[0m",
      "\u001b[1;31mInvalidIndexError\u001b[0m                         Traceback (most recent call last)",
      "\u001b[1;32m<ipython-input-107-8d32c69678b8>\u001b[0m in \u001b[0;36m<module>\u001b[1;34m\u001b[0m\n\u001b[1;32m----> 1\u001b[1;33m \u001b[0mRegion_df\u001b[0m\u001b[1;33m(\u001b[0m\u001b[1;34m'Puglia'\u001b[0m\u001b[1;33m)\u001b[0m\u001b[1;33m\u001b[0m\u001b[1;33m\u001b[0m\u001b[0m\n\u001b[0m",
      "\u001b[1;32m<ipython-input-106-142e455bc7ae>\u001b[0m in \u001b[0;36mRegion_df\u001b[1;34m(city)\u001b[0m\n\u001b[0;32m      2\u001b[0m     \u001b[1;34m''' Create dataframe for each region'''\u001b[0m\u001b[1;33m\u001b[0m\u001b[1;33m\u001b[0m\u001b[0m\n\u001b[0;32m      3\u001b[0m \u001b[1;33m\u001b[0m\u001b[0m\n\u001b[1;32m----> 4\u001b[1;33m     \u001b[0mdf_city\u001b[0m \u001b[1;33m=\u001b[0m \u001b[0mpd\u001b[0m\u001b[1;33m.\u001b[0m\u001b[0mDataFrame\u001b[0m\u001b[1;33m(\u001b[0m\u001b[1;33m[\u001b[0m\u001b[0mdf_covid\u001b[0m\u001b[1;33m[\u001b[0m\u001b[1;34m'RegionName'\u001b[0m\u001b[1;33m]\u001b[0m\u001b[1;33m==\u001b[0m \u001b[1;34m'city'\u001b[0m\u001b[1;33m]\u001b[0m\u001b[1;33m)\u001b[0m\u001b[1;33m\u001b[0m\u001b[1;33m\u001b[0m\u001b[0m\n\u001b[0m\u001b[0;32m      5\u001b[0m     \u001b[1;32mreturn\u001b[0m \u001b[0mdf_city\u001b[0m\u001b[1;33m\u001b[0m\u001b[1;33m\u001b[0m\u001b[0m\n",
      "\u001b[1;32mc:\\users\\anwender\\appdata\\local\\programs\\python\\python37\\lib\\site-packages\\pandas\\core\\frame.py\u001b[0m in \u001b[0;36m__init__\u001b[1;34m(self, data, index, columns, dtype, copy)\u001b[0m\n\u001b[0;32m    448\u001b[0m                     \u001b[1;32mif\u001b[0m \u001b[0mis_named_tuple\u001b[0m\u001b[1;33m(\u001b[0m\u001b[0mdata\u001b[0m\u001b[1;33m[\u001b[0m\u001b[1;36m0\u001b[0m\u001b[1;33m]\u001b[0m\u001b[1;33m)\u001b[0m \u001b[1;32mand\u001b[0m \u001b[0mcolumns\u001b[0m \u001b[1;32mis\u001b[0m \u001b[1;32mNone\u001b[0m\u001b[1;33m:\u001b[0m\u001b[1;33m\u001b[0m\u001b[1;33m\u001b[0m\u001b[0m\n\u001b[0;32m    449\u001b[0m                         \u001b[0mcolumns\u001b[0m \u001b[1;33m=\u001b[0m \u001b[0mdata\u001b[0m\u001b[1;33m[\u001b[0m\u001b[1;36m0\u001b[0m\u001b[1;33m]\u001b[0m\u001b[1;33m.\u001b[0m\u001b[0m_fields\u001b[0m\u001b[1;33m\u001b[0m\u001b[1;33m\u001b[0m\u001b[0m\n\u001b[1;32m--> 450\u001b[1;33m                     \u001b[0marrays\u001b[0m\u001b[1;33m,\u001b[0m \u001b[0mcolumns\u001b[0m \u001b[1;33m=\u001b[0m \u001b[0mto_arrays\u001b[0m\u001b[1;33m(\u001b[0m\u001b[0mdata\u001b[0m\u001b[1;33m,\u001b[0m \u001b[0mcolumns\u001b[0m\u001b[1;33m,\u001b[0m \u001b[0mdtype\u001b[0m\u001b[1;33m=\u001b[0m\u001b[0mdtype\u001b[0m\u001b[1;33m)\u001b[0m\u001b[1;33m\u001b[0m\u001b[1;33m\u001b[0m\u001b[0m\n\u001b[0m\u001b[0;32m    451\u001b[0m                     \u001b[0mcolumns\u001b[0m \u001b[1;33m=\u001b[0m \u001b[0mensure_index\u001b[0m\u001b[1;33m(\u001b[0m\u001b[0mcolumns\u001b[0m\u001b[1;33m)\u001b[0m\u001b[1;33m\u001b[0m\u001b[1;33m\u001b[0m\u001b[0m\n\u001b[0;32m    452\u001b[0m \u001b[1;33m\u001b[0m\u001b[0m\n",
      "\u001b[1;32mc:\\users\\anwender\\appdata\\local\\programs\\python\\python37\\lib\\site-packages\\pandas\\core\\internals\\construction.py\u001b[0m in \u001b[0;36mto_arrays\u001b[1;34m(data, columns, coerce_float, dtype)\u001b[0m\n\u001b[0;32m    469\u001b[0m     \u001b[1;32melif\u001b[0m \u001b[0misinstance\u001b[0m\u001b[1;33m(\u001b[0m\u001b[0mdata\u001b[0m\u001b[1;33m[\u001b[0m\u001b[1;36m0\u001b[0m\u001b[1;33m]\u001b[0m\u001b[1;33m,\u001b[0m \u001b[0mABCSeries\u001b[0m\u001b[1;33m)\u001b[0m\u001b[1;33m:\u001b[0m\u001b[1;33m\u001b[0m\u001b[1;33m\u001b[0m\u001b[0m\n\u001b[0;32m    470\u001b[0m         return _list_of_series_to_arrays(\n\u001b[1;32m--> 471\u001b[1;33m             \u001b[0mdata\u001b[0m\u001b[1;33m,\u001b[0m \u001b[0mcolumns\u001b[0m\u001b[1;33m,\u001b[0m \u001b[0mcoerce_float\u001b[0m\u001b[1;33m=\u001b[0m\u001b[0mcoerce_float\u001b[0m\u001b[1;33m,\u001b[0m \u001b[0mdtype\u001b[0m\u001b[1;33m=\u001b[0m\u001b[0mdtype\u001b[0m\u001b[1;33m\u001b[0m\u001b[1;33m\u001b[0m\u001b[0m\n\u001b[0m\u001b[0;32m    472\u001b[0m         )\n\u001b[0;32m    473\u001b[0m     \u001b[1;32melif\u001b[0m \u001b[0misinstance\u001b[0m\u001b[1;33m(\u001b[0m\u001b[0mdata\u001b[0m\u001b[1;33m[\u001b[0m\u001b[1;36m0\u001b[0m\u001b[1;33m]\u001b[0m\u001b[1;33m,\u001b[0m \u001b[0mCategorical\u001b[0m\u001b[1;33m)\u001b[0m\u001b[1;33m:\u001b[0m\u001b[1;33m\u001b[0m\u001b[1;33m\u001b[0m\u001b[0m\n",
      "\u001b[1;32mc:\\users\\anwender\\appdata\\local\\programs\\python\\python37\\lib\\site-packages\\pandas\\core\\internals\\construction.py\u001b[0m in \u001b[0;36m_list_of_series_to_arrays\u001b[1;34m(data, columns, coerce_float, dtype)\u001b[0m\n\u001b[0;32m    520\u001b[0m             \u001b[0mindexer\u001b[0m \u001b[1;33m=\u001b[0m \u001b[0mindexer_cache\u001b[0m\u001b[1;33m[\u001b[0m\u001b[0mid\u001b[0m\u001b[1;33m(\u001b[0m\u001b[0mindex\u001b[0m\u001b[1;33m)\u001b[0m\u001b[1;33m]\u001b[0m\u001b[1;33m\u001b[0m\u001b[1;33m\u001b[0m\u001b[0m\n\u001b[0;32m    521\u001b[0m         \u001b[1;32melse\u001b[0m\u001b[1;33m:\u001b[0m\u001b[1;33m\u001b[0m\u001b[1;33m\u001b[0m\u001b[0m\n\u001b[1;32m--> 522\u001b[1;33m             \u001b[0mindexer\u001b[0m \u001b[1;33m=\u001b[0m \u001b[0mindexer_cache\u001b[0m\u001b[1;33m[\u001b[0m\u001b[0mid\u001b[0m\u001b[1;33m(\u001b[0m\u001b[0mindex\u001b[0m\u001b[1;33m)\u001b[0m\u001b[1;33m]\u001b[0m \u001b[1;33m=\u001b[0m \u001b[0mindex\u001b[0m\u001b[1;33m.\u001b[0m\u001b[0mget_indexer\u001b[0m\u001b[1;33m(\u001b[0m\u001b[0mcolumns\u001b[0m\u001b[1;33m)\u001b[0m\u001b[1;33m\u001b[0m\u001b[1;33m\u001b[0m\u001b[0m\n\u001b[0m\u001b[0;32m    523\u001b[0m \u001b[1;33m\u001b[0m\u001b[0m\n\u001b[0;32m    524\u001b[0m         \u001b[0mvalues\u001b[0m \u001b[1;33m=\u001b[0m \u001b[0mcom\u001b[0m\u001b[1;33m.\u001b[0m\u001b[0mvalues_from_object\u001b[0m\u001b[1;33m(\u001b[0m\u001b[0ms\u001b[0m\u001b[1;33m)\u001b[0m\u001b[1;33m\u001b[0m\u001b[1;33m\u001b[0m\u001b[0m\n",
      "\u001b[1;32mc:\\users\\anwender\\appdata\\local\\programs\\python\\python37\\lib\\site-packages\\pandas\\core\\indexes\\base.py\u001b[0m in \u001b[0;36mget_indexer\u001b[1;34m(self, target, method, limit, tolerance)\u001b[0m\n\u001b[0;32m   2983\u001b[0m         \u001b[1;32mif\u001b[0m \u001b[1;32mnot\u001b[0m \u001b[0mself\u001b[0m\u001b[1;33m.\u001b[0m\u001b[0mis_unique\u001b[0m\u001b[1;33m:\u001b[0m\u001b[1;33m\u001b[0m\u001b[1;33m\u001b[0m\u001b[0m\n\u001b[0;32m   2984\u001b[0m             raise InvalidIndexError(\n\u001b[1;32m-> 2985\u001b[1;33m                 \u001b[1;34m\"Reindexing only valid with uniquely\"\u001b[0m \u001b[1;34m\" valued Index objects\"\u001b[0m\u001b[1;33m\u001b[0m\u001b[1;33m\u001b[0m\u001b[0m\n\u001b[0m\u001b[0;32m   2986\u001b[0m             )\n\u001b[0;32m   2987\u001b[0m \u001b[1;33m\u001b[0m\u001b[0m\n",
      "\u001b[1;31mInvalidIndexError\u001b[0m: Reindexing only valid with uniquely valued Index objects"
     ]
    }
   ],
   "source": [
    "Region_df('Puglia')"
   ]
  },
  {
   "cell_type": "code",
   "execution_count": 31,
   "metadata": {},
   "outputs": [],
   "source": [
    "\n",
    "def make_plot(df,col_name):\n",
    "    '''view plots based on column data'''\n",
    "    if col_name in df.columns:\n",
    "        fig = go.Figure([go.Scatter(x=df.index, y=df[col_name],mode='lines + markers',name= col_name)])\n",
    "        fig.update_layout(showlegend = True)   \n",
    "    return fig.show()"
   ]
  },
  {
   "cell_type": "code",
   "execution_count": 51,
   "metadata": {},
   "outputs": [
    {
     "data": {
      "application/vnd.plotly.v1+json": {
       "config": {
        "plotlyServerURL": "https://plot.ly"
       },
       "data": [
        {
         "mode": "lines+markers",
         "name": "CurrentPositiveCases",
         "type": "scatter",
         "x": [
          "2020-02-24T18:00:00",
          "2020-02-25T18:00:00",
          "2020-02-26T18:00:00",
          "2020-02-27T18:00:00",
          "2020-02-28T18:00:00",
          "2020-02-29T17:00:00",
          "2020-03-01T17:00:00",
          "2020-03-02T18:00:00",
          "2020-03-03T18:00:00",
          "2020-03-04T17:00:00",
          "2020-03-05T17:00:00",
          "2020-03-06T17:00:00",
          "2020-03-07T18:00:00",
          "2020-03-08T18:00:00",
          "2020-03-09T18:00:00",
          "2020-03-10T18:00:00",
          "2020-03-11T17:00:00",
          "2020-03-12T17:00:00",
          "2020-03-13T17:00:00",
          "2020-03-14T17:00:00",
          "2020-03-15T17:00:00",
          "2020-03-16T17:00:00",
          "2020-03-17T17:00:00",
          "2020-03-18T17:00:00",
          "2020-03-19T17:00:00",
          "2020-03-20T17:00:00",
          "2020-03-21T17:00:00",
          "2020-03-22T17:00:00",
          "2020-03-23T17:00:00",
          "2020-03-24T17:00:00",
          "2020-03-25T17:00:00",
          "2020-03-26T17:00:00",
          "2020-03-27T17:00:00",
          "2020-03-28T17:00:00",
          "2020-03-29T17:00:00",
          "2020-03-30T17:00:00",
          "2020-03-31T17:00:00",
          "2020-04-01T17:00:00",
          "2020-04-02T17:00:00",
          "2020-04-03T17:00:00",
          "2020-04-04T17:00:00",
          "2020-04-05T17:00:00",
          "2020-04-06T17:00:00",
          "2020-04-07T17:00:00",
          "2020-04-08T17:00:00",
          "2020-04-09T17:00:00",
          "2020-04-10T17:00:00",
          "2020-04-11T17:00:00",
          "2020-04-12T17:00:00",
          "2020-04-13T17:00:00",
          "2020-04-14T17:00:00",
          "2020-04-15T17:00:00",
          "2020-04-16T17:00:00",
          "2020-04-17T17:00:00",
          "2020-04-18T17:00:00",
          "2020-04-19T17:00:00",
          "2020-04-20T17:00:00",
          "2020-04-21T17:00:00",
          "2020-04-22T17:00:00",
          "2020-04-23T17:00:00",
          "2020-04-24T17:00:00",
          "2020-04-25T17:00:00",
          "2020-04-26T17:00:00",
          "2020-04-27T17:00:00",
          "2020-04-28T17:00:00",
          "2020-04-29T17:00:00",
          "2020-04-30T17:00:00",
          "2020-05-01T17:00:00",
          "2020-05-02T17:00:00",
          "2020-05-03T17:00:00",
          "2020-05-04T17:00:00",
          "2020-05-05T17:00:00",
          "2020-05-06T17:00:00",
          "2020-05-07T17:00:00",
          "2020-05-08T17:00:00",
          "2020-05-09T17:00:00",
          "2020-05-10T17:00:00",
          "2020-05-11T17:00:00",
          "2020-05-12T17:00:00",
          "2020-05-13T17:00:00",
          "2020-05-14T17:00:00",
          "2020-05-15T17:00:00",
          "2020-05-16T17:00:00",
          "2020-05-17T17:00:00",
          "2020-05-18T17:00:00",
          "2020-05-19T17:00:00",
          "2020-05-20T17:00:00",
          "2020-05-21T17:00:00",
          "2020-05-22T17:00:00",
          "2020-05-23T17:00:00",
          "2020-05-24T17:00:00",
          "2020-05-25T17:00:00",
          "2020-05-26T17:00:00",
          "2020-05-27T17:00:00",
          "2020-05-28T17:00:00",
          "2020-05-29T17:00:00",
          "2020-05-30T17:00:00",
          "2020-05-31T17:00:00",
          "2020-06-01T17:00:00",
          "2020-06-02T17:00:00",
          "2020-06-03T17:00:00",
          "2020-06-04T17:00:00",
          "2020-06-05T17:00:00",
          "2020-06-06T17:00:00",
          "2020-06-07T17:00:00",
          "2020-06-08T17:00:00",
          "2020-06-09T17:00:00",
          "2020-06-10T17:00:00",
          "2020-06-11T17:00:00",
          "2020-06-12T17:00:00",
          "2020-06-13T17:00:00",
          "2020-06-14T17:00:00",
          "2020-06-15T17:00:00",
          "2020-06-16T17:00:00",
          "2020-06-17T17:00:00",
          "2020-06-18T17:00:00",
          "2020-06-19T17:00:00",
          "2020-06-20T17:00:00",
          "2020-06-21T17:00:00"
         ],
         "y": [
          0,
          0,
          0,
          1,
          1,
          2,
          5,
          5,
          6,
          7,
          8,
          9,
          11,
          17,
          30,
          37,
          37,
          78,
          83,
          106,
          128,
          165,
          216,
          249,
          366,
          422,
          494,
          539,
          605,
          622,
          738,
          860,
          925,
          1027,
          1169,
          1169,
          1191,
          1211,
          1251,
          1301,
          1356,
          1420,
          1425,
          1491,
          1534,
          1566,
          1635,
          1724,
          1742,
          1778,
          1800,
          1810,
          1850,
          1942,
          1971,
          1987,
          2062,
          2067,
          2108,
          2100,
          2079,
          2061,
          2068,
          2030,
          1990,
          1976,
          1915,
          1911,
          1879,
          1868,
          1837,
          1809,
          1791,
          1770,
          1713,
          1676,
          1671,
          1609,
          1548,
          1489,
          1482,
          1454,
          1423,
          1422,
          1413,
          1389,
          1317,
          1272,
          1179,
          1168,
          1092,
          1046,
          909,
          866,
          824,
          770,
          770,
          775,
          744,
          743,
          736,
          704,
          670,
          653,
          653,
          632,
          567,
          550,
          539,
          528,
          509,
          511,
          486,
          468,
          438,
          434,
          407,
          404,
          403
         ]
        }
       ],
       "layout": {
        "showlegend": true,
        "template": {
         "data": {
          "bar": [
           {
            "error_x": {
             "color": "#2a3f5f"
            },
            "error_y": {
             "color": "#2a3f5f"
            },
            "marker": {
             "line": {
              "color": "#E5ECF6",
              "width": 0.5
             }
            },
            "type": "bar"
           }
          ],
          "barpolar": [
           {
            "marker": {
             "line": {
              "color": "#E5ECF6",
              "width": 0.5
             }
            },
            "type": "barpolar"
           }
          ],
          "carpet": [
           {
            "aaxis": {
             "endlinecolor": "#2a3f5f",
             "gridcolor": "white",
             "linecolor": "white",
             "minorgridcolor": "white",
             "startlinecolor": "#2a3f5f"
            },
            "baxis": {
             "endlinecolor": "#2a3f5f",
             "gridcolor": "white",
             "linecolor": "white",
             "minorgridcolor": "white",
             "startlinecolor": "#2a3f5f"
            },
            "type": "carpet"
           }
          ],
          "choropleth": [
           {
            "colorbar": {
             "outlinewidth": 0,
             "ticks": ""
            },
            "type": "choropleth"
           }
          ],
          "contour": [
           {
            "colorbar": {
             "outlinewidth": 0,
             "ticks": ""
            },
            "colorscale": [
             [
              0,
              "#0d0887"
             ],
             [
              0.1111111111111111,
              "#46039f"
             ],
             [
              0.2222222222222222,
              "#7201a8"
             ],
             [
              0.3333333333333333,
              "#9c179e"
             ],
             [
              0.4444444444444444,
              "#bd3786"
             ],
             [
              0.5555555555555556,
              "#d8576b"
             ],
             [
              0.6666666666666666,
              "#ed7953"
             ],
             [
              0.7777777777777778,
              "#fb9f3a"
             ],
             [
              0.8888888888888888,
              "#fdca26"
             ],
             [
              1,
              "#f0f921"
             ]
            ],
            "type": "contour"
           }
          ],
          "contourcarpet": [
           {
            "colorbar": {
             "outlinewidth": 0,
             "ticks": ""
            },
            "type": "contourcarpet"
           }
          ],
          "heatmap": [
           {
            "colorbar": {
             "outlinewidth": 0,
             "ticks": ""
            },
            "colorscale": [
             [
              0,
              "#0d0887"
             ],
             [
              0.1111111111111111,
              "#46039f"
             ],
             [
              0.2222222222222222,
              "#7201a8"
             ],
             [
              0.3333333333333333,
              "#9c179e"
             ],
             [
              0.4444444444444444,
              "#bd3786"
             ],
             [
              0.5555555555555556,
              "#d8576b"
             ],
             [
              0.6666666666666666,
              "#ed7953"
             ],
             [
              0.7777777777777778,
              "#fb9f3a"
             ],
             [
              0.8888888888888888,
              "#fdca26"
             ],
             [
              1,
              "#f0f921"
             ]
            ],
            "type": "heatmap"
           }
          ],
          "heatmapgl": [
           {
            "colorbar": {
             "outlinewidth": 0,
             "ticks": ""
            },
            "colorscale": [
             [
              0,
              "#0d0887"
             ],
             [
              0.1111111111111111,
              "#46039f"
             ],
             [
              0.2222222222222222,
              "#7201a8"
             ],
             [
              0.3333333333333333,
              "#9c179e"
             ],
             [
              0.4444444444444444,
              "#bd3786"
             ],
             [
              0.5555555555555556,
              "#d8576b"
             ],
             [
              0.6666666666666666,
              "#ed7953"
             ],
             [
              0.7777777777777778,
              "#fb9f3a"
             ],
             [
              0.8888888888888888,
              "#fdca26"
             ],
             [
              1,
              "#f0f921"
             ]
            ],
            "type": "heatmapgl"
           }
          ],
          "histogram": [
           {
            "marker": {
             "colorbar": {
              "outlinewidth": 0,
              "ticks": ""
             }
            },
            "type": "histogram"
           }
          ],
          "histogram2d": [
           {
            "colorbar": {
             "outlinewidth": 0,
             "ticks": ""
            },
            "colorscale": [
             [
              0,
              "#0d0887"
             ],
             [
              0.1111111111111111,
              "#46039f"
             ],
             [
              0.2222222222222222,
              "#7201a8"
             ],
             [
              0.3333333333333333,
              "#9c179e"
             ],
             [
              0.4444444444444444,
              "#bd3786"
             ],
             [
              0.5555555555555556,
              "#d8576b"
             ],
             [
              0.6666666666666666,
              "#ed7953"
             ],
             [
              0.7777777777777778,
              "#fb9f3a"
             ],
             [
              0.8888888888888888,
              "#fdca26"
             ],
             [
              1,
              "#f0f921"
             ]
            ],
            "type": "histogram2d"
           }
          ],
          "histogram2dcontour": [
           {
            "colorbar": {
             "outlinewidth": 0,
             "ticks": ""
            },
            "colorscale": [
             [
              0,
              "#0d0887"
             ],
             [
              0.1111111111111111,
              "#46039f"
             ],
             [
              0.2222222222222222,
              "#7201a8"
             ],
             [
              0.3333333333333333,
              "#9c179e"
             ],
             [
              0.4444444444444444,
              "#bd3786"
             ],
             [
              0.5555555555555556,
              "#d8576b"
             ],
             [
              0.6666666666666666,
              "#ed7953"
             ],
             [
              0.7777777777777778,
              "#fb9f3a"
             ],
             [
              0.8888888888888888,
              "#fdca26"
             ],
             [
              1,
              "#f0f921"
             ]
            ],
            "type": "histogram2dcontour"
           }
          ],
          "mesh3d": [
           {
            "colorbar": {
             "outlinewidth": 0,
             "ticks": ""
            },
            "type": "mesh3d"
           }
          ],
          "parcoords": [
           {
            "line": {
             "colorbar": {
              "outlinewidth": 0,
              "ticks": ""
             }
            },
            "type": "parcoords"
           }
          ],
          "pie": [
           {
            "automargin": true,
            "type": "pie"
           }
          ],
          "scatter": [
           {
            "marker": {
             "colorbar": {
              "outlinewidth": 0,
              "ticks": ""
             }
            },
            "type": "scatter"
           }
          ],
          "scatter3d": [
           {
            "line": {
             "colorbar": {
              "outlinewidth": 0,
              "ticks": ""
             }
            },
            "marker": {
             "colorbar": {
              "outlinewidth": 0,
              "ticks": ""
             }
            },
            "type": "scatter3d"
           }
          ],
          "scattercarpet": [
           {
            "marker": {
             "colorbar": {
              "outlinewidth": 0,
              "ticks": ""
             }
            },
            "type": "scattercarpet"
           }
          ],
          "scattergeo": [
           {
            "marker": {
             "colorbar": {
              "outlinewidth": 0,
              "ticks": ""
             }
            },
            "type": "scattergeo"
           }
          ],
          "scattergl": [
           {
            "marker": {
             "colorbar": {
              "outlinewidth": 0,
              "ticks": ""
             }
            },
            "type": "scattergl"
           }
          ],
          "scattermapbox": [
           {
            "marker": {
             "colorbar": {
              "outlinewidth": 0,
              "ticks": ""
             }
            },
            "type": "scattermapbox"
           }
          ],
          "scatterpolar": [
           {
            "marker": {
             "colorbar": {
              "outlinewidth": 0,
              "ticks": ""
             }
            },
            "type": "scatterpolar"
           }
          ],
          "scatterpolargl": [
           {
            "marker": {
             "colorbar": {
              "outlinewidth": 0,
              "ticks": ""
             }
            },
            "type": "scatterpolargl"
           }
          ],
          "scatterternary": [
           {
            "marker": {
             "colorbar": {
              "outlinewidth": 0,
              "ticks": ""
             }
            },
            "type": "scatterternary"
           }
          ],
          "surface": [
           {
            "colorbar": {
             "outlinewidth": 0,
             "ticks": ""
            },
            "colorscale": [
             [
              0,
              "#0d0887"
             ],
             [
              0.1111111111111111,
              "#46039f"
             ],
             [
              0.2222222222222222,
              "#7201a8"
             ],
             [
              0.3333333333333333,
              "#9c179e"
             ],
             [
              0.4444444444444444,
              "#bd3786"
             ],
             [
              0.5555555555555556,
              "#d8576b"
             ],
             [
              0.6666666666666666,
              "#ed7953"
             ],
             [
              0.7777777777777778,
              "#fb9f3a"
             ],
             [
              0.8888888888888888,
              "#fdca26"
             ],
             [
              1,
              "#f0f921"
             ]
            ],
            "type": "surface"
           }
          ],
          "table": [
           {
            "cells": {
             "fill": {
              "color": "#EBF0F8"
             },
             "line": {
              "color": "white"
             }
            },
            "header": {
             "fill": {
              "color": "#C8D4E3"
             },
             "line": {
              "color": "white"
             }
            },
            "type": "table"
           }
          ]
         },
         "layout": {
          "annotationdefaults": {
           "arrowcolor": "#2a3f5f",
           "arrowhead": 0,
           "arrowwidth": 1
          },
          "coloraxis": {
           "colorbar": {
            "outlinewidth": 0,
            "ticks": ""
           }
          },
          "colorscale": {
           "diverging": [
            [
             0,
             "#8e0152"
            ],
            [
             0.1,
             "#c51b7d"
            ],
            [
             0.2,
             "#de77ae"
            ],
            [
             0.3,
             "#f1b6da"
            ],
            [
             0.4,
             "#fde0ef"
            ],
            [
             0.5,
             "#f7f7f7"
            ],
            [
             0.6,
             "#e6f5d0"
            ],
            [
             0.7,
             "#b8e186"
            ],
            [
             0.8,
             "#7fbc41"
            ],
            [
             0.9,
             "#4d9221"
            ],
            [
             1,
             "#276419"
            ]
           ],
           "sequential": [
            [
             0,
             "#0d0887"
            ],
            [
             0.1111111111111111,
             "#46039f"
            ],
            [
             0.2222222222222222,
             "#7201a8"
            ],
            [
             0.3333333333333333,
             "#9c179e"
            ],
            [
             0.4444444444444444,
             "#bd3786"
            ],
            [
             0.5555555555555556,
             "#d8576b"
            ],
            [
             0.6666666666666666,
             "#ed7953"
            ],
            [
             0.7777777777777778,
             "#fb9f3a"
            ],
            [
             0.8888888888888888,
             "#fdca26"
            ],
            [
             1,
             "#f0f921"
            ]
           ],
           "sequentialminus": [
            [
             0,
             "#0d0887"
            ],
            [
             0.1111111111111111,
             "#46039f"
            ],
            [
             0.2222222222222222,
             "#7201a8"
            ],
            [
             0.3333333333333333,
             "#9c179e"
            ],
            [
             0.4444444444444444,
             "#bd3786"
            ],
            [
             0.5555555555555556,
             "#d8576b"
            ],
            [
             0.6666666666666666,
             "#ed7953"
            ],
            [
             0.7777777777777778,
             "#fb9f3a"
            ],
            [
             0.8888888888888888,
             "#fdca26"
            ],
            [
             1,
             "#f0f921"
            ]
           ]
          },
          "colorway": [
           "#636efa",
           "#EF553B",
           "#00cc96",
           "#ab63fa",
           "#FFA15A",
           "#19d3f3",
           "#FF6692",
           "#B6E880",
           "#FF97FF",
           "#FECB52"
          ],
          "font": {
           "color": "#2a3f5f"
          },
          "geo": {
           "bgcolor": "white",
           "lakecolor": "white",
           "landcolor": "#E5ECF6",
           "showlakes": true,
           "showland": true,
           "subunitcolor": "white"
          },
          "hoverlabel": {
           "align": "left"
          },
          "hovermode": "closest",
          "mapbox": {
           "style": "light"
          },
          "paper_bgcolor": "white",
          "plot_bgcolor": "#E5ECF6",
          "polar": {
           "angularaxis": {
            "gridcolor": "white",
            "linecolor": "white",
            "ticks": ""
           },
           "bgcolor": "#E5ECF6",
           "radialaxis": {
            "gridcolor": "white",
            "linecolor": "white",
            "ticks": ""
           }
          },
          "scene": {
           "xaxis": {
            "backgroundcolor": "#E5ECF6",
            "gridcolor": "white",
            "gridwidth": 2,
            "linecolor": "white",
            "showbackground": true,
            "ticks": "",
            "zerolinecolor": "white"
           },
           "yaxis": {
            "backgroundcolor": "#E5ECF6",
            "gridcolor": "white",
            "gridwidth": 2,
            "linecolor": "white",
            "showbackground": true,
            "ticks": "",
            "zerolinecolor": "white"
           },
           "zaxis": {
            "backgroundcolor": "#E5ECF6",
            "gridcolor": "white",
            "gridwidth": 2,
            "linecolor": "white",
            "showbackground": true,
            "ticks": "",
            "zerolinecolor": "white"
           }
          },
          "shapedefaults": {
           "line": {
            "color": "#2a3f5f"
           }
          },
          "ternary": {
           "aaxis": {
            "gridcolor": "white",
            "linecolor": "white",
            "ticks": ""
           },
           "baxis": {
            "gridcolor": "white",
            "linecolor": "white",
            "ticks": ""
           },
           "bgcolor": "#E5ECF6",
           "caxis": {
            "gridcolor": "white",
            "linecolor": "white",
            "ticks": ""
           }
          },
          "title": {
           "x": 0.05
          },
          "xaxis": {
           "automargin": true,
           "gridcolor": "white",
           "linecolor": "white",
           "ticks": "",
           "title": {
            "standoff": 15
           },
           "zerolinecolor": "white",
           "zerolinewidth": 2
          },
          "yaxis": {
           "automargin": true,
           "gridcolor": "white",
           "linecolor": "white",
           "ticks": "",
           "title": {
            "standoff": 15
           },
           "zerolinecolor": "white",
           "zerolinewidth": 2
          }
         }
        }
       }
      },
      "text/html": [
       "<div>\n",
       "        \n",
       "        \n",
       "            <div id=\"e8f3944c-d057-4f8c-8d55-9598e880144b\" class=\"plotly-graph-div\" style=\"height:525px; width:100%;\"></div>\n",
       "            <script type=\"text/javascript\">\n",
       "                require([\"plotly\"], function(Plotly) {\n",
       "                    window.PLOTLYENV=window.PLOTLYENV || {};\n",
       "                    \n",
       "                if (document.getElementById(\"e8f3944c-d057-4f8c-8d55-9598e880144b\")) {\n",
       "                    Plotly.newPlot(\n",
       "                        'e8f3944c-d057-4f8c-8d55-9598e880144b',\n",
       "                        [{\"mode\": \"lines+markers\", \"name\": \"CurrentPositiveCases\", \"type\": \"scatter\", \"x\": [\"2020-02-24T18:00:00\", \"2020-02-25T18:00:00\", \"2020-02-26T18:00:00\", \"2020-02-27T18:00:00\", \"2020-02-28T18:00:00\", \"2020-02-29T17:00:00\", \"2020-03-01T17:00:00\", \"2020-03-02T18:00:00\", \"2020-03-03T18:00:00\", \"2020-03-04T17:00:00\", \"2020-03-05T17:00:00\", \"2020-03-06T17:00:00\", \"2020-03-07T18:00:00\", \"2020-03-08T18:00:00\", \"2020-03-09T18:00:00\", \"2020-03-10T18:00:00\", \"2020-03-11T17:00:00\", \"2020-03-12T17:00:00\", \"2020-03-13T17:00:00\", \"2020-03-14T17:00:00\", \"2020-03-15T17:00:00\", \"2020-03-16T17:00:00\", \"2020-03-17T17:00:00\", \"2020-03-18T17:00:00\", \"2020-03-19T17:00:00\", \"2020-03-20T17:00:00\", \"2020-03-21T17:00:00\", \"2020-03-22T17:00:00\", \"2020-03-23T17:00:00\", \"2020-03-24T17:00:00\", \"2020-03-25T17:00:00\", \"2020-03-26T17:00:00\", \"2020-03-27T17:00:00\", \"2020-03-28T17:00:00\", \"2020-03-29T17:00:00\", \"2020-03-30T17:00:00\", \"2020-03-31T17:00:00\", \"2020-04-01T17:00:00\", \"2020-04-02T17:00:00\", \"2020-04-03T17:00:00\", \"2020-04-04T17:00:00\", \"2020-04-05T17:00:00\", \"2020-04-06T17:00:00\", \"2020-04-07T17:00:00\", \"2020-04-08T17:00:00\", \"2020-04-09T17:00:00\", \"2020-04-10T17:00:00\", \"2020-04-11T17:00:00\", \"2020-04-12T17:00:00\", \"2020-04-13T17:00:00\", \"2020-04-14T17:00:00\", \"2020-04-15T17:00:00\", \"2020-04-16T17:00:00\", \"2020-04-17T17:00:00\", \"2020-04-18T17:00:00\", \"2020-04-19T17:00:00\", \"2020-04-20T17:00:00\", \"2020-04-21T17:00:00\", \"2020-04-22T17:00:00\", \"2020-04-23T17:00:00\", \"2020-04-24T17:00:00\", \"2020-04-25T17:00:00\", \"2020-04-26T17:00:00\", \"2020-04-27T17:00:00\", \"2020-04-28T17:00:00\", \"2020-04-29T17:00:00\", \"2020-04-30T17:00:00\", \"2020-05-01T17:00:00\", \"2020-05-02T17:00:00\", \"2020-05-03T17:00:00\", \"2020-05-04T17:00:00\", \"2020-05-05T17:00:00\", \"2020-05-06T17:00:00\", \"2020-05-07T17:00:00\", \"2020-05-08T17:00:00\", \"2020-05-09T17:00:00\", \"2020-05-10T17:00:00\", \"2020-05-11T17:00:00\", \"2020-05-12T17:00:00\", \"2020-05-13T17:00:00\", \"2020-05-14T17:00:00\", \"2020-05-15T17:00:00\", \"2020-05-16T17:00:00\", \"2020-05-17T17:00:00\", \"2020-05-18T17:00:00\", \"2020-05-19T17:00:00\", \"2020-05-20T17:00:00\", \"2020-05-21T17:00:00\", \"2020-05-22T17:00:00\", \"2020-05-23T17:00:00\", \"2020-05-24T17:00:00\", \"2020-05-25T17:00:00\", \"2020-05-26T17:00:00\", \"2020-05-27T17:00:00\", \"2020-05-28T17:00:00\", \"2020-05-29T17:00:00\", \"2020-05-30T17:00:00\", \"2020-05-31T17:00:00\", \"2020-06-01T17:00:00\", \"2020-06-02T17:00:00\", \"2020-06-03T17:00:00\", \"2020-06-04T17:00:00\", \"2020-06-05T17:00:00\", \"2020-06-06T17:00:00\", \"2020-06-07T17:00:00\", \"2020-06-08T17:00:00\", \"2020-06-09T17:00:00\", \"2020-06-10T17:00:00\", \"2020-06-11T17:00:00\", \"2020-06-12T17:00:00\", \"2020-06-13T17:00:00\", \"2020-06-14T17:00:00\", \"2020-06-15T17:00:00\", \"2020-06-16T17:00:00\", \"2020-06-17T17:00:00\", \"2020-06-18T17:00:00\", \"2020-06-19T17:00:00\", \"2020-06-20T17:00:00\", \"2020-06-21T17:00:00\"], \"y\": [0, 0, 0, 1, 1, 2, 5, 5, 6, 7, 8, 9, 11, 17, 30, 37, 37, 78, 83, 106, 128, 165, 216, 249, 366, 422, 494, 539, 605, 622, 738, 860, 925, 1027, 1169, 1169, 1191, 1211, 1251, 1301, 1356, 1420, 1425, 1491, 1534, 1566, 1635, 1724, 1742, 1778, 1800, 1810, 1850, 1942, 1971, 1987, 2062, 2067, 2108, 2100, 2079, 2061, 2068, 2030, 1990, 1976, 1915, 1911, 1879, 1868, 1837, 1809, 1791, 1770, 1713, 1676, 1671, 1609, 1548, 1489, 1482, 1454, 1423, 1422, 1413, 1389, 1317, 1272, 1179, 1168, 1092, 1046, 909, 866, 824, 770, 770, 775, 744, 743, 736, 704, 670, 653, 653, 632, 567, 550, 539, 528, 509, 511, 486, 468, 438, 434, 407, 404, 403]}],\n",
       "                        {\"showlegend\": true, \"template\": {\"data\": {\"bar\": [{\"error_x\": {\"color\": \"#2a3f5f\"}, \"error_y\": {\"color\": \"#2a3f5f\"}, \"marker\": {\"line\": {\"color\": \"#E5ECF6\", \"width\": 0.5}}, \"type\": \"bar\"}], \"barpolar\": [{\"marker\": {\"line\": {\"color\": \"#E5ECF6\", \"width\": 0.5}}, \"type\": \"barpolar\"}], \"carpet\": [{\"aaxis\": {\"endlinecolor\": \"#2a3f5f\", \"gridcolor\": \"white\", \"linecolor\": \"white\", \"minorgridcolor\": \"white\", \"startlinecolor\": \"#2a3f5f\"}, \"baxis\": {\"endlinecolor\": \"#2a3f5f\", \"gridcolor\": \"white\", \"linecolor\": \"white\", \"minorgridcolor\": \"white\", \"startlinecolor\": \"#2a3f5f\"}, \"type\": \"carpet\"}], \"choropleth\": [{\"colorbar\": {\"outlinewidth\": 0, \"ticks\": \"\"}, \"type\": \"choropleth\"}], \"contour\": [{\"colorbar\": {\"outlinewidth\": 0, \"ticks\": \"\"}, \"colorscale\": [[0.0, \"#0d0887\"], [0.1111111111111111, \"#46039f\"], [0.2222222222222222, \"#7201a8\"], [0.3333333333333333, \"#9c179e\"], [0.4444444444444444, \"#bd3786\"], [0.5555555555555556, \"#d8576b\"], [0.6666666666666666, \"#ed7953\"], [0.7777777777777778, \"#fb9f3a\"], [0.8888888888888888, \"#fdca26\"], [1.0, \"#f0f921\"]], \"type\": \"contour\"}], \"contourcarpet\": [{\"colorbar\": {\"outlinewidth\": 0, \"ticks\": \"\"}, \"type\": \"contourcarpet\"}], \"heatmap\": [{\"colorbar\": {\"outlinewidth\": 0, \"ticks\": \"\"}, \"colorscale\": [[0.0, \"#0d0887\"], [0.1111111111111111, \"#46039f\"], [0.2222222222222222, \"#7201a8\"], [0.3333333333333333, \"#9c179e\"], [0.4444444444444444, \"#bd3786\"], [0.5555555555555556, \"#d8576b\"], [0.6666666666666666, \"#ed7953\"], [0.7777777777777778, \"#fb9f3a\"], [0.8888888888888888, \"#fdca26\"], [1.0, \"#f0f921\"]], \"type\": \"heatmap\"}], \"heatmapgl\": [{\"colorbar\": {\"outlinewidth\": 0, \"ticks\": \"\"}, \"colorscale\": [[0.0, \"#0d0887\"], [0.1111111111111111, \"#46039f\"], [0.2222222222222222, \"#7201a8\"], [0.3333333333333333, \"#9c179e\"], [0.4444444444444444, \"#bd3786\"], [0.5555555555555556, \"#d8576b\"], [0.6666666666666666, \"#ed7953\"], [0.7777777777777778, \"#fb9f3a\"], [0.8888888888888888, \"#fdca26\"], [1.0, \"#f0f921\"]], \"type\": \"heatmapgl\"}], \"histogram\": [{\"marker\": {\"colorbar\": {\"outlinewidth\": 0, \"ticks\": \"\"}}, \"type\": \"histogram\"}], \"histogram2d\": [{\"colorbar\": {\"outlinewidth\": 0, \"ticks\": \"\"}, \"colorscale\": [[0.0, \"#0d0887\"], [0.1111111111111111, \"#46039f\"], [0.2222222222222222, \"#7201a8\"], [0.3333333333333333, \"#9c179e\"], [0.4444444444444444, \"#bd3786\"], [0.5555555555555556, \"#d8576b\"], [0.6666666666666666, \"#ed7953\"], [0.7777777777777778, \"#fb9f3a\"], [0.8888888888888888, \"#fdca26\"], [1.0, \"#f0f921\"]], \"type\": \"histogram2d\"}], \"histogram2dcontour\": [{\"colorbar\": {\"outlinewidth\": 0, \"ticks\": \"\"}, \"colorscale\": [[0.0, \"#0d0887\"], [0.1111111111111111, \"#46039f\"], [0.2222222222222222, \"#7201a8\"], [0.3333333333333333, \"#9c179e\"], [0.4444444444444444, \"#bd3786\"], [0.5555555555555556, \"#d8576b\"], [0.6666666666666666, \"#ed7953\"], [0.7777777777777778, \"#fb9f3a\"], [0.8888888888888888, \"#fdca26\"], [1.0, \"#f0f921\"]], \"type\": \"histogram2dcontour\"}], \"mesh3d\": [{\"colorbar\": {\"outlinewidth\": 0, \"ticks\": \"\"}, \"type\": \"mesh3d\"}], \"parcoords\": [{\"line\": {\"colorbar\": {\"outlinewidth\": 0, \"ticks\": \"\"}}, \"type\": \"parcoords\"}], \"pie\": [{\"automargin\": true, \"type\": \"pie\"}], \"scatter\": [{\"marker\": {\"colorbar\": {\"outlinewidth\": 0, \"ticks\": \"\"}}, \"type\": \"scatter\"}], \"scatter3d\": [{\"line\": {\"colorbar\": {\"outlinewidth\": 0, \"ticks\": \"\"}}, \"marker\": {\"colorbar\": {\"outlinewidth\": 0, \"ticks\": \"\"}}, \"type\": \"scatter3d\"}], \"scattercarpet\": [{\"marker\": {\"colorbar\": {\"outlinewidth\": 0, \"ticks\": \"\"}}, \"type\": \"scattercarpet\"}], \"scattergeo\": [{\"marker\": {\"colorbar\": {\"outlinewidth\": 0, \"ticks\": \"\"}}, \"type\": \"scattergeo\"}], \"scattergl\": [{\"marker\": {\"colorbar\": {\"outlinewidth\": 0, \"ticks\": \"\"}}, \"type\": \"scattergl\"}], \"scattermapbox\": [{\"marker\": {\"colorbar\": {\"outlinewidth\": 0, \"ticks\": \"\"}}, \"type\": \"scattermapbox\"}], \"scatterpolar\": [{\"marker\": {\"colorbar\": {\"outlinewidth\": 0, \"ticks\": \"\"}}, \"type\": \"scatterpolar\"}], \"scatterpolargl\": [{\"marker\": {\"colorbar\": {\"outlinewidth\": 0, \"ticks\": \"\"}}, \"type\": \"scatterpolargl\"}], \"scatterternary\": [{\"marker\": {\"colorbar\": {\"outlinewidth\": 0, \"ticks\": \"\"}}, \"type\": \"scatterternary\"}], \"surface\": [{\"colorbar\": {\"outlinewidth\": 0, \"ticks\": \"\"}, \"colorscale\": [[0.0, \"#0d0887\"], [0.1111111111111111, \"#46039f\"], [0.2222222222222222, \"#7201a8\"], [0.3333333333333333, \"#9c179e\"], [0.4444444444444444, \"#bd3786\"], [0.5555555555555556, \"#d8576b\"], [0.6666666666666666, \"#ed7953\"], [0.7777777777777778, \"#fb9f3a\"], [0.8888888888888888, \"#fdca26\"], [1.0, \"#f0f921\"]], \"type\": \"surface\"}], \"table\": [{\"cells\": {\"fill\": {\"color\": \"#EBF0F8\"}, \"line\": {\"color\": \"white\"}}, \"header\": {\"fill\": {\"color\": \"#C8D4E3\"}, \"line\": {\"color\": \"white\"}}, \"type\": \"table\"}]}, \"layout\": {\"annotationdefaults\": {\"arrowcolor\": \"#2a3f5f\", \"arrowhead\": 0, \"arrowwidth\": 1}, \"coloraxis\": {\"colorbar\": {\"outlinewidth\": 0, \"ticks\": \"\"}}, \"colorscale\": {\"diverging\": [[0, \"#8e0152\"], [0.1, \"#c51b7d\"], [0.2, \"#de77ae\"], [0.3, \"#f1b6da\"], [0.4, \"#fde0ef\"], [0.5, \"#f7f7f7\"], [0.6, \"#e6f5d0\"], [0.7, \"#b8e186\"], [0.8, \"#7fbc41\"], [0.9, \"#4d9221\"], [1, \"#276419\"]], \"sequential\": [[0.0, \"#0d0887\"], [0.1111111111111111, \"#46039f\"], [0.2222222222222222, \"#7201a8\"], [0.3333333333333333, \"#9c179e\"], [0.4444444444444444, \"#bd3786\"], [0.5555555555555556, \"#d8576b\"], [0.6666666666666666, \"#ed7953\"], [0.7777777777777778, \"#fb9f3a\"], [0.8888888888888888, \"#fdca26\"], [1.0, \"#f0f921\"]], \"sequentialminus\": [[0.0, \"#0d0887\"], [0.1111111111111111, \"#46039f\"], [0.2222222222222222, \"#7201a8\"], [0.3333333333333333, \"#9c179e\"], [0.4444444444444444, \"#bd3786\"], [0.5555555555555556, \"#d8576b\"], [0.6666666666666666, \"#ed7953\"], [0.7777777777777778, \"#fb9f3a\"], [0.8888888888888888, \"#fdca26\"], [1.0, \"#f0f921\"]]}, \"colorway\": [\"#636efa\", \"#EF553B\", \"#00cc96\", \"#ab63fa\", \"#FFA15A\", \"#19d3f3\", \"#FF6692\", \"#B6E880\", \"#FF97FF\", \"#FECB52\"], \"font\": {\"color\": \"#2a3f5f\"}, \"geo\": {\"bgcolor\": \"white\", \"lakecolor\": \"white\", \"landcolor\": \"#E5ECF6\", \"showlakes\": true, \"showland\": true, \"subunitcolor\": \"white\"}, \"hoverlabel\": {\"align\": \"left\"}, \"hovermode\": \"closest\", \"mapbox\": {\"style\": \"light\"}, \"paper_bgcolor\": \"white\", \"plot_bgcolor\": \"#E5ECF6\", \"polar\": {\"angularaxis\": {\"gridcolor\": \"white\", \"linecolor\": \"white\", \"ticks\": \"\"}, \"bgcolor\": \"#E5ECF6\", \"radialaxis\": {\"gridcolor\": \"white\", \"linecolor\": \"white\", \"ticks\": \"\"}}, \"scene\": {\"xaxis\": {\"backgroundcolor\": \"#E5ECF6\", \"gridcolor\": \"white\", \"gridwidth\": 2, \"linecolor\": \"white\", \"showbackground\": true, \"ticks\": \"\", \"zerolinecolor\": \"white\"}, \"yaxis\": {\"backgroundcolor\": \"#E5ECF6\", \"gridcolor\": \"white\", \"gridwidth\": 2, \"linecolor\": \"white\", \"showbackground\": true, \"ticks\": \"\", \"zerolinecolor\": \"white\"}, \"zaxis\": {\"backgroundcolor\": \"#E5ECF6\", \"gridcolor\": \"white\", \"gridwidth\": 2, \"linecolor\": \"white\", \"showbackground\": true, \"ticks\": \"\", \"zerolinecolor\": \"white\"}}, \"shapedefaults\": {\"line\": {\"color\": \"#2a3f5f\"}}, \"ternary\": {\"aaxis\": {\"gridcolor\": \"white\", \"linecolor\": \"white\", \"ticks\": \"\"}, \"baxis\": {\"gridcolor\": \"white\", \"linecolor\": \"white\", \"ticks\": \"\"}, \"bgcolor\": \"#E5ECF6\", \"caxis\": {\"gridcolor\": \"white\", \"linecolor\": \"white\", \"ticks\": \"\"}}, \"title\": {\"x\": 0.05}, \"xaxis\": {\"automargin\": true, \"gridcolor\": \"white\", \"linecolor\": \"white\", \"ticks\": \"\", \"title\": {\"standoff\": 15}, \"zerolinecolor\": \"white\", \"zerolinewidth\": 2}, \"yaxis\": {\"automargin\": true, \"gridcolor\": \"white\", \"linecolor\": \"white\", \"ticks\": \"\", \"title\": {\"standoff\": 15}, \"zerolinecolor\": \"white\", \"zerolinewidth\": 2}}}},\n",
       "                        {\"responsive\": true}\n",
       "                    ).then(function(){\n",
       "                            \n",
       "var gd = document.getElementById('e8f3944c-d057-4f8c-8d55-9598e880144b');\n",
       "var x = new MutationObserver(function (mutations, observer) {{\n",
       "        var display = window.getComputedStyle(gd).display;\n",
       "        if (!display || display === 'none') {{\n",
       "            console.log([gd, 'removed!']);\n",
       "            Plotly.purge(gd);\n",
       "            observer.disconnect();\n",
       "        }}\n",
       "}});\n",
       "\n",
       "// Listen for the removal of the full notebook cells\n",
       "var notebookContainer = gd.closest('#notebook-container');\n",
       "if (notebookContainer) {{\n",
       "    x.observe(notebookContainer, {childList: true});\n",
       "}}\n",
       "\n",
       "// Listen for the clearing of the current output cell\n",
       "var outputEl = gd.closest('.output');\n",
       "if (outputEl) {{\n",
       "    x.observe(outputEl, {childList: true});\n",
       "}}\n",
       "\n",
       "                        })\n",
       "                };\n",
       "                });\n",
       "            </script>\n",
       "        </div>"
      ]
     },
     "metadata": {},
     "output_type": "display_data"
    }
   ],
   "source": [
    "make_plot(df_Abruzzo,'CurrentPositiveCases')"
   ]
  },
  {
   "cell_type": "code",
   "execution_count": 35,
   "metadata": {},
   "outputs": [
    {
     "ename": "UnboundLocalError",
     "evalue": "local variable 'fig' referenced before assignment",
     "output_type": "error",
     "traceback": [
      "\u001b[1;31m---------------------------------------------------------------------------\u001b[0m",
      "\u001b[1;31mUnboundLocalError\u001b[0m                         Traceback (most recent call last)",
      "\u001b[1;32m<ipython-input-35-622be239a28e>\u001b[0m in \u001b[0;36m<module>\u001b[1;34m\u001b[0m\n\u001b[1;32m----> 1\u001b[1;33m \u001b[0mmake_plot\u001b[0m\u001b[1;33m(\u001b[0m\u001b[0mdeaths_per_region\u001b[0m\u001b[1;33m,\u001b[0m\u001b[1;34m'deaths'\u001b[0m\u001b[1;33m)\u001b[0m\u001b[1;33m\u001b[0m\u001b[1;33m\u001b[0m\u001b[0m\n\u001b[0m\u001b[0;32m      2\u001b[0m \u001b[1;33m\u001b[0m\u001b[0m\n",
      "\u001b[1;32m<ipython-input-31-6e636386d937>\u001b[0m in \u001b[0;36mmake_plot\u001b[1;34m(df, col_name)\u001b[0m\n\u001b[0;32m      4\u001b[0m         \u001b[0mfig\u001b[0m \u001b[1;33m=\u001b[0m \u001b[0mgo\u001b[0m\u001b[1;33m.\u001b[0m\u001b[0mFigure\u001b[0m\u001b[1;33m(\u001b[0m\u001b[1;33m[\u001b[0m\u001b[0mgo\u001b[0m\u001b[1;33m.\u001b[0m\u001b[0mScatter\u001b[0m\u001b[1;33m(\u001b[0m\u001b[0mx\u001b[0m\u001b[1;33m=\u001b[0m\u001b[0mdf\u001b[0m\u001b[1;33m.\u001b[0m\u001b[0mindex\u001b[0m\u001b[1;33m,\u001b[0m \u001b[0my\u001b[0m\u001b[1;33m=\u001b[0m\u001b[0mdf\u001b[0m\u001b[1;33m[\u001b[0m\u001b[0mcol_name\u001b[0m\u001b[1;33m]\u001b[0m\u001b[1;33m,\u001b[0m\u001b[0mmode\u001b[0m\u001b[1;33m=\u001b[0m\u001b[1;34m'lines + markers'\u001b[0m\u001b[1;33m,\u001b[0m\u001b[0mname\u001b[0m\u001b[1;33m=\u001b[0m \u001b[0mcol_name\u001b[0m\u001b[1;33m)\u001b[0m\u001b[1;33m]\u001b[0m\u001b[1;33m)\u001b[0m\u001b[1;33m\u001b[0m\u001b[1;33m\u001b[0m\u001b[0m\n\u001b[0;32m      5\u001b[0m         \u001b[0mfig\u001b[0m\u001b[1;33m.\u001b[0m\u001b[0mupdate_layout\u001b[0m\u001b[1;33m(\u001b[0m\u001b[0mshowlegend\u001b[0m \u001b[1;33m=\u001b[0m \u001b[1;32mTrue\u001b[0m\u001b[1;33m)\u001b[0m\u001b[1;33m\u001b[0m\u001b[1;33m\u001b[0m\u001b[0m\n\u001b[1;32m----> 6\u001b[1;33m     \u001b[1;32mreturn\u001b[0m \u001b[0mfig\u001b[0m\u001b[1;33m.\u001b[0m\u001b[0mshow\u001b[0m\u001b[1;33m(\u001b[0m\u001b[1;33m)\u001b[0m\u001b[1;33m\u001b[0m\u001b[1;33m\u001b[0m\u001b[0m\n\u001b[0m",
      "\u001b[1;31mUnboundLocalError\u001b[0m: local variable 'fig' referenced before assignment"
     ]
    }
   ],
   "source": [
    "make_plot(deaths_per_region,'deaths')\n",
    "        \n"
   ]
  },
  {
   "cell_type": "code",
   "execution_count": 115,
   "metadata": {},
   "outputs": [
    {
     "data": {
      "text/html": [
       "<div>\n",
       "<style scoped>\n",
       "    .dataframe tbody tr th:only-of-type {\n",
       "        vertical-align: middle;\n",
       "    }\n",
       "\n",
       "    .dataframe tbody tr th {\n",
       "        vertical-align: top;\n",
       "    }\n",
       "\n",
       "    .dataframe thead th {\n",
       "        text-align: right;\n",
       "    }\n",
       "</style>\n",
       "<table border=\"1\" class=\"dataframe\">\n",
       "  <thead>\n",
       "    <tr style=\"text-align: right;\">\n",
       "      <th></th>\n",
       "      <th>Country</th>\n",
       "      <th>RegionCode</th>\n",
       "      <th>RegionName</th>\n",
       "      <th>Latitude</th>\n",
       "      <th>Longitude</th>\n",
       "      <th>HospitalizedPatients</th>\n",
       "      <th>IntensiveCarePatients</th>\n",
       "      <th>TotalHospitalizedPatients</th>\n",
       "      <th>HomeConfinement</th>\n",
       "      <th>CurrentPositiveCases</th>\n",
       "      <th>NewPositiveCases</th>\n",
       "      <th>Recovered</th>\n",
       "      <th>Deaths</th>\n",
       "      <th>TotalPositiveCases</th>\n",
       "      <th>TestsPerformed</th>\n",
       "    </tr>\n",
       "    <tr>\n",
       "      <th>Date</th>\n",
       "      <th></th>\n",
       "      <th></th>\n",
       "      <th></th>\n",
       "      <th></th>\n",
       "      <th></th>\n",
       "      <th></th>\n",
       "      <th></th>\n",
       "      <th></th>\n",
       "      <th></th>\n",
       "      <th></th>\n",
       "      <th></th>\n",
       "      <th></th>\n",
       "      <th></th>\n",
       "      <th></th>\n",
       "      <th></th>\n",
       "    </tr>\n",
       "  </thead>\n",
       "  <tbody>\n",
       "    <tr>\n",
       "      <th>2020-02-24 18:00:00</th>\n",
       "      <td>ITA</td>\n",
       "      <td>3</td>\n",
       "      <td>Lombardia</td>\n",
       "      <td>45.466794</td>\n",
       "      <td>9.190347</td>\n",
       "      <td>76</td>\n",
       "      <td>19</td>\n",
       "      <td>95</td>\n",
       "      <td>71</td>\n",
       "      <td>166</td>\n",
       "      <td>166</td>\n",
       "      <td>0</td>\n",
       "      <td>6</td>\n",
       "      <td>172</td>\n",
       "      <td>NaN</td>\n",
       "    </tr>\n",
       "    <tr>\n",
       "      <th>2020-02-24 18:00:00</th>\n",
       "      <td>ITA</td>\n",
       "      <td>5</td>\n",
       "      <td>Veneto</td>\n",
       "      <td>45.434905</td>\n",
       "      <td>12.338452</td>\n",
       "      <td>12</td>\n",
       "      <td>4</td>\n",
       "      <td>16</td>\n",
       "      <td>16</td>\n",
       "      <td>32</td>\n",
       "      <td>32</td>\n",
       "      <td>0</td>\n",
       "      <td>1</td>\n",
       "      <td>33</td>\n",
       "      <td>NaN</td>\n",
       "    </tr>\n",
       "    <tr>\n",
       "      <th>2020-02-25 18:00:00</th>\n",
       "      <td>ITA</td>\n",
       "      <td>3</td>\n",
       "      <td>Lombardia</td>\n",
       "      <td>45.466794</td>\n",
       "      <td>9.190347</td>\n",
       "      <td>79</td>\n",
       "      <td>25</td>\n",
       "      <td>104</td>\n",
       "      <td>127</td>\n",
       "      <td>231</td>\n",
       "      <td>68</td>\n",
       "      <td>0</td>\n",
       "      <td>9</td>\n",
       "      <td>240</td>\n",
       "      <td>NaN</td>\n",
       "    </tr>\n",
       "    <tr>\n",
       "      <th>2020-02-25 18:00:00</th>\n",
       "      <td>ITA</td>\n",
       "      <td>5</td>\n",
       "      <td>Veneto</td>\n",
       "      <td>45.434905</td>\n",
       "      <td>12.338452</td>\n",
       "      <td>12</td>\n",
       "      <td>7</td>\n",
       "      <td>19</td>\n",
       "      <td>23</td>\n",
       "      <td>42</td>\n",
       "      <td>10</td>\n",
       "      <td>0</td>\n",
       "      <td>1</td>\n",
       "      <td>43</td>\n",
       "      <td>NaN</td>\n",
       "    </tr>\n",
       "    <tr>\n",
       "      <th>2020-02-26 18:00:00</th>\n",
       "      <td>ITA</td>\n",
       "      <td>8</td>\n",
       "      <td>Emilia-Romagna</td>\n",
       "      <td>44.494367</td>\n",
       "      <td>11.341721</td>\n",
       "      <td>20</td>\n",
       "      <td>3</td>\n",
       "      <td>23</td>\n",
       "      <td>23</td>\n",
       "      <td>46</td>\n",
       "      <td>21</td>\n",
       "      <td>0</td>\n",
       "      <td>1</td>\n",
       "      <td>47</td>\n",
       "      <td>NaN</td>\n",
       "    </tr>\n",
       "    <tr>\n",
       "      <th>...</th>\n",
       "      <td>...</td>\n",
       "      <td>...</td>\n",
       "      <td>...</td>\n",
       "      <td>...</td>\n",
       "      <td>...</td>\n",
       "      <td>...</td>\n",
       "      <td>...</td>\n",
       "      <td>...</td>\n",
       "      <td>...</td>\n",
       "      <td>...</td>\n",
       "      <td>...</td>\n",
       "      <td>...</td>\n",
       "      <td>...</td>\n",
       "      <td>...</td>\n",
       "      <td>...</td>\n",
       "    </tr>\n",
       "    <tr>\n",
       "      <th>2020-06-21 17:00:00</th>\n",
       "      <td>ITA</td>\n",
       "      <td>9</td>\n",
       "      <td>Toscana</td>\n",
       "      <td>43.769231</td>\n",
       "      <td>11.255889</td>\n",
       "      <td>19</td>\n",
       "      <td>9</td>\n",
       "      <td>28</td>\n",
       "      <td>337</td>\n",
       "      <td>365</td>\n",
       "      <td>3</td>\n",
       "      <td>8750</td>\n",
       "      <td>1095</td>\n",
       "      <td>10210</td>\n",
       "      <td>217330.0</td>\n",
       "    </tr>\n",
       "    <tr>\n",
       "      <th>2020-06-21 17:00:00</th>\n",
       "      <td>ITA</td>\n",
       "      <td>22</td>\n",
       "      <td>P.A. Trento</td>\n",
       "      <td>46.068935</td>\n",
       "      <td>11.121231</td>\n",
       "      <td>0</td>\n",
       "      <td>0</td>\n",
       "      <td>0</td>\n",
       "      <td>53</td>\n",
       "      <td>53</td>\n",
       "      <td>5</td>\n",
       "      <td>3944</td>\n",
       "      <td>466</td>\n",
       "      <td>4463</td>\n",
       "      <td>58345.0</td>\n",
       "    </tr>\n",
       "    <tr>\n",
       "      <th>2020-06-21 17:00:00</th>\n",
       "      <td>ITA</td>\n",
       "      <td>10</td>\n",
       "      <td>Umbria</td>\n",
       "      <td>43.106758</td>\n",
       "      <td>12.388247</td>\n",
       "      <td>4</td>\n",
       "      <td>1</td>\n",
       "      <td>5</td>\n",
       "      <td>10</td>\n",
       "      <td>15</td>\n",
       "      <td>0</td>\n",
       "      <td>1345</td>\n",
       "      <td>78</td>\n",
       "      <td>1438</td>\n",
       "      <td>61227.0</td>\n",
       "    </tr>\n",
       "    <tr>\n",
       "      <th>2020-06-21 17:00:00</th>\n",
       "      <td>ITA</td>\n",
       "      <td>2</td>\n",
       "      <td>Valle d'Aosta</td>\n",
       "      <td>45.737503</td>\n",
       "      <td>7.320149</td>\n",
       "      <td>4</td>\n",
       "      <td>0</td>\n",
       "      <td>4</td>\n",
       "      <td>1</td>\n",
       "      <td>5</td>\n",
       "      <td>0</td>\n",
       "      <td>1042</td>\n",
       "      <td>146</td>\n",
       "      <td>1193</td>\n",
       "      <td>13294.0</td>\n",
       "    </tr>\n",
       "    <tr>\n",
       "      <th>2020-06-21 17:00:00</th>\n",
       "      <td>ITA</td>\n",
       "      <td>5</td>\n",
       "      <td>Veneto</td>\n",
       "      <td>45.434905</td>\n",
       "      <td>12.338452</td>\n",
       "      <td>28</td>\n",
       "      <td>1</td>\n",
       "      <td>29</td>\n",
       "      <td>554</td>\n",
       "      <td>583</td>\n",
       "      <td>7</td>\n",
       "      <td>16660</td>\n",
       "      <td>2002</td>\n",
       "      <td>19245</td>\n",
       "      <td>388938.0</td>\n",
       "    </tr>\n",
       "  </tbody>\n",
       "</table>\n",
       "<p>2220 rows × 15 columns</p>\n",
       "</div>"
      ],
      "text/plain": [
       "                    Country  RegionCode      RegionName   Latitude  Longitude  \\\n",
       "Date                                                                            \n",
       "2020-02-24 18:00:00     ITA           3       Lombardia  45.466794   9.190347   \n",
       "2020-02-24 18:00:00     ITA           5          Veneto  45.434905  12.338452   \n",
       "2020-02-25 18:00:00     ITA           3       Lombardia  45.466794   9.190347   \n",
       "2020-02-25 18:00:00     ITA           5          Veneto  45.434905  12.338452   \n",
       "2020-02-26 18:00:00     ITA           8  Emilia-Romagna  44.494367  11.341721   \n",
       "...                     ...         ...             ...        ...        ...   \n",
       "2020-06-21 17:00:00     ITA           9         Toscana  43.769231  11.255889   \n",
       "2020-06-21 17:00:00     ITA          22     P.A. Trento  46.068935  11.121231   \n",
       "2020-06-21 17:00:00     ITA          10          Umbria  43.106758  12.388247   \n",
       "2020-06-21 17:00:00     ITA           2   Valle d'Aosta  45.737503   7.320149   \n",
       "2020-06-21 17:00:00     ITA           5          Veneto  45.434905  12.338452   \n",
       "\n",
       "                     HospitalizedPatients  IntensiveCarePatients  \\\n",
       "Date                                                               \n",
       "2020-02-24 18:00:00                    76                     19   \n",
       "2020-02-24 18:00:00                    12                      4   \n",
       "2020-02-25 18:00:00                    79                     25   \n",
       "2020-02-25 18:00:00                    12                      7   \n",
       "2020-02-26 18:00:00                    20                      3   \n",
       "...                                   ...                    ...   \n",
       "2020-06-21 17:00:00                    19                      9   \n",
       "2020-06-21 17:00:00                     0                      0   \n",
       "2020-06-21 17:00:00                     4                      1   \n",
       "2020-06-21 17:00:00                     4                      0   \n",
       "2020-06-21 17:00:00                    28                      1   \n",
       "\n",
       "                     TotalHospitalizedPatients  HomeConfinement  \\\n",
       "Date                                                              \n",
       "2020-02-24 18:00:00                         95               71   \n",
       "2020-02-24 18:00:00                         16               16   \n",
       "2020-02-25 18:00:00                        104              127   \n",
       "2020-02-25 18:00:00                         19               23   \n",
       "2020-02-26 18:00:00                         23               23   \n",
       "...                                        ...              ...   \n",
       "2020-06-21 17:00:00                         28              337   \n",
       "2020-06-21 17:00:00                          0               53   \n",
       "2020-06-21 17:00:00                          5               10   \n",
       "2020-06-21 17:00:00                          4                1   \n",
       "2020-06-21 17:00:00                         29              554   \n",
       "\n",
       "                     CurrentPositiveCases  NewPositiveCases  Recovered  \\\n",
       "Date                                                                     \n",
       "2020-02-24 18:00:00                   166               166          0   \n",
       "2020-02-24 18:00:00                    32                32          0   \n",
       "2020-02-25 18:00:00                   231                68          0   \n",
       "2020-02-25 18:00:00                    42                10          0   \n",
       "2020-02-26 18:00:00                    46                21          0   \n",
       "...                                   ...               ...        ...   \n",
       "2020-06-21 17:00:00                   365                 3       8750   \n",
       "2020-06-21 17:00:00                    53                 5       3944   \n",
       "2020-06-21 17:00:00                    15                 0       1345   \n",
       "2020-06-21 17:00:00                     5                 0       1042   \n",
       "2020-06-21 17:00:00                   583                 7      16660   \n",
       "\n",
       "                     Deaths  TotalPositiveCases  TestsPerformed  \n",
       "Date                                                             \n",
       "2020-02-24 18:00:00       6                 172             NaN  \n",
       "2020-02-24 18:00:00       1                  33             NaN  \n",
       "2020-02-25 18:00:00       9                 240             NaN  \n",
       "2020-02-25 18:00:00       1                  43             NaN  \n",
       "2020-02-26 18:00:00       1                  47             NaN  \n",
       "...                     ...                 ...             ...  \n",
       "2020-06-21 17:00:00    1095               10210        217330.0  \n",
       "2020-06-21 17:00:00     466                4463         58345.0  \n",
       "2020-06-21 17:00:00      78                1438         61227.0  \n",
       "2020-06-21 17:00:00     146                1193         13294.0  \n",
       "2020-06-21 17:00:00    2002               19245        388938.0  \n",
       "\n",
       "[2220 rows x 15 columns]"
      ]
     },
     "execution_count": 115,
     "metadata": {},
     "output_type": "execute_result"
    }
   ],
   "source": [
    "df[df['Deaths'] != 0]\n",
    "        "
   ]
  },
  {
   "cell_type": "code",
   "execution_count": 125,
   "metadata": {},
   "outputs": [
    {
     "ename": "SyntaxError",
     "evalue": "unexpected EOF while parsing (<ipython-input-125-13fa760644e3>, line 1)",
     "output_type": "error",
     "traceback": [
      "\u001b[1;36m  File \u001b[1;32m\"<ipython-input-125-13fa760644e3>\"\u001b[1;36m, line \u001b[1;32m1\u001b[0m\n\u001b[1;33m    range(len(df['df.index'])\u001b[0m\n\u001b[1;37m                             ^\u001b[0m\n\u001b[1;31mSyntaxError\u001b[0m\u001b[1;31m:\u001b[0m unexpected EOF while parsing\n"
     ]
    }
   ],
   "source": [
    "range(len(df['df.index'])"
   ]
  },
  {
   "cell_type": "code",
   "execution_count": null,
   "metadata": {},
   "outputs": [],
   "source": []
  }
 ],
 "metadata": {
  "kernelspec": {
   "display_name": "Python 3",
   "language": "python",
   "name": "python3"
  },
  "language_info": {
   "codemirror_mode": {
    "name": "ipython",
    "version": 3
   },
   "file_extension": ".py",
   "mimetype": "text/x-python",
   "name": "python",
   "nbconvert_exporter": "python",
   "pygments_lexer": "ipython3",
   "version": "3.7.4"
  }
 },
 "nbformat": 4,
 "nbformat_minor": 2
}
