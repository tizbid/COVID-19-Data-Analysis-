{
 "cells": [
  {
   "cell_type": "markdown",
   "metadata": {},
   "source": [
    "# <h1 align=\"center\">COVID-19: Exploratory Data Analysis</h1>                                           \n",
    "<img src=\"covidimage.gif\" width=\"500\" align=\"center\">"
   ]
  },
  {
   "cell_type": "markdown",
   "metadata": {},
   "source": [
    "Visualization analysis of  italy COVID-19 datasets,provided by John Hopkins University,to gain insights about the virus by analysing the data through visualizations.Also I created a **Tablue dashboard** and a **Flourish racing bar dashboard** all of which are integrated into Jupyter.\n",
    "\n",
    "\n",
    "Dataset source: <a href = 'https://www.kaggle.com/virosky/italy-covid19'>Here</a>"
   ]
  },
  {
   "cell_type": "code",
   "execution_count": 173,
   "metadata": {
    "scrolled": false
   },
   "outputs": [],
   "source": [
    "import pandas as pd\n",
    "import numpy as np\n",
    "import matplotlib.pyplot as plt\n",
    "import seaborn as sns\n",
    "import datetime \n",
    "import plotly.express as px\n",
    "import plotly.graph_objects as go\n",
    "from plotly.subplots import make_subplots\n",
    "from wordcloud import WordCloud, ImageColorGenerator\n",
    "\n",
    "\n",
    "\n",
    "import warnings\n",
    "warnings.filterwarnings('ignore') \n",
    "\n",
    "%matplotlib inline"
   ]
  },
  {
   "cell_type": "markdown",
   "metadata": {},
   "source": [
    "### Gaining insights about the details of the individuals with the virus\n",
    "\n",
    "\n",
    "**First Dataset**\n",
    "\n",
    "The dataset contains age distribution of Covid-19 cases across all pronvinces in Italy.We will explore the dataset doing some data cleaning and manipulation and provide answers visualition of the following questions.\n",
    "\n",
    "* Age distribution of all total cases\n",
    "* Age distribution of total Deaths\n",
    "* Compare Age distribution of confirmed cases by Gender"
   ]
  },
  {
   "cell_type": "code",
   "execution_count": 27,
   "metadata": {},
   "outputs": [
    {
     "data": {
      "text/html": [
       "<div>\n",
       "<style scoped>\n",
       "    .dataframe tbody tr th:only-of-type {\n",
       "        vertical-align: middle;\n",
       "    }\n",
       "\n",
       "    .dataframe tbody tr th {\n",
       "        vertical-align: top;\n",
       "    }\n",
       "\n",
       "    .dataframe thead th {\n",
       "        text-align: right;\n",
       "    }\n",
       "</style>\n",
       "<table border=\"1\" class=\"dataframe\">\n",
       "  <thead>\n",
       "    <tr style=\"text-align: right;\">\n",
       "      <th></th>\n",
       "      <th>Unnamed: 0</th>\n",
       "      <th>male_cases</th>\n",
       "      <th>male_deaths</th>\n",
       "      <th>female_cases</th>\n",
       "      <th>female_deaths</th>\n",
       "      <th>total_cases</th>\n",
       "      <th>total_deaths</th>\n",
       "      <th>piemonte_cases</th>\n",
       "      <th>lombardia_cases</th>\n",
       "      <th>veneto_cases</th>\n",
       "      <th>...</th>\n",
       "      <th>toscana_cases</th>\n",
       "      <th>umbria_cases</th>\n",
       "      <th>marche_cases</th>\n",
       "      <th>lazio_cases</th>\n",
       "      <th>abruzzo_cases</th>\n",
       "      <th>molise_cases</th>\n",
       "      <th>campania_cases</th>\n",
       "      <th>puglia_cases</th>\n",
       "      <th>sicilia_cases</th>\n",
       "      <th>sardegna_cases</th>\n",
       "    </tr>\n",
       "    <tr>\n",
       "      <th>age_classes</th>\n",
       "      <th></th>\n",
       "      <th></th>\n",
       "      <th></th>\n",
       "      <th></th>\n",
       "      <th></th>\n",
       "      <th></th>\n",
       "      <th></th>\n",
       "      <th></th>\n",
       "      <th></th>\n",
       "      <th></th>\n",
       "      <th></th>\n",
       "      <th></th>\n",
       "      <th></th>\n",
       "      <th></th>\n",
       "      <th></th>\n",
       "      <th></th>\n",
       "      <th></th>\n",
       "      <th></th>\n",
       "      <th></th>\n",
       "      <th></th>\n",
       "      <th></th>\n",
       "    </tr>\n",
       "  </thead>\n",
       "  <tbody>\n",
       "    <tr>\n",
       "      <th>0-9</th>\n",
       "      <td>0</td>\n",
       "      <td>381</td>\n",
       "      <td>0</td>\n",
       "      <td>307</td>\n",
       "      <td>0</td>\n",
       "      <td>693</td>\n",
       "      <td>0</td>\n",
       "      <td>35</td>\n",
       "      <td>205</td>\n",
       "      <td>90</td>\n",
       "      <td>...</td>\n",
       "      <td>56</td>\n",
       "      <td>22</td>\n",
       "      <td>20</td>\n",
       "      <td>35</td>\n",
       "      <td>16</td>\n",
       "      <td>1</td>\n",
       "      <td>17</td>\n",
       "      <td>21</td>\n",
       "      <td>12</td>\n",
       "      <td>7</td>\n",
       "    </tr>\n",
       "    <tr>\n",
       "      <th>10-19</th>\n",
       "      <td>1</td>\n",
       "      <td>475</td>\n",
       "      <td>0</td>\n",
       "      <td>454</td>\n",
       "      <td>0</td>\n",
       "      <td>931</td>\n",
       "      <td>0</td>\n",
       "      <td>29</td>\n",
       "      <td>170</td>\n",
       "      <td>164</td>\n",
       "      <td>...</td>\n",
       "      <td>66</td>\n",
       "      <td>20</td>\n",
       "      <td>29</td>\n",
       "      <td>48</td>\n",
       "      <td>41</td>\n",
       "      <td>7</td>\n",
       "      <td>30</td>\n",
       "      <td>34</td>\n",
       "      <td>23</td>\n",
       "      <td>8</td>\n",
       "    </tr>\n",
       "    <tr>\n",
       "      <th>20-29</th>\n",
       "      <td>2</td>\n",
       "      <td>1919</td>\n",
       "      <td>4</td>\n",
       "      <td>2531</td>\n",
       "      <td>2</td>\n",
       "      <td>4530</td>\n",
       "      <td>6</td>\n",
       "      <td>311</td>\n",
       "      <td>1494</td>\n",
       "      <td>715</td>\n",
       "      <td>...</td>\n",
       "      <td>167</td>\n",
       "      <td>65</td>\n",
       "      <td>127</td>\n",
       "      <td>152</td>\n",
       "      <td>62</td>\n",
       "      <td>6</td>\n",
       "      <td>102</td>\n",
       "      <td>117</td>\n",
       "      <td>59</td>\n",
       "      <td>23</td>\n",
       "    </tr>\n",
       "    <tr>\n",
       "      <th>30-39</th>\n",
       "      <td>3</td>\n",
       "      <td>3505</td>\n",
       "      <td>22</td>\n",
       "      <td>3885</td>\n",
       "      <td>7</td>\n",
       "      <td>7466</td>\n",
       "      <td>29</td>\n",
       "      <td>479</td>\n",
       "      <td>2778</td>\n",
       "      <td>879</td>\n",
       "      <td>...</td>\n",
       "      <td>264</td>\n",
       "      <td>96</td>\n",
       "      <td>265</td>\n",
       "      <td>283</td>\n",
       "      <td>124</td>\n",
       "      <td>12</td>\n",
       "      <td>138</td>\n",
       "      <td>195</td>\n",
       "      <td>85</td>\n",
       "      <td>70</td>\n",
       "    </tr>\n",
       "    <tr>\n",
       "      <th>40-49</th>\n",
       "      <td>4</td>\n",
       "      <td>6480</td>\n",
       "      <td>81</td>\n",
       "      <td>7130</td>\n",
       "      <td>29</td>\n",
       "      <td>13701</td>\n",
       "      <td>110</td>\n",
       "      <td>1021</td>\n",
       "      <td>5436</td>\n",
       "      <td>1460</td>\n",
       "      <td>...</td>\n",
       "      <td>523</td>\n",
       "      <td>111</td>\n",
       "      <td>472</td>\n",
       "      <td>436</td>\n",
       "      <td>238</td>\n",
       "      <td>22</td>\n",
       "      <td>203</td>\n",
       "      <td>298</td>\n",
       "      <td>147</td>\n",
       "      <td>115</td>\n",
       "    </tr>\n",
       "    <tr>\n",
       "      <th>50-59</th>\n",
       "      <td>5</td>\n",
       "      <td>11149</td>\n",
       "      <td>377</td>\n",
       "      <td>9706</td>\n",
       "      <td>100</td>\n",
       "      <td>20975</td>\n",
       "      <td>479</td>\n",
       "      <td>1634</td>\n",
       "      <td>8866</td>\n",
       "      <td>2182</td>\n",
       "      <td>...</td>\n",
       "      <td>825</td>\n",
       "      <td>191</td>\n",
       "      <td>725</td>\n",
       "      <td>654</td>\n",
       "      <td>267</td>\n",
       "      <td>47</td>\n",
       "      <td>303</td>\n",
       "      <td>445</td>\n",
       "      <td>241</td>\n",
       "      <td>126</td>\n",
       "    </tr>\n",
       "    <tr>\n",
       "      <th>60-69</th>\n",
       "      <td>6</td>\n",
       "      <td>11761</td>\n",
       "      <td>1144</td>\n",
       "      <td>6254</td>\n",
       "      <td>299</td>\n",
       "      <td>18089</td>\n",
       "      <td>1448</td>\n",
       "      <td>1436</td>\n",
       "      <td>8266</td>\n",
       "      <td>1483</td>\n",
       "      <td>...</td>\n",
       "      <td>701</td>\n",
       "      <td>139</td>\n",
       "      <td>630</td>\n",
       "      <td>507</td>\n",
       "      <td>300</td>\n",
       "      <td>28</td>\n",
       "      <td>268</td>\n",
       "      <td>353</td>\n",
       "      <td>190</td>\n",
       "      <td>93</td>\n",
       "    </tr>\n",
       "    <tr>\n",
       "      <th>70-79</th>\n",
       "      <td>7</td>\n",
       "      <td>12281</td>\n",
       "      <td>3146</td>\n",
       "      <td>6868</td>\n",
       "      <td>1041</td>\n",
       "      <td>19238</td>\n",
       "      <td>4196</td>\n",
       "      <td>1551</td>\n",
       "      <td>9651</td>\n",
       "      <td>1303</td>\n",
       "      <td>...</td>\n",
       "      <td>661</td>\n",
       "      <td>96</td>\n",
       "      <td>642</td>\n",
       "      <td>450</td>\n",
       "      <td>204</td>\n",
       "      <td>13</td>\n",
       "      <td>176</td>\n",
       "      <td>271</td>\n",
       "      <td>133</td>\n",
       "      <td>79</td>\n",
       "    </tr>\n",
       "    <tr>\n",
       "      <th>80-89</th>\n",
       "      <td>8</td>\n",
       "      <td>8553</td>\n",
       "      <td>3259</td>\n",
       "      <td>7644</td>\n",
       "      <td>1767</td>\n",
       "      <td>16252</td>\n",
       "      <td>5029</td>\n",
       "      <td>1345</td>\n",
       "      <td>7631</td>\n",
       "      <td>1371</td>\n",
       "      <td>...</td>\n",
       "      <td>525</td>\n",
       "      <td>54</td>\n",
       "      <td>659</td>\n",
       "      <td>396</td>\n",
       "      <td>151</td>\n",
       "      <td>16</td>\n",
       "      <td>101</td>\n",
       "      <td>260</td>\n",
       "      <td>79</td>\n",
       "      <td>76</td>\n",
       "    </tr>\n",
       "    <tr>\n",
       "      <th>&gt;90</th>\n",
       "      <td>9</td>\n",
       "      <td>1374</td>\n",
       "      <td>558</td>\n",
       "      <td>2973</td>\n",
       "      <td>692</td>\n",
       "      <td>4356</td>\n",
       "      <td>1251</td>\n",
       "      <td>289</td>\n",
       "      <td>1553</td>\n",
       "      <td>545</td>\n",
       "      <td>...</td>\n",
       "      <td>176</td>\n",
       "      <td>10</td>\n",
       "      <td>236</td>\n",
       "      <td>123</td>\n",
       "      <td>39</td>\n",
       "      <td>7</td>\n",
       "      <td>28</td>\n",
       "      <td>78</td>\n",
       "      <td>28</td>\n",
       "      <td>34</td>\n",
       "    </tr>\n",
       "    <tr>\n",
       "      <th>Uknown</th>\n",
       "      <td>10</td>\n",
       "      <td>84</td>\n",
       "      <td>1</td>\n",
       "      <td>81</td>\n",
       "      <td>1</td>\n",
       "      <td>168</td>\n",
       "      <td>2</td>\n",
       "      <td>3</td>\n",
       "      <td>21</td>\n",
       "      <td>0</td>\n",
       "      <td>...</td>\n",
       "      <td>4</td>\n",
       "      <td>2</td>\n",
       "      <td>10</td>\n",
       "      <td>4</td>\n",
       "      <td>5</td>\n",
       "      <td>0</td>\n",
       "      <td>28</td>\n",
       "      <td>5</td>\n",
       "      <td>50</td>\n",
       "      <td>4</td>\n",
       "    </tr>\n",
       "  </tbody>\n",
       "</table>\n",
       "<p>11 rows × 25 columns</p>\n",
       "</div>"
      ],
      "text/plain": [
       "             Unnamed: 0  male_cases  male_deaths  female_cases  female_deaths  \\\n",
       "age_classes                                                                     \n",
       "0-9                   0         381            0           307              0   \n",
       "10-19                 1         475            0           454              0   \n",
       "20-29                 2        1919            4          2531              2   \n",
       "30-39                 3        3505           22          3885              7   \n",
       "40-49                 4        6480           81          7130             29   \n",
       "50-59                 5       11149          377          9706            100   \n",
       "60-69                 6       11761         1144          6254            299   \n",
       "70-79                 7       12281         3146          6868           1041   \n",
       "80-89                 8        8553         3259          7644           1767   \n",
       ">90                   9        1374          558          2973            692   \n",
       "Uknown               10          84            1            81              1   \n",
       "\n",
       "             total_cases  total_deaths  piemonte_cases  lombardia_cases  \\\n",
       "age_classes                                                               \n",
       "0-9                  693             0              35              205   \n",
       "10-19                931             0              29              170   \n",
       "20-29               4530             6             311             1494   \n",
       "30-39               7466            29             479             2778   \n",
       "40-49              13701           110            1021             5436   \n",
       "50-59              20975           479            1634             8866   \n",
       "60-69              18089          1448            1436             8266   \n",
       "70-79              19238          4196            1551             9651   \n",
       "80-89              16252          5029            1345             7631   \n",
       ">90                 4356          1251             289             1553   \n",
       "Uknown               168             2               3               21   \n",
       "\n",
       "             veneto_cases  ...  toscana_cases  umbria_cases  marche_cases  \\\n",
       "age_classes                ...                                              \n",
       "0-9                    90  ...             56            22            20   \n",
       "10-19                 164  ...             66            20            29   \n",
       "20-29                 715  ...            167            65           127   \n",
       "30-39                 879  ...            264            96           265   \n",
       "40-49                1460  ...            523           111           472   \n",
       "50-59                2182  ...            825           191           725   \n",
       "60-69                1483  ...            701           139           630   \n",
       "70-79                1303  ...            661            96           642   \n",
       "80-89                1371  ...            525            54           659   \n",
       ">90                   545  ...            176            10           236   \n",
       "Uknown                  0  ...              4             2            10   \n",
       "\n",
       "             lazio_cases  abruzzo_cases  molise_cases  campania_cases  \\\n",
       "age_classes                                                             \n",
       "0-9                   35             16             1              17   \n",
       "10-19                 48             41             7              30   \n",
       "20-29                152             62             6             102   \n",
       "30-39                283            124            12             138   \n",
       "40-49                436            238            22             203   \n",
       "50-59                654            267            47             303   \n",
       "60-69                507            300            28             268   \n",
       "70-79                450            204            13             176   \n",
       "80-89                396            151            16             101   \n",
       ">90                  123             39             7              28   \n",
       "Uknown                 4              5             0              28   \n",
       "\n",
       "             puglia_cases  sicilia_cases  sardegna_cases  \n",
       "age_classes                                               \n",
       "0-9                    21             12               7  \n",
       "10-19                  34             23               8  \n",
       "20-29                 117             59              23  \n",
       "30-39                 195             85              70  \n",
       "40-49                 298            147             115  \n",
       "50-59                 445            241             126  \n",
       "60-69                 353            190              93  \n",
       "70-79                 271            133              79  \n",
       "80-89                 260             79              76  \n",
       ">90                    78             28              34  \n",
       "Uknown                  5             50               4  \n",
       "\n",
       "[11 rows x 25 columns]"
      ]
     },
     "execution_count": 27,
     "metadata": {},
     "output_type": "execute_result"
    }
   ],
   "source": [
    "#import Datasets\n",
    "covid_age = pd.read_csv('Data/covid-age.csv',index_col = 'age_classes')\n",
    "covid_age"
   ]
  },
  {
   "cell_type": "code",
   "execution_count": 28,
   "metadata": {},
   "outputs": [],
   "source": [
    "#Drop two first columns\n",
    "covid_age.drop(covid_age.iloc[:,0:1],axis = 1,inplace = True)"
   ]
  },
  {
   "cell_type": "code",
   "execution_count": 30,
   "metadata": {},
   "outputs": [
    {
     "data": {
      "text/html": [
       "<div>\n",
       "<style scoped>\n",
       "    .dataframe tbody tr th:only-of-type {\n",
       "        vertical-align: middle;\n",
       "    }\n",
       "\n",
       "    .dataframe tbody tr th {\n",
       "        vertical-align: top;\n",
       "    }\n",
       "\n",
       "    .dataframe thead th {\n",
       "        text-align: right;\n",
       "    }\n",
       "</style>\n",
       "<table border=\"1\" class=\"dataframe\">\n",
       "  <thead>\n",
       "    <tr style=\"text-align: right;\">\n",
       "      <th></th>\n",
       "      <th>age_classes</th>\n",
       "      <th>total_cases</th>\n",
       "      <th>male_cases</th>\n",
       "      <th>female_cases</th>\n",
       "    </tr>\n",
       "  </thead>\n",
       "  <tbody>\n",
       "    <tr>\n",
       "      <th>0</th>\n",
       "      <td>0-9</td>\n",
       "      <td>693</td>\n",
       "      <td>381</td>\n",
       "      <td>307</td>\n",
       "    </tr>\n",
       "    <tr>\n",
       "      <th>1</th>\n",
       "      <td>10-19</td>\n",
       "      <td>931</td>\n",
       "      <td>475</td>\n",
       "      <td>454</td>\n",
       "    </tr>\n",
       "    <tr>\n",
       "      <th>2</th>\n",
       "      <td>20-29</td>\n",
       "      <td>4530</td>\n",
       "      <td>1919</td>\n",
       "      <td>2531</td>\n",
       "    </tr>\n",
       "    <tr>\n",
       "      <th>3</th>\n",
       "      <td>30-39</td>\n",
       "      <td>7466</td>\n",
       "      <td>3505</td>\n",
       "      <td>3885</td>\n",
       "    </tr>\n",
       "    <tr>\n",
       "      <th>4</th>\n",
       "      <td>40-49</td>\n",
       "      <td>13701</td>\n",
       "      <td>6480</td>\n",
       "      <td>7130</td>\n",
       "    </tr>\n",
       "  </tbody>\n",
       "</table>\n",
       "</div>"
      ],
      "text/plain": [
       "  age_classes  total_cases  male_cases  female_cases\n",
       "0         0-9          693         381           307\n",
       "1       10-19          931         475           454\n",
       "2       20-29         4530        1919          2531\n",
       "3       30-39         7466        3505          3885\n",
       "4       40-49        13701        6480          7130"
      ]
     },
     "execution_count": 30,
     "metadata": {},
     "output_type": "execute_result"
    }
   ],
   "source": [
    "#Age distribution of total cases\n",
    "cases = covid_age.groupby(['age_classes'])[('total_cases','male_cases','female_cases')].agg(sum).reset_index()\n",
    "cases.head()"
   ]
  },
  {
   "cell_type": "code",
   "execution_count": 31,
   "metadata": {},
   "outputs": [
    {
     "data": {
      "text/html": [
       "<div>\n",
       "<style scoped>\n",
       "    .dataframe tbody tr th:only-of-type {\n",
       "        vertical-align: middle;\n",
       "    }\n",
       "\n",
       "    .dataframe tbody tr th {\n",
       "        vertical-align: top;\n",
       "    }\n",
       "\n",
       "    .dataframe thead th {\n",
       "        text-align: right;\n",
       "    }\n",
       "</style>\n",
       "<table border=\"1\" class=\"dataframe\">\n",
       "  <thead>\n",
       "    <tr style=\"text-align: right;\">\n",
       "      <th></th>\n",
       "      <th>age_classes</th>\n",
       "      <th>total_deaths</th>\n",
       "      <th>male_deaths</th>\n",
       "      <th>female_deaths</th>\n",
       "    </tr>\n",
       "  </thead>\n",
       "  <tbody>\n",
       "    <tr>\n",
       "      <th>0</th>\n",
       "      <td>0-9</td>\n",
       "      <td>0</td>\n",
       "      <td>0</td>\n",
       "      <td>0</td>\n",
       "    </tr>\n",
       "    <tr>\n",
       "      <th>1</th>\n",
       "      <td>10-19</td>\n",
       "      <td>0</td>\n",
       "      <td>0</td>\n",
       "      <td>0</td>\n",
       "    </tr>\n",
       "    <tr>\n",
       "      <th>2</th>\n",
       "      <td>20-29</td>\n",
       "      <td>6</td>\n",
       "      <td>4</td>\n",
       "      <td>2</td>\n",
       "    </tr>\n",
       "    <tr>\n",
       "      <th>3</th>\n",
       "      <td>30-39</td>\n",
       "      <td>29</td>\n",
       "      <td>22</td>\n",
       "      <td>7</td>\n",
       "    </tr>\n",
       "    <tr>\n",
       "      <th>4</th>\n",
       "      <td>40-49</td>\n",
       "      <td>110</td>\n",
       "      <td>81</td>\n",
       "      <td>29</td>\n",
       "    </tr>\n",
       "  </tbody>\n",
       "</table>\n",
       "</div>"
      ],
      "text/plain": [
       "  age_classes  total_deaths  male_deaths  female_deaths\n",
       "0         0-9             0            0              0\n",
       "1       10-19             0            0              0\n",
       "2       20-29             6            4              2\n",
       "3       30-39            29           22              7\n",
       "4       40-49           110           81             29"
      ]
     },
     "execution_count": 31,
     "metadata": {},
     "output_type": "execute_result"
    }
   ],
   "source": [
    "#Age distribution of total Deaths\n",
    "\n",
    "deaths= covid_age.groupby(['age_classes'])[('total_deaths','male_deaths','female_deaths')].agg(sum).reset_index()\n",
    "deaths.head()"
   ]
  },
  {
   "cell_type": "code",
   "execution_count": 32,
   "metadata": {},
   "outputs": [
    {
     "data": {
      "image/png": "[encoded data removed]",
      "text/plain": [
       "<Figure size 864x432 with 1 Axes>"
      ]
     },
     "metadata": {
      "needs_background": "light"
     },
     "output_type": "display_data"
    }
   ],
   "source": [
    "# visuaöize age distribution of confirmed cases\n",
    "fig, ax = plt.subplots(figsize=(12,6))\n",
    "plt.title(\"Age distribution of Confirmed Cases\")\n",
    "sns.barplot(ax = ax,\n",
    "            data = cases,\n",
    "            x = 'age_classes',\n",
    "            y = 'total_cases')\n",
    "plt.show()"
   ]
  },
  {
   "cell_type": "markdown",
   "metadata": {},
   "source": [
    "The plot aboves clearly shows that irrespective of gender,most confirmed COVID-19 cases occur among people advanced in age."
   ]
  },
  {
   "cell_type": "code",
   "execution_count": 181,
   "metadata": {},
   "outputs": [
    {
     "data": {
      "text/plain": [
       "<Figure size 432x288 with 0 Axes>"
      ]
     },
     "metadata": {},
     "output_type": "display_data"
    },
    {
     "data": {
      "image/png": "[encoded data removed]",
      "text/plain": [
       "<Figure size 962.125x576 with 1 Axes>"
      ]
     },
     "metadata": {
      "needs_background": "light"
     },
     "output_type": "display_data"
    }
   ],
   "source": [
    "#Manipulate data to obtain a ngender based plot \n",
    "df_melt = pd.melt(cases, value_vars = (\"male_cases\",\"female_cases\"),id_vars = \"age_classes\")\n",
    "\n",
    "fig = plt.figure()\n",
    "sns.factorplot(x = 'age_classes', y='value', hue = 'variable',data=df_melt, kind='bar',height=8, aspect=1.5 )\n",
    "\n",
    "plt.show()"
   ]
  },
  {
   "cell_type": "markdown",
   "metadata": {},
   "source": [
    "Based on gender males tend to dominate in the number of confirmed cases. .However beyond 90 years women has higher confirmed cases"
   ]
  },
  {
   "cell_type": "code",
   "execution_count": 35,
   "metadata": {},
   "outputs": [
    {
     "data": {
      "application/vnd.plotly.v1+json": {
       "config": {
        "plotlyServerURL": "https://plot.ly"
       },
       "data": [
        {
         "domain": {
          "x": [
           0,
           0.45
          ],
          "y": [
           0,
           1
          ]
         },
         "labels": [
          "0-9",
          "10-19",
          "20-29",
          "30-39",
          "40-49",
          "50-59",
          "60-69",
          "70-79",
          "80-89",
          ">90",
          "Uknown"
         ],
         "name": "Male: Confirmed cases",
         "type": "pie",
         "values": [
          381,
          475,
          1919,
          3505,
          6480,
          11149,
          11761,
          12281,
          8553,
          1374,
          84
         ]
        },
        {
         "domain": {
          "x": [
           0.55,
           1
          ],
          "y": [
           0,
           1
          ]
         },
         "labels": [
          "0-9",
          "10-19",
          "20-29",
          "30-39",
          "40-49",
          "50-59",
          "60-69",
          "70-79",
          "80-89",
          ">90",
          "Uknown"
         ],
         "name": "Female: Confirmed cases",
         "type": "pie",
         "values": [
          307,
          454,
          2531,
          3885,
          7130,
          9706,
          6254,
          6868,
          7644,
          2973,
          81
         ]
        }
       ],
       "layout": {
        "annotations": [
         {
          "font": {
           "size": 16
          },
          "showarrow": false,
          "text": "% of confirmed and death cases based on gender",
          "x": 0.5,
          "xanchor": "center",
          "xref": "paper",
          "y": 0,
          "yanchor": "top",
          "yref": "paper",
          "yshift": -30
         }
        ],
        "template": {
         "data": {
          "bar": [
           {
            "error_x": {
             "color": "#2a3f5f"
            },
            "error_y": {
             "color": "#2a3f5f"
            },
            "marker": {
             "line": {
              "color": "#E5ECF6",
              "width": 0.5
             }
            },
            "type": "bar"
           }
          ],
          "barpolar": [
           {
            "marker": {
             "line": {
              "color": "#E5ECF6",
              "width": 0.5
             }
            },
            "type": "barpolar"
           }
          ],
          "carpet": [
           {
            "aaxis": {
             "endlinecolor": "#2a3f5f",
             "gridcolor": "white",
             "linecolor": "white",
             "minorgridcolor": "white",
             "startlinecolor": "#2a3f5f"
            },
            "baxis": {
             "endlinecolor": "#2a3f5f",
             "gridcolor": "white",
             "linecolor": "white",
             "minorgridcolor": "white",
             "startlinecolor": "#2a3f5f"
            },
            "type": "carpet"
           }
          ],
          "choropleth": [
           {
            "colorbar": {
             "outlinewidth": 0,
             "ticks": ""
            },
            "type": "choropleth"
           }
          ],
          "contour": [
           {
            "colorbar": {
             "outlinewidth": 0,
             "ticks": ""
            },
            "colorscale": [
             [
              0,
              "#0d0887"
             ],
             [
              0.1111111111111111,
              "#46039f"
             ],
             [
              0.2222222222222222,
              "#7201a8"
             ],
             [
              0.3333333333333333,
              "#9c179e"
             ],
             [
              0.4444444444444444,
              "#bd3786"
             ],
             [
              0.5555555555555556,
              "#d8576b"
             ],
             [
              0.6666666666666666,
              "#ed7953"
             ],
             [
              0.7777777777777778,
              "#fb9f3a"
             ],
             [
              0.8888888888888888,
              "#fdca26"
             ],
             [
              1,
              "#f0f921"
             ]
            ],
            "type": "contour"
           }
          ],
          "contourcarpet": [
           {
            "colorbar": {
             "outlinewidth": 0,
             "ticks": ""
            },
            "type": "contourcarpet"
           }
          ],
          "heatmap": [
           {
            "colorbar": {
             "outlinewidth": 0,
             "ticks": ""
            },
            "colorscale": [
             [
              0,
              "#0d0887"
             ],
             [
              0.1111111111111111,
              "#46039f"
             ],
             [
              0.2222222222222222,
              "#7201a8"
             ],
             [
              0.3333333333333333,
              "#9c179e"
             ],
             [
              0.4444444444444444,
              "#bd3786"
             ],
             [
              0.5555555555555556,
              "#d8576b"
             ],
             [
              0.6666666666666666,
              "#ed7953"
             ],
             [
              0.7777777777777778,
              "#fb9f3a"
             ],
             [
              0.8888888888888888,
              "#fdca26"
             ],
             [
              1,
              "#f0f921"
             ]
            ],
            "type": "heatmap"
           }
          ],
          "heatmapgl": [
           {
            "colorbar": {
             "outlinewidth": 0,
             "ticks": ""
            },
            "colorscale": [
             [
              0,
              "#0d0887"
             ],
             [
              0.1111111111111111,
              "#46039f"
             ],
             [
              0.2222222222222222,
              "#7201a8"
             ],
             [
              0.3333333333333333,
              "#9c179e"
             ],
             [
              0.4444444444444444,
              "#bd3786"
             ],
             [
              0.5555555555555556,
              "#d8576b"
             ],
             [
              0.6666666666666666,
              "#ed7953"
             ],
             [
              0.7777777777777778,
              "#fb9f3a"
             ],
             [
              0.8888888888888888,
              "#fdca26"
             ],
             [
              1,
              "#f0f921"
             ]
            ],
            "type": "heatmapgl"
           }
          ],
          "histogram": [
           {
            "marker": {
             "colorbar": {
              "outlinewidth": 0,
              "ticks": ""
             }
            },
            "type": "histogram"
           }
          ],
          "histogram2d": [
           {
            "colorbar": {
             "outlinewidth": 0,
             "ticks": ""
            },
            "colorscale": [
             [
              0,
              "#0d0887"
             ],
             [
              0.1111111111111111,
              "#46039f"
             ],
             [
              0.2222222222222222,
              "#7201a8"
             ],
             [
              0.3333333333333333,
              "#9c179e"
             ],
             [
              0.4444444444444444,
              "#bd3786"
             ],
             [
              0.5555555555555556,
              "#d8576b"
             ],
             [
              0.6666666666666666,
              "#ed7953"
             ],
             [
              0.7777777777777778,
              "#fb9f3a"
             ],
             [
              0.8888888888888888,
              "#fdca26"
             ],
             [
              1,
              "#f0f921"
             ]
            ],
            "type": "histogram2d"
           }
          ],
          "histogram2dcontour": [
           {
            "colorbar": {
             "outlinewidth": 0,
             "ticks": ""
            },
            "colorscale": [
             [
              0,
              "#0d0887"
             ],
             [
              0.1111111111111111,
              "#46039f"
             ],
             [
              0.2222222222222222,
              "#7201a8"
             ],
             [
              0.3333333333333333,
              "#9c179e"
             ],
             [
              0.4444444444444444,
              "#bd3786"
             ],
             [
              0.5555555555555556,
              "#d8576b"
             ],
             [
              0.6666666666666666,
              "#ed7953"
             ],
             [
              0.7777777777777778,
              "#fb9f3a"
             ],
             [
              0.8888888888888888,
              "#fdca26"
             ],
             [
              1,
              "#f0f921"
             ]
            ],
            "type": "histogram2dcontour"
           }
          ],
          "mesh3d": [
           {
            "colorbar": {
             "outlinewidth": 0,
             "ticks": ""
            },
            "type": "mesh3d"
           }
          ],
          "parcoords": [
           {
            "line": {
             "colorbar": {
              "outlinewidth": 0,
              "ticks": ""
             }
            },
            "type": "parcoords"
           }
          ],
          "pie": [
           {
            "automargin": true,
            "type": "pie"
           }
          ],
          "scatter": [
           {
            "marker": {
             "colorbar": {
              "outlinewidth": 0,
              "ticks": ""
             }
            },
            "type": "scatter"
           }
          ],
          "scatter3d": [
           {
            "line": {
             "colorbar": {
              "outlinewidth": 0,
              "ticks": ""
             }
            },
            "marker": {
             "colorbar": {
              "outlinewidth": 0,
              "ticks": ""
             }
            },
            "type": "scatter3d"
           }
          ],
          "scattercarpet": [
           {
            "marker": {
             "colorbar": {
              "outlinewidth": 0,
              "ticks": ""
             }
            },
            "type": "scattercarpet"
           }
          ],
          "scattergeo": [
           {
            "marker": {
             "colorbar": {
              "outlinewidth": 0,
              "ticks": ""
             }
            },
            "type": "scattergeo"
           }
          ],
          "scattergl": [
           {
            "marker": {
             "colorbar": {
              "outlinewidth": 0,
              "ticks": ""
             }
            },
            "type": "scattergl"
           }
          ],
          "scattermapbox": [
           {
            "marker": {
             "colorbar": {
              "outlinewidth": 0,
              "ticks": ""
             }
            },
            "type": "scattermapbox"
           }
          ],
          "scatterpolar": [
           {
            "marker": {
             "colorbar": {
              "outlinewidth": 0,
              "ticks": ""
             }
            },
            "type": "scatterpolar"
           }
          ],
          "scatterpolargl": [
           {
            "marker": {
             "colorbar": {
              "outlinewidth": 0,
              "ticks": ""
             }
            },
            "type": "scatterpolargl"
           }
          ],
          "scatterternary": [
           {
            "marker": {
             "colorbar": {
              "outlinewidth": 0,
              "ticks": ""
             }
            },
            "type": "scatterternary"
           }
          ],
          "surface": [
           {
            "colorbar": {
             "outlinewidth": 0,
             "ticks": ""
            },
            "colorscale": [
             [
              0,
              "#0d0887"
             ],
             [
              0.1111111111111111,
              "#46039f"
             ],
             [
              0.2222222222222222,
              "#7201a8"
             ],
             [
              0.3333333333333333,
              "#9c179e"
             ],
             [
              0.4444444444444444,
              "#bd3786"
             ],
             [
              0.5555555555555556,
              "#d8576b"
             ],
             [
              0.6666666666666666,
              "#ed7953"
             ],
             [
              0.7777777777777778,
              "#fb9f3a"
             ],
             [
              0.8888888888888888,
              "#fdca26"
             ],
             [
              1,
              "#f0f921"
             ]
            ],
            "type": "surface"
           }
          ],
          "table": [
           {
            "cells": {
             "fill": {
              "color": "#EBF0F8"
             },
             "line": {
              "color": "white"
             }
            },
            "header": {
             "fill": {
              "color": "#C8D4E3"
             },
             "line": {
              "color": "white"
             }
            },
            "type": "table"
           }
          ]
         },
         "layout": {
          "annotationdefaults": {
           "arrowcolor": "#2a3f5f",
           "arrowhead": 0,
           "arrowwidth": 1
          },
          "coloraxis": {
           "colorbar": {
            "outlinewidth": 0,
            "ticks": ""
           }
          },
          "colorscale": {
           "diverging": [
            [
             0,
             "#8e0152"
            ],
            [
             0.1,
             "#c51b7d"
            ],
            [
             0.2,
             "#de77ae"
            ],
            [
             0.3,
             "#f1b6da"
            ],
            [
             0.4,
             "#fde0ef"
            ],
            [
             0.5,
             "#f7f7f7"
            ],
            [
             0.6,
             "#e6f5d0"
            ],
            [
             0.7,
             "#b8e186"
            ],
            [
             0.8,
             "#7fbc41"
            ],
            [
             0.9,
             "#4d9221"
            ],
            [
             1,
             "#276419"
            ]
           ],
           "sequential": [
            [
             0,
             "#0d0887"
            ],
            [
             0.1111111111111111,
             "#46039f"
            ],
            [
             0.2222222222222222,
             "#7201a8"
            ],
            [
             0.3333333333333333,
             "#9c179e"
            ],
            [
             0.4444444444444444,
             "#bd3786"
            ],
            [
             0.5555555555555556,
             "#d8576b"
            ],
            [
             0.6666666666666666,
             "#ed7953"
            ],
            [
             0.7777777777777778,
             "#fb9f3a"
            ],
            [
             0.8888888888888888,
             "#fdca26"
            ],
            [
             1,
             "#f0f921"
            ]
           ],
           "sequentialminus": [
            [
             0,
             "#0d0887"
            ],
            [
             0.1111111111111111,
             "#46039f"
            ],
            [
             0.2222222222222222,
             "#7201a8"
            ],
            [
             0.3333333333333333,
             "#9c179e"
            ],
            [
             0.4444444444444444,
             "#bd3786"
            ],
            [
             0.5555555555555556,
             "#d8576b"
            ],
            [
             0.6666666666666666,
             "#ed7953"
            ],
            [
             0.7777777777777778,
             "#fb9f3a"
            ],
            [
             0.8888888888888888,
             "#fdca26"
            ],
            [
             1,
             "#f0f921"
            ]
           ]
          },
          "colorway": [
           "#636efa",
           "#EF553B",
           "#00cc96",
           "#ab63fa",
           "#FFA15A",
           "#19d3f3",
           "#FF6692",
           "#B6E880",
           "#FF97FF",
           "#FECB52"
          ],
          "font": {
           "color": "#2a3f5f"
          },
          "geo": {
           "bgcolor": "white",
           "lakecolor": "white",
           "landcolor": "#E5ECF6",
           "showlakes": true,
           "showland": true,
           "subunitcolor": "white"
          },
          "hoverlabel": {
           "align": "left"
          },
          "hovermode": "closest",
          "mapbox": {
           "style": "light"
          },
          "paper_bgcolor": "white",
          "plot_bgcolor": "#E5ECF6",
          "polar": {
           "angularaxis": {
            "gridcolor": "white",
            "linecolor": "white",
            "ticks": ""
           },
           "bgcolor": "#E5ECF6",
           "radialaxis": {
            "gridcolor": "white",
            "linecolor": "white",
            "ticks": ""
           }
          },
          "scene": {
           "xaxis": {
            "backgroundcolor": "#E5ECF6",
            "gridcolor": "white",
            "gridwidth": 2,
            "linecolor": "white",
            "showbackground": true,
            "ticks": "",
            "zerolinecolor": "white"
           },
           "yaxis": {
            "backgroundcolor": "#E5ECF6",
            "gridcolor": "white",
            "gridwidth": 2,
            "linecolor": "white",
            "showbackground": true,
            "ticks": "",
            "zerolinecolor": "white"
           },
           "zaxis": {
            "backgroundcolor": "#E5ECF6",
            "gridcolor": "white",
            "gridwidth": 2,
            "linecolor": "white",
            "showbackground": true,
            "ticks": "",
            "zerolinecolor": "white"
           }
          },
          "shapedefaults": {
           "line": {
            "color": "#2a3f5f"
           }
          },
          "ternary": {
           "aaxis": {
            "gridcolor": "white",
            "linecolor": "white",
            "ticks": ""
           },
           "baxis": {
            "gridcolor": "white",
            "linecolor": "white",
            "ticks": ""
           },
           "bgcolor": "#E5ECF6",
           "caxis": {
            "gridcolor": "white",
            "linecolor": "white",
            "ticks": ""
           }
          },
          "title": {
           "x": 0.05
          },
          "xaxis": {
           "automargin": true,
           "gridcolor": "white",
           "linecolor": "white",
           "ticks": "",
           "title": {
            "standoff": 15
           },
           "zerolinecolor": "white",
           "zerolinewidth": 2
          },
          "yaxis": {
           "automargin": true,
           "gridcolor": "white",
           "linecolor": "white",
           "ticks": "",
           "title": {
            "standoff": 15
           },
           "zerolinecolor": "white",
           "zerolinewidth": 2
          }
         }
        }
       }
      },
      "text/html": [
       "<div>\n",
       "        \n",
       "        \n",
       "            <div id=\"122cb51c-9157-4a57-9aad-644c95f17f8f\" class=\"plotly-graph-div\" style=\"height:525px; width:100%;\"></div>\n",
       "            <script type=\"text/javascript\">\n",
       "                require([\"plotly\"], function(Plotly) {\n",
       "                    window.PLOTLYENV=window.PLOTLYENV || {};\n",
       "                    \n",
       "                if (document.getElementById(\"122cb51c-9157-4a57-9aad-644c95f17f8f\")) {\n",
       "                    Plotly.newPlot(\n",
       "                        '122cb51c-9157-4a57-9aad-644c95f17f8f',\n",
       "                        [{\"domain\": {\"x\": [0.0, 0.45], \"y\": [0.0, 1.0]}, \"labels\": [\"0-9\", \"10-19\", \"20-29\", \"30-39\", \"40-49\", \"50-59\", \"60-69\", \"70-79\", \"80-89\", \">90\", \"Uknown\"], \"name\": \"Male: Confirmed cases\", \"type\": \"pie\", \"values\": [381, 475, 1919, 3505, 6480, 11149, 11761, 12281, 8553, 1374, 84]}, {\"domain\": {\"x\": [0.55, 1.0], \"y\": [0.0, 1.0]}, \"labels\": [\"0-9\", \"10-19\", \"20-29\", \"30-39\", \"40-49\", \"50-59\", \"60-69\", \"70-79\", \"80-89\", \">90\", \"Uknown\"], \"name\": \"Female: Confirmed cases\", \"type\": \"pie\", \"values\": [307, 454, 2531, 3885, 7130, 9706, 6254, 6868, 7644, 2973, 81]}],\n",
       "                        {\"annotations\": [{\"font\": {\"size\": 16}, \"showarrow\": false, \"text\": \"% of confirmed and death cases based on gender\", \"x\": 0.5, \"xanchor\": \"center\", \"xref\": \"paper\", \"y\": 0, \"yanchor\": \"top\", \"yref\": \"paper\", \"yshift\": -30}], \"template\": {\"data\": {\"bar\": [{\"error_x\": {\"color\": \"#2a3f5f\"}, \"error_y\": {\"color\": \"#2a3f5f\"}, \"marker\": {\"line\": {\"color\": \"#E5ECF6\", \"width\": 0.5}}, \"type\": \"bar\"}], \"barpolar\": [{\"marker\": {\"line\": {\"color\": \"#E5ECF6\", \"width\": 0.5}}, \"type\": \"barpolar\"}], \"carpet\": [{\"aaxis\": {\"endlinecolor\": \"#2a3f5f\", \"gridcolor\": \"white\", \"linecolor\": \"white\", \"minorgridcolor\": \"white\", \"startlinecolor\": \"#2a3f5f\"}, \"baxis\": {\"endlinecolor\": \"#2a3f5f\", \"gridcolor\": \"white\", \"linecolor\": \"white\", \"minorgridcolor\": \"white\", \"startlinecolor\": \"#2a3f5f\"}, \"type\": \"carpet\"}], \"choropleth\": [{\"colorbar\": {\"outlinewidth\": 0, \"ticks\": \"\"}, \"type\": \"choropleth\"}], \"contour\": [{\"colorbar\": {\"outlinewidth\": 0, \"ticks\": \"\"}, \"colorscale\": [[0.0, \"#0d0887\"], [0.1111111111111111, \"#46039f\"], [0.2222222222222222, \"#7201a8\"], [0.3333333333333333, \"#9c179e\"], [0.4444444444444444, \"#bd3786\"], [0.5555555555555556, \"#d8576b\"], [0.6666666666666666, \"#ed7953\"], [0.7777777777777778, \"#fb9f3a\"], [0.8888888888888888, \"#fdca26\"], [1.0, \"#f0f921\"]], \"type\": \"contour\"}], \"contourcarpet\": [{\"colorbar\": {\"outlinewidth\": 0, \"ticks\": \"\"}, \"type\": \"contourcarpet\"}], \"heatmap\": [{\"colorbar\": {\"outlinewidth\": 0, \"ticks\": \"\"}, \"colorscale\": [[0.0, \"#0d0887\"], [0.1111111111111111, \"#46039f\"], [0.2222222222222222, \"#7201a8\"], [0.3333333333333333, \"#9c179e\"], [0.4444444444444444, \"#bd3786\"], [0.5555555555555556, \"#d8576b\"], [0.6666666666666666, \"#ed7953\"], [0.7777777777777778, \"#fb9f3a\"], [0.8888888888888888, \"#fdca26\"], [1.0, \"#f0f921\"]], \"type\": \"heatmap\"}], \"heatmapgl\": [{\"colorbar\": {\"outlinewidth\": 0, \"ticks\": \"\"}, \"colorscale\": [[0.0, \"#0d0887\"], [0.1111111111111111, \"#46039f\"], [0.2222222222222222, \"#7201a8\"], [0.3333333333333333, \"#9c179e\"], [0.4444444444444444, \"#bd3786\"], [0.5555555555555556, \"#d8576b\"], [0.6666666666666666, \"#ed7953\"], [0.7777777777777778, \"#fb9f3a\"], [0.8888888888888888, \"#fdca26\"], [1.0, \"#f0f921\"]], \"type\": \"heatmapgl\"}], \"histogram\": [{\"marker\": {\"colorbar\": {\"outlinewidth\": 0, \"ticks\": \"\"}}, \"type\": \"histogram\"}], \"histogram2d\": [{\"colorbar\": {\"outlinewidth\": 0, \"ticks\": \"\"}, \"colorscale\": [[0.0, \"#0d0887\"], [0.1111111111111111, \"#46039f\"], [0.2222222222222222, \"#7201a8\"], [0.3333333333333333, \"#9c179e\"], [0.4444444444444444, \"#bd3786\"], [0.5555555555555556, \"#d8576b\"], [0.6666666666666666, \"#ed7953\"], [0.7777777777777778, \"#fb9f3a\"], [0.8888888888888888, \"#fdca26\"], [1.0, \"#f0f921\"]], \"type\": \"histogram2d\"}], \"histogram2dcontour\": [{\"colorbar\": {\"outlinewidth\": 0, \"ticks\": \"\"}, \"colorscale\": [[0.0, \"#0d0887\"], [0.1111111111111111, \"#46039f\"], [0.2222222222222222, \"#7201a8\"], [0.3333333333333333, \"#9c179e\"], [0.4444444444444444, \"#bd3786\"], [0.5555555555555556, \"#d8576b\"], [0.6666666666666666, \"#ed7953\"], [0.7777777777777778, \"#fb9f3a\"], [0.8888888888888888, \"#fdca26\"], [1.0, \"#f0f921\"]], \"type\": \"histogram2dcontour\"}], \"mesh3d\": [{\"colorbar\": {\"outlinewidth\": 0, \"ticks\": \"\"}, \"type\": \"mesh3d\"}], \"parcoords\": [{\"line\": {\"colorbar\": {\"outlinewidth\": 0, \"ticks\": \"\"}}, \"type\": \"parcoords\"}], \"pie\": [{\"automargin\": true, \"type\": \"pie\"}], \"scatter\": [{\"marker\": {\"colorbar\": {\"outlinewidth\": 0, \"ticks\": \"\"}}, \"type\": \"scatter\"}], \"scatter3d\": [{\"line\": {\"colorbar\": {\"outlinewidth\": 0, \"ticks\": \"\"}}, \"marker\": {\"colorbar\": {\"outlinewidth\": 0, \"ticks\": \"\"}}, \"type\": \"scatter3d\"}], \"scattercarpet\": [{\"marker\": {\"colorbar\": {\"outlinewidth\": 0, \"ticks\": \"\"}}, \"type\": \"scattercarpet\"}], \"scattergeo\": [{\"marker\": {\"colorbar\": {\"outlinewidth\": 0, \"ticks\": \"\"}}, \"type\": \"scattergeo\"}], \"scattergl\": [{\"marker\": {\"colorbar\": {\"outlinewidth\": 0, \"ticks\": \"\"}}, \"type\": \"scattergl\"}], \"scattermapbox\": [{\"marker\": {\"colorbar\": {\"outlinewidth\": 0, \"ticks\": \"\"}}, \"type\": \"scattermapbox\"}], \"scatterpolar\": [{\"marker\": {\"colorbar\": {\"outlinewidth\": 0, \"ticks\": \"\"}}, \"type\": \"scatterpolar\"}], \"scatterpolargl\": [{\"marker\": {\"colorbar\": {\"outlinewidth\": 0, \"ticks\": \"\"}}, \"type\": \"scatterpolargl\"}], \"scatterternary\": [{\"marker\": {\"colorbar\": {\"outlinewidth\": 0, \"ticks\": \"\"}}, \"type\": \"scatterternary\"}], \"surface\": [{\"colorbar\": {\"outlinewidth\": 0, \"ticks\": \"\"}, \"colorscale\": [[0.0, \"#0d0887\"], [0.1111111111111111, \"#46039f\"], [0.2222222222222222, \"#7201a8\"], [0.3333333333333333, \"#9c179e\"], [0.4444444444444444, \"#bd3786\"], [0.5555555555555556, \"#d8576b\"], [0.6666666666666666, \"#ed7953\"], [0.7777777777777778, \"#fb9f3a\"], [0.8888888888888888, \"#fdca26\"], [1.0, \"#f0f921\"]], \"type\": \"surface\"}], \"table\": [{\"cells\": {\"fill\": {\"color\": \"#EBF0F8\"}, \"line\": {\"color\": \"white\"}}, \"header\": {\"fill\": {\"color\": \"#C8D4E3\"}, \"line\": {\"color\": \"white\"}}, \"type\": \"table\"}]}, \"layout\": {\"annotationdefaults\": {\"arrowcolor\": \"#2a3f5f\", \"arrowhead\": 0, \"arrowwidth\": 1}, \"coloraxis\": {\"colorbar\": {\"outlinewidth\": 0, \"ticks\": \"\"}}, \"colorscale\": {\"diverging\": [[0, \"#8e0152\"], [0.1, \"#c51b7d\"], [0.2, \"#de77ae\"], [0.3, \"#f1b6da\"], [0.4, \"#fde0ef\"], [0.5, \"#f7f7f7\"], [0.6, \"#e6f5d0\"], [0.7, \"#b8e186\"], [0.8, \"#7fbc41\"], [0.9, \"#4d9221\"], [1, \"#276419\"]], \"sequential\": [[0.0, \"#0d0887\"], [0.1111111111111111, \"#46039f\"], [0.2222222222222222, \"#7201a8\"], [0.3333333333333333, \"#9c179e\"], [0.4444444444444444, \"#bd3786\"], [0.5555555555555556, \"#d8576b\"], [0.6666666666666666, \"#ed7953\"], [0.7777777777777778, \"#fb9f3a\"], [0.8888888888888888, \"#fdca26\"], [1.0, \"#f0f921\"]], \"sequentialminus\": [[0.0, \"#0d0887\"], [0.1111111111111111, \"#46039f\"], [0.2222222222222222, \"#7201a8\"], [0.3333333333333333, \"#9c179e\"], [0.4444444444444444, \"#bd3786\"], [0.5555555555555556, \"#d8576b\"], [0.6666666666666666, \"#ed7953\"], [0.7777777777777778, \"#fb9f3a\"], [0.8888888888888888, \"#fdca26\"], [1.0, \"#f0f921\"]]}, \"colorway\": [\"#636efa\", \"#EF553B\", \"#00cc96\", \"#ab63fa\", \"#FFA15A\", \"#19d3f3\", \"#FF6692\", \"#B6E880\", \"#FF97FF\", \"#FECB52\"], \"font\": {\"color\": \"#2a3f5f\"}, \"geo\": {\"bgcolor\": \"white\", \"lakecolor\": \"white\", \"landcolor\": \"#E5ECF6\", \"showlakes\": true, \"showland\": true, \"subunitcolor\": \"white\"}, \"hoverlabel\": {\"align\": \"left\"}, \"hovermode\": \"closest\", \"mapbox\": {\"style\": \"light\"}, \"paper_bgcolor\": \"white\", \"plot_bgcolor\": \"#E5ECF6\", \"polar\": {\"angularaxis\": {\"gridcolor\": \"white\", \"linecolor\": \"white\", \"ticks\": \"\"}, \"bgcolor\": \"#E5ECF6\", \"radialaxis\": {\"gridcolor\": \"white\", \"linecolor\": \"white\", \"ticks\": \"\"}}, \"scene\": {\"xaxis\": {\"backgroundcolor\": \"#E5ECF6\", \"gridcolor\": \"white\", \"gridwidth\": 2, \"linecolor\": \"white\", \"showbackground\": true, \"ticks\": \"\", \"zerolinecolor\": \"white\"}, \"yaxis\": {\"backgroundcolor\": \"#E5ECF6\", \"gridcolor\": \"white\", \"gridwidth\": 2, \"linecolor\": \"white\", \"showbackground\": true, \"ticks\": \"\", \"zerolinecolor\": \"white\"}, \"zaxis\": {\"backgroundcolor\": \"#E5ECF6\", \"gridcolor\": \"white\", \"gridwidth\": 2, \"linecolor\": \"white\", \"showbackground\": true, \"ticks\": \"\", \"zerolinecolor\": \"white\"}}, \"shapedefaults\": {\"line\": {\"color\": \"#2a3f5f\"}}, \"ternary\": {\"aaxis\": {\"gridcolor\": \"white\", \"linecolor\": \"white\", \"ticks\": \"\"}, \"baxis\": {\"gridcolor\": \"white\", \"linecolor\": \"white\", \"ticks\": \"\"}, \"bgcolor\": \"#E5ECF6\", \"caxis\": {\"gridcolor\": \"white\", \"linecolor\": \"white\", \"ticks\": \"\"}}, \"title\": {\"x\": 0.05}, \"xaxis\": {\"automargin\": true, \"gridcolor\": \"white\", \"linecolor\": \"white\", \"ticks\": \"\", \"title\": {\"standoff\": 15}, \"zerolinecolor\": \"white\", \"zerolinewidth\": 2}, \"yaxis\": {\"automargin\": true, \"gridcolor\": \"white\", \"linecolor\": \"white\", \"ticks\": \"\", \"title\": {\"standoff\": 15}, \"zerolinecolor\": \"white\", \"zerolinewidth\": 2}}}},\n",
       "                        {\"responsive\": true}\n",
       "                    ).then(function(){\n",
       "                            \n",
       "var gd = document.getElementById('122cb51c-9157-4a57-9aad-644c95f17f8f');\n",
       "var x = new MutationObserver(function (mutations, observer) {{\n",
       "        var display = window.getComputedStyle(gd).display;\n",
       "        if (!display || display === 'none') {{\n",
       "            console.log([gd, 'removed!']);\n",
       "            Plotly.purge(gd);\n",
       "            observer.disconnect();\n",
       "        }}\n",
       "}});\n",
       "\n",
       "// Listen for the removal of the full notebook cells\n",
       "var notebookContainer = gd.closest('#notebook-container');\n",
       "if (notebookContainer) {{\n",
       "    x.observe(notebookContainer, {childList: true});\n",
       "}}\n",
       "\n",
       "// Listen for the clearing of the current output cell\n",
       "var outputEl = gd.closest('.output');\n",
       "if (outputEl) {{\n",
       "    x.observe(outputEl, {childList: true});\n",
       "}}\n",
       "\n",
       "                        })\n",
       "                };\n",
       "                });\n",
       "            </script>\n",
       "        </div>"
      ]
     },
     "metadata": {},
     "output_type": "display_data"
    }
   ],
   "source": [
    "#Piecharts comparing Confirmed and Death cases\n",
    "\n",
    "fig = make_subplots(rows=1, cols=2, specs=[[{\"type\": \"pie\"}, {\"type\": \"pie\"}]],\n",
    "                   x_title='% of confirmed and death cases based on gender')\n",
    "\n",
    "\n",
    "fig.add_trace(go.Pie(\n",
    "     values=cases['male_cases'],\n",
    "     labels=cases['age_classes'],\n",
    "     domain=dict(x=[0,0.5]),\n",
    "     name='Male: Confirmed cases'), \n",
    "     row=1, col=1)\n",
    "\n",
    "fig.add_trace(go.Pie(\n",
    "     values=cases['female_cases'],\n",
    "     labels=cases['age_classes'],\n",
    "     domain=dict(x=[0.5,1.0]),\n",
    "     name='Female: Confirmed cases'), \n",
    "    row=1, col=2)\n",
    "\n",
    "fig.show()"
   ]
  },
  {
   "cell_type": "markdown",
   "metadata": {},
   "source": []
  },
  {
   "cell_type": "markdown",
   "metadata": {},
   "source": [
    "**Second Dataset**\n",
    "\n",
    "Pre-existing chronic patologies observed in patients deceased by COVID19 . Last 4 rows are records of patients deceased and detection on how comorbidities they have. "
   ]
  },
  {
   "cell_type": "code",
   "execution_count": 319,
   "metadata": {
    "scrolled": false
   },
   "outputs": [
    {
     "data": {
      "text/html": [
       "<div>\n",
       "<style scoped>\n",
       "    .dataframe tbody tr th:only-of-type {\n",
       "        vertical-align: middle;\n",
       "    }\n",
       "\n",
       "    .dataframe tbody tr th {\n",
       "        vertical-align: top;\n",
       "    }\n",
       "\n",
       "    .dataframe thead th {\n",
       "        text-align: right;\n",
       "    }\n",
       "</style>\n",
       "<table border=\"1\" class=\"dataframe\">\n",
       "  <thead>\n",
       "    <tr style=\"text-align: right;\">\n",
       "      <th></th>\n",
       "      <th>Unnamed: 0</th>\n",
       "      <th>Disease</th>\n",
       "      <th>Men</th>\n",
       "      <th>Women</th>\n",
       "      <th>Total</th>\n",
       "    </tr>\n",
       "  </thead>\n",
       "  <tbody>\n",
       "    <tr>\n",
       "      <th>0</th>\n",
       "      <td>0</td>\n",
       "      <td>Ischemic heart disease</td>\n",
       "      <td>64</td>\n",
       "      <td>238</td>\n",
       "      <td>302</td>\n",
       "    </tr>\n",
       "    <tr>\n",
       "      <th>1</th>\n",
       "      <td>1</td>\n",
       "      <td>Atrial Fibrillation</td>\n",
       "      <td>84</td>\n",
       "      <td>165</td>\n",
       "      <td>249</td>\n",
       "    </tr>\n",
       "    <tr>\n",
       "      <th>2</th>\n",
       "      <td>2</td>\n",
       "      <td>Heart Failure</td>\n",
       "      <td>78</td>\n",
       "      <td>108</td>\n",
       "      <td>186</td>\n",
       "    </tr>\n",
       "    <tr>\n",
       "      <th>3</th>\n",
       "      <td>3</td>\n",
       "      <td>Stroke</td>\n",
       "      <td>37</td>\n",
       "      <td>90</td>\n",
       "      <td>127</td>\n",
       "    </tr>\n",
       "    <tr>\n",
       "      <th>4</th>\n",
       "      <td>4</td>\n",
       "      <td>Hypertension</td>\n",
       "      <td>251</td>\n",
       "      <td>543</td>\n",
       "      <td>794</td>\n",
       "    </tr>\n",
       "    <tr>\n",
       "      <th>5</th>\n",
       "      <td>5</td>\n",
       "      <td>Type 2-Diabetes</td>\n",
       "      <td>102</td>\n",
       "      <td>245</td>\n",
       "      <td>347</td>\n",
       "    </tr>\n",
       "    <tr>\n",
       "      <th>6</th>\n",
       "      <td>6</td>\n",
       "      <td>Dementia</td>\n",
       "      <td>66</td>\n",
       "      <td>107</td>\n",
       "      <td>173</td>\n",
       "    </tr>\n",
       "    <tr>\n",
       "      <th>7</th>\n",
       "      <td>7</td>\n",
       "      <td>COPD</td>\n",
       "      <td>44</td>\n",
       "      <td>158</td>\n",
       "      <td>202</td>\n",
       "    </tr>\n",
       "    <tr>\n",
       "      <th>8</th>\n",
       "      <td>8</td>\n",
       "      <td>Active cancer in the past 5 years</td>\n",
       "      <td>54</td>\n",
       "      <td>134</td>\n",
       "      <td>188</td>\n",
       "    </tr>\n",
       "    <tr>\n",
       "      <th>9</th>\n",
       "      <td>9</td>\n",
       "      <td>Chronic liver disease</td>\n",
       "      <td>10</td>\n",
       "      <td>35</td>\n",
       "      <td>45</td>\n",
       "    </tr>\n",
       "    <tr>\n",
       "      <th>10</th>\n",
       "      <td>10</td>\n",
       "      <td>Chronic renal failure</td>\n",
       "      <td>66</td>\n",
       "      <td>193</td>\n",
       "      <td>259</td>\n",
       "    </tr>\n",
       "    <tr>\n",
       "      <th>11</th>\n",
       "      <td>11</td>\n",
       "      <td>0 comorbidities</td>\n",
       "      <td>4</td>\n",
       "      <td>27</td>\n",
       "      <td>31</td>\n",
       "    </tr>\n",
       "    <tr>\n",
       "      <th>12</th>\n",
       "      <td>12</td>\n",
       "      <td>1 comorbidity</td>\n",
       "      <td>86</td>\n",
       "      <td>157</td>\n",
       "      <td>243</td>\n",
       "    </tr>\n",
       "    <tr>\n",
       "      <th>13</th>\n",
       "      <td>13</td>\n",
       "      <td>2 comorbidities</td>\n",
       "      <td>79</td>\n",
       "      <td>184</td>\n",
       "      <td>263</td>\n",
       "    </tr>\n",
       "    <tr>\n",
       "      <th>14</th>\n",
       "      <td>14</td>\n",
       "      <td>3 comorbidities and over</td>\n",
       "      <td>164</td>\n",
       "      <td>401</td>\n",
       "      <td>565</td>\n",
       "    </tr>\n",
       "  </tbody>\n",
       "</table>\n",
       "</div>"
      ],
      "text/plain": [
       "    Unnamed: 0                            Disease  Men  Women  Total\n",
       "0            0             Ischemic heart disease   64    238    302\n",
       "1            1                Atrial Fibrillation   84    165    249\n",
       "2            2                      Heart Failure   78    108    186\n",
       "3            3                             Stroke   37     90    127\n",
       "4            4                       Hypertension  251    543    794\n",
       "5            5                    Type 2-Diabetes  102    245    347\n",
       "6            6                           Dementia   66    107    173\n",
       "7            7                               COPD   44    158    202\n",
       "8            8  Active cancer in the past 5 years   54    134    188\n",
       "9            9              Chronic liver disease   10     35     45\n",
       "10          10              Chronic renal failure   66    193    259\n",
       "11          11                    0 comorbidities    4     27     31\n",
       "12          12                      1 comorbidity   86    157    243\n",
       "13          13                    2 comorbidities   79    184    263\n",
       "14          14           3 comorbidities and over  164    401    565"
      ]
     },
     "execution_count": 319,
     "metadata": {},
     "output_type": "execute_result"
    }
   ],
   "source": [
    "#import Datasets\n",
    "covid_disease = pd.read_csv('Data/covid-disease.csv')\n",
    "covid_disease"
   ]
  },
  {
   "cell_type": "code",
   "execution_count": 208,
   "metadata": {},
   "outputs": [],
   "source": [
    "#Drop row\n",
    "covid_disease.drop(covid_disease.iloc[11:15,:].index,axis = 0,inplace = True)\n"
   ]
  },
  {
   "cell_type": "code",
   "execution_count": 214,
   "metadata": {
    "scrolled": true
   },
   "outputs": [
    {
     "data": {
      "image/png": "[encoded data removed]",
      "text/plain": [
       "<Figure size 1440x576 with 1 Axes>"
      ]
     },
     "metadata": {
      "needs_background": "light"
     },
     "output_type": "display_data"
    }
   ],
   "source": [
    "# Common underlying health condition amongst COVID-19 cases\n",
    "fig, ax = plt.subplots(figsize=(20,8))\n",
    "plt.title(\"Common health conditions among COVID-19 Patients \")\n",
    "sns.barplot(ax = ax,\n",
    "            data = covid_disease,\n",
    "            x = 'Disease',\n",
    "            y = 'Total')\n",
    "plt.show()"
   ]
  },
  {
   "cell_type": "markdown",
   "metadata": {},
   "source": [
    "Majority of those with the virus are patients with Hypertension"
   ]
  },
  {
   "cell_type": "code",
   "execution_count": 320,
   "metadata": {},
   "outputs": [],
   "source": [
    "#Convert two columns of dataframe to dict\n",
    "d_ = {Diseases: Frequency for Diseases, Frequency  in zip(covid_disease['Disease'].values, covid_disease['Total'].values)}"
   ]
  },
  {
   "cell_type": "code",
   "execution_count": 326,
   "metadata": {
    "scrolled": true
   },
   "outputs": [
    {
     "data": {
      "text/plain": [
       "<Figure size 720x720 with 0 Axes>"
      ]
     },
     "metadata": {},
     "output_type": "display_data"
    },
    {
     "data": {
      "image/png": "[encoded data removed]",
      "text/plain": [
       "<Figure size 720x720 with 1 Axes>"
      ]
     },
     "metadata": {
      "needs_background": "light"
     },
     "output_type": "display_data"
    }
   ],
   "source": [
    "'''A word cloud of common underlying health conditions based on the frequencies of total column'''\n",
    "\n",
    "#dataframe with disease and total column\n",
    "word = covid_disease.drop(columns=['Men','Women','Unnamed: 0'],axis = 1)\n",
    "for a, x in word.values:\n",
    "    d[a] = x\n",
    "\n",
    "wordcloud = WordCloud()\n",
    "wordcloud.generate_from_frequencies(frequencies=d)\n",
    "plt.figure(figsize=(10,10))\n",
    "plt.figure(figsize=(10,10))\n",
    "plt.imshow(wordcloud, interpolation=\"bilinear\")\n",
    "plt.axis(\"off\")\n",
    "\n",
    "plt.show()"
   ]
  },
  {
   "cell_type": "markdown",
   "metadata": {},
   "source": [
    "### Third dataset\n",
    "\n",
    "Timeline of total cases for every province with Latitude and longitude. We perform some data cleaning and manipulation to create a timeline visualization published on Flourish, and some interesting Tableau dashboard."
   ]
  },
  {
   "cell_type": "code",
   "execution_count": 140,
   "metadata": {
    "scrolled": false
   },
   "outputs": [
    {
     "data": {
      "text/html": [
       "<div>\n",
       "<style scoped>\n",
       "    .dataframe tbody tr th:only-of-type {\n",
       "        vertical-align: middle;\n",
       "    }\n",
       "\n",
       "    .dataframe tbody tr th {\n",
       "        vertical-align: top;\n",
       "    }\n",
       "\n",
       "    .dataframe thead th {\n",
       "        text-align: right;\n",
       "    }\n",
       "</style>\n",
       "<table border=\"1\" class=\"dataframe\">\n",
       "  <thead>\n",
       "    <tr style=\"text-align: right;\">\n",
       "      <th></th>\n",
       "      <th>Unnamed: 0</th>\n",
       "      <th>state</th>\n",
       "      <th>region_code</th>\n",
       "      <th>region</th>\n",
       "      <th>lat</th>\n",
       "      <th>long</th>\n",
       "      <th>hospitalized_with_symptoms</th>\n",
       "      <th>intensive_care</th>\n",
       "      <th>total_hospitalized</th>\n",
       "      <th>home_quarantine</th>\n",
       "      <th>total_confirmed_cases</th>\n",
       "      <th>variation_total_confirmed</th>\n",
       "      <th>new_confirmed_cases</th>\n",
       "      <th>recovered</th>\n",
       "      <th>deaths</th>\n",
       "      <th>total_cases</th>\n",
       "      <th>swabs_made</th>\n",
       "      <th>casi_testati</th>\n",
       "      <th>note_it</th>\n",
       "      <th>note_en</th>\n",
       "    </tr>\n",
       "    <tr>\n",
       "      <th>date</th>\n",
       "      <th></th>\n",
       "      <th></th>\n",
       "      <th></th>\n",
       "      <th></th>\n",
       "      <th></th>\n",
       "      <th></th>\n",
       "      <th></th>\n",
       "      <th></th>\n",
       "      <th></th>\n",
       "      <th></th>\n",
       "      <th></th>\n",
       "      <th></th>\n",
       "      <th></th>\n",
       "      <th></th>\n",
       "      <th></th>\n",
       "      <th></th>\n",
       "      <th></th>\n",
       "      <th></th>\n",
       "      <th></th>\n",
       "      <th></th>\n",
       "    </tr>\n",
       "  </thead>\n",
       "  <tbody>\n",
       "    <tr>\n",
       "      <th>2020-02-24T18:00:00</th>\n",
       "      <td>0</td>\n",
       "      <td>ITA</td>\n",
       "      <td>13</td>\n",
       "      <td>Abruzzo</td>\n",
       "      <td>42.351222</td>\n",
       "      <td>13.398438</td>\n",
       "      <td>0</td>\n",
       "      <td>0</td>\n",
       "      <td>0</td>\n",
       "      <td>0</td>\n",
       "      <td>0</td>\n",
       "      <td>0</td>\n",
       "      <td>0</td>\n",
       "      <td>0</td>\n",
       "      <td>0</td>\n",
       "      <td>0</td>\n",
       "      <td>5</td>\n",
       "      <td>NaN</td>\n",
       "      <td>NaN</td>\n",
       "      <td>NaN</td>\n",
       "    </tr>\n",
       "    <tr>\n",
       "      <th>2020-02-24T18:00:00</th>\n",
       "      <td>1</td>\n",
       "      <td>ITA</td>\n",
       "      <td>17</td>\n",
       "      <td>Basilicata</td>\n",
       "      <td>40.639471</td>\n",
       "      <td>15.805148</td>\n",
       "      <td>0</td>\n",
       "      <td>0</td>\n",
       "      <td>0</td>\n",
       "      <td>0</td>\n",
       "      <td>0</td>\n",
       "      <td>0</td>\n",
       "      <td>0</td>\n",
       "      <td>0</td>\n",
       "      <td>0</td>\n",
       "      <td>0</td>\n",
       "      <td>0</td>\n",
       "      <td>NaN</td>\n",
       "      <td>NaN</td>\n",
       "      <td>NaN</td>\n",
       "    </tr>\n",
       "    <tr>\n",
       "      <th>2020-02-24T18:00:00</th>\n",
       "      <td>2</td>\n",
       "      <td>ITA</td>\n",
       "      <td>4</td>\n",
       "      <td>P.A. Bolzano</td>\n",
       "      <td>46.499335</td>\n",
       "      <td>11.356624</td>\n",
       "      <td>0</td>\n",
       "      <td>0</td>\n",
       "      <td>0</td>\n",
       "      <td>0</td>\n",
       "      <td>0</td>\n",
       "      <td>0</td>\n",
       "      <td>0</td>\n",
       "      <td>0</td>\n",
       "      <td>0</td>\n",
       "      <td>0</td>\n",
       "      <td>1</td>\n",
       "      <td>NaN</td>\n",
       "      <td>NaN</td>\n",
       "      <td>NaN</td>\n",
       "    </tr>\n",
       "    <tr>\n",
       "      <th>2020-02-24T18:00:00</th>\n",
       "      <td>3</td>\n",
       "      <td>ITA</td>\n",
       "      <td>18</td>\n",
       "      <td>Calabria</td>\n",
       "      <td>38.905976</td>\n",
       "      <td>16.594402</td>\n",
       "      <td>0</td>\n",
       "      <td>0</td>\n",
       "      <td>0</td>\n",
       "      <td>0</td>\n",
       "      <td>0</td>\n",
       "      <td>0</td>\n",
       "      <td>0</td>\n",
       "      <td>0</td>\n",
       "      <td>0</td>\n",
       "      <td>0</td>\n",
       "      <td>1</td>\n",
       "      <td>NaN</td>\n",
       "      <td>NaN</td>\n",
       "      <td>NaN</td>\n",
       "    </tr>\n",
       "    <tr>\n",
       "      <th>2020-02-24T18:00:00</th>\n",
       "      <td>4</td>\n",
       "      <td>ITA</td>\n",
       "      <td>15</td>\n",
       "      <td>Campania</td>\n",
       "      <td>40.839566</td>\n",
       "      <td>14.250850</td>\n",
       "      <td>0</td>\n",
       "      <td>0</td>\n",
       "      <td>0</td>\n",
       "      <td>0</td>\n",
       "      <td>0</td>\n",
       "      <td>0</td>\n",
       "      <td>0</td>\n",
       "      <td>0</td>\n",
       "      <td>0</td>\n",
       "      <td>0</td>\n",
       "      <td>10</td>\n",
       "      <td>NaN</td>\n",
       "      <td>NaN</td>\n",
       "      <td>NaN</td>\n",
       "    </tr>\n",
       "  </tbody>\n",
       "</table>\n",
       "</div>"
      ],
      "text/plain": [
       "                     Unnamed: 0 state  region_code        region        lat  \\\n",
       "date                                                                          \n",
       "2020-02-24T18:00:00           0   ITA           13       Abruzzo  42.351222   \n",
       "2020-02-24T18:00:00           1   ITA           17    Basilicata  40.639471   \n",
       "2020-02-24T18:00:00           2   ITA            4  P.A. Bolzano  46.499335   \n",
       "2020-02-24T18:00:00           3   ITA           18      Calabria  38.905976   \n",
       "2020-02-24T18:00:00           4   ITA           15      Campania  40.839566   \n",
       "\n",
       "                          long  hospitalized_with_symptoms  intensive_care  \\\n",
       "date                                                                         \n",
       "2020-02-24T18:00:00  13.398438                           0               0   \n",
       "2020-02-24T18:00:00  15.805148                           0               0   \n",
       "2020-02-24T18:00:00  11.356624                           0               0   \n",
       "2020-02-24T18:00:00  16.594402                           0               0   \n",
       "2020-02-24T18:00:00  14.250850                           0               0   \n",
       "\n",
       "                     total_hospitalized  home_quarantine  \\\n",
       "date                                                       \n",
       "2020-02-24T18:00:00                   0                0   \n",
       "2020-02-24T18:00:00                   0                0   \n",
       "2020-02-24T18:00:00                   0                0   \n",
       "2020-02-24T18:00:00                   0                0   \n",
       "2020-02-24T18:00:00                   0                0   \n",
       "\n",
       "                     total_confirmed_cases  variation_total_confirmed  \\\n",
       "date                                                                    \n",
       "2020-02-24T18:00:00                      0                          0   \n",
       "2020-02-24T18:00:00                      0                          0   \n",
       "2020-02-24T18:00:00                      0                          0   \n",
       "2020-02-24T18:00:00                      0                          0   \n",
       "2020-02-24T18:00:00                      0                          0   \n",
       "\n",
       "                     new_confirmed_cases  recovered  deaths  total_cases  \\\n",
       "date                                                                       \n",
       "2020-02-24T18:00:00                    0          0       0            0   \n",
       "2020-02-24T18:00:00                    0          0       0            0   \n",
       "2020-02-24T18:00:00                    0          0       0            0   \n",
       "2020-02-24T18:00:00                    0          0       0            0   \n",
       "2020-02-24T18:00:00                    0          0       0            0   \n",
       "\n",
       "                     swabs_made  casi_testati note_it note_en  \n",
       "date                                                           \n",
       "2020-02-24T18:00:00           5           NaN     NaN     NaN  \n",
       "2020-02-24T18:00:00           0           NaN     NaN     NaN  \n",
       "2020-02-24T18:00:00           1           NaN     NaN     NaN  \n",
       "2020-02-24T18:00:00           1           NaN     NaN     NaN  \n",
       "2020-02-24T18:00:00          10           NaN     NaN     NaN  "
      ]
     },
     "execution_count": 140,
     "metadata": {},
     "output_type": "execute_result"
    }
   ],
   "source": [
    "#Import Dataset\n",
    "df = pd.read_csv('Data/covid19-ita-regions.csv',index_col = 'date')\n",
    "df_copy = df.copy()\n",
    "df.head()"
   ]
  },
  {
   "cell_type": "code",
   "execution_count": 85,
   "metadata": {},
   "outputs": [
    {
     "data": {
      "text/html": [
       "<div>\n",
       "<style scoped>\n",
       "    .dataframe tbody tr th:only-of-type {\n",
       "        vertical-align: middle;\n",
       "    }\n",
       "\n",
       "    .dataframe tbody tr th {\n",
       "        vertical-align: top;\n",
       "    }\n",
       "\n",
       "    .dataframe thead th {\n",
       "        text-align: right;\n",
       "    }\n",
       "</style>\n",
       "<table border=\"1\" class=\"dataframe\">\n",
       "  <thead>\n",
       "    <tr style=\"text-align: right;\">\n",
       "      <th></th>\n",
       "      <th>Unnamed: 0</th>\n",
       "      <th>region_code</th>\n",
       "      <th>lat</th>\n",
       "      <th>long</th>\n",
       "      <th>hospitalized_with_symptoms</th>\n",
       "      <th>intensive_care</th>\n",
       "      <th>total_hospitalized</th>\n",
       "      <th>home_quarantine</th>\n",
       "      <th>total_confirmed_cases</th>\n",
       "      <th>variation_total_confirmed</th>\n",
       "      <th>new_confirmed_cases</th>\n",
       "      <th>recovered</th>\n",
       "      <th>deaths</th>\n",
       "      <th>total_cases</th>\n",
       "      <th>swabs_made</th>\n",
       "      <th>casi_testati</th>\n",
       "    </tr>\n",
       "  </thead>\n",
       "  <tbody>\n",
       "    <tr>\n",
       "      <th>count</th>\n",
       "      <td>1470.000000</td>\n",
       "      <td>1470.000000</td>\n",
       "      <td>1470.000000</td>\n",
       "      <td>1470.000000</td>\n",
       "      <td>1470.000000</td>\n",
       "      <td>1470.000000</td>\n",
       "      <td>1470.000000</td>\n",
       "      <td>1470.000000</td>\n",
       "      <td>1470.000000</td>\n",
       "      <td>1470.000000</td>\n",
       "      <td>1470.000000</td>\n",
       "      <td>1470.000000</td>\n",
       "      <td>1470.000000</td>\n",
       "      <td>1470.000000</td>\n",
       "      <td>1470.000000</td>\n",
       "      <td>315.000000</td>\n",
       "    </tr>\n",
       "    <tr>\n",
       "      <th>mean</th>\n",
       "      <td>734.500000</td>\n",
       "      <td>10.190476</td>\n",
       "      <td>43.046293</td>\n",
       "      <td>12.225955</td>\n",
       "      <td>827.292517</td>\n",
       "      <td>105.958503</td>\n",
       "      <td>933.251020</td>\n",
       "      <td>1970.851701</td>\n",
       "      <td>2904.102721</td>\n",
       "      <td>67.998639</td>\n",
       "      <td>143.339456</td>\n",
       "      <td>1124.926531</td>\n",
       "      <td>575.961224</td>\n",
       "      <td>4604.990476</td>\n",
       "      <td>32729.538776</td>\n",
       "      <td>56916.666667</td>\n",
       "    </tr>\n",
       "    <tr>\n",
       "      <th>std</th>\n",
       "      <td>424.496761</td>\n",
       "      <td>5.797036</td>\n",
       "      <td>2.489628</td>\n",
       "      <td>2.659853</td>\n",
       "      <td>1907.428144</td>\n",
       "      <td>206.199386</td>\n",
       "      <td>2108.557619</td>\n",
       "      <td>3911.031974</td>\n",
       "      <td>5772.433128</td>\n",
       "      <td>201.094009</td>\n",
       "      <td>295.534229</td>\n",
       "      <td>3283.628042</td>\n",
       "      <td>1827.564207</td>\n",
       "      <td>10655.846297</td>\n",
       "      <td>59273.699507</td>\n",
       "      <td>56520.263853</td>\n",
       "    </tr>\n",
       "    <tr>\n",
       "      <th>min</th>\n",
       "      <td>0.000000</td>\n",
       "      <td>1.000000</td>\n",
       "      <td>38.115697</td>\n",
       "      <td>7.320149</td>\n",
       "      <td>0.000000</td>\n",
       "      <td>0.000000</td>\n",
       "      <td>0.000000</td>\n",
       "      <td>0.000000</td>\n",
       "      <td>0.000000</td>\n",
       "      <td>-2299.000000</td>\n",
       "      <td>-18.000000</td>\n",
       "      <td>0.000000</td>\n",
       "      <td>0.000000</td>\n",
       "      <td>0.000000</td>\n",
       "      <td>0.000000</td>\n",
       "      <td>3482.000000</td>\n",
       "    </tr>\n",
       "    <tr>\n",
       "      <th>25%</th>\n",
       "      <td>367.250000</td>\n",
       "      <td>5.000000</td>\n",
       "      <td>41.125596</td>\n",
       "      <td>11.121231</td>\n",
       "      <td>31.000000</td>\n",
       "      <td>6.000000</td>\n",
       "      <td>39.000000</td>\n",
       "      <td>72.250000</td>\n",
       "      <td>132.250000</td>\n",
       "      <td>0.000000</td>\n",
       "      <td>7.000000</td>\n",
       "      <td>2.000000</td>\n",
       "      <td>3.000000</td>\n",
       "      <td>150.250000</td>\n",
       "      <td>1229.750000</td>\n",
       "      <td>19803.500000</td>\n",
       "    </tr>\n",
       "    <tr>\n",
       "      <th>50%</th>\n",
       "      <td>734.500000</td>\n",
       "      <td>10.000000</td>\n",
       "      <td>43.616760</td>\n",
       "      <td>12.388247</td>\n",
       "      <td>164.000000</td>\n",
       "      <td>31.000000</td>\n",
       "      <td>194.500000</td>\n",
       "      <td>590.500000</td>\n",
       "      <td>820.000000</td>\n",
       "      <td>16.000000</td>\n",
       "      <td>44.000000</td>\n",
       "      <td>86.000000</td>\n",
       "      <td>68.500000</td>\n",
       "      <td>1128.000000</td>\n",
       "      <td>9535.500000</td>\n",
       "      <td>32961.000000</td>\n",
       "    </tr>\n",
       "    <tr>\n",
       "      <th>75%</th>\n",
       "      <td>1101.750000</td>\n",
       "      <td>15.000000</td>\n",
       "      <td>45.434905</td>\n",
       "      <td>13.768136</td>\n",
       "      <td>671.000000</td>\n",
       "      <td>112.000000</td>\n",
       "      <td>787.500000</td>\n",
       "      <td>1842.500000</td>\n",
       "      <td>2856.750000</td>\n",
       "      <td>78.000000</td>\n",
       "      <td>129.000000</td>\n",
       "      <td>711.750000</td>\n",
       "      <td>306.250000</td>\n",
       "      <td>3746.500000</td>\n",
       "      <td>35694.000000</td>\n",
       "      <td>85297.000000</td>\n",
       "    </tr>\n",
       "    <tr>\n",
       "      <th>max</th>\n",
       "      <td>1469.000000</td>\n",
       "      <td>20.000000</td>\n",
       "      <td>46.499335</td>\n",
       "      <td>16.867367</td>\n",
       "      <td>12077.000000</td>\n",
       "      <td>1381.000000</td>\n",
       "      <td>13328.000000</td>\n",
       "      <td>29785.000000</td>\n",
       "      <td>36926.000000</td>\n",
       "      <td>1950.000000</td>\n",
       "      <td>3251.000000</td>\n",
       "      <td>26371.000000</td>\n",
       "      <td>14231.000000</td>\n",
       "      <td>77528.000000</td>\n",
       "      <td>410857.000000</td>\n",
       "      <td>247176.000000</td>\n",
       "    </tr>\n",
       "  </tbody>\n",
       "</table>\n",
       "</div>"
      ],
      "text/plain": [
       "        Unnamed: 0  region_code          lat         long  \\\n",
       "count  1470.000000  1470.000000  1470.000000  1470.000000   \n",
       "mean    734.500000    10.190476    43.046293    12.225955   \n",
       "std     424.496761     5.797036     2.489628     2.659853   \n",
       "min       0.000000     1.000000    38.115697     7.320149   \n",
       "25%     367.250000     5.000000    41.125596    11.121231   \n",
       "50%     734.500000    10.000000    43.616760    12.388247   \n",
       "75%    1101.750000    15.000000    45.434905    13.768136   \n",
       "max    1469.000000    20.000000    46.499335    16.867367   \n",
       "\n",
       "       hospitalized_with_symptoms  intensive_care  total_hospitalized  \\\n",
       "count                 1470.000000     1470.000000         1470.000000   \n",
       "mean                   827.292517      105.958503          933.251020   \n",
       "std                   1907.428144      206.199386         2108.557619   \n",
       "min                      0.000000        0.000000            0.000000   \n",
       "25%                     31.000000        6.000000           39.000000   \n",
       "50%                    164.000000       31.000000          194.500000   \n",
       "75%                    671.000000      112.000000          787.500000   \n",
       "max                  12077.000000     1381.000000        13328.000000   \n",
       "\n",
       "       home_quarantine  total_confirmed_cases  variation_total_confirmed  \\\n",
       "count      1470.000000            1470.000000                1470.000000   \n",
       "mean       1970.851701            2904.102721                  67.998639   \n",
       "std        3911.031974            5772.433128                 201.094009   \n",
       "min           0.000000               0.000000               -2299.000000   \n",
       "25%          72.250000             132.250000                   0.000000   \n",
       "50%         590.500000             820.000000                  16.000000   \n",
       "75%        1842.500000            2856.750000                  78.000000   \n",
       "max       29785.000000           36926.000000                1950.000000   \n",
       "\n",
       "       new_confirmed_cases     recovered        deaths   total_cases  \\\n",
       "count          1470.000000   1470.000000   1470.000000   1470.000000   \n",
       "mean            143.339456   1124.926531    575.961224   4604.990476   \n",
       "std             295.534229   3283.628042   1827.564207  10655.846297   \n",
       "min             -18.000000      0.000000      0.000000      0.000000   \n",
       "25%               7.000000      2.000000      3.000000    150.250000   \n",
       "50%              44.000000     86.000000     68.500000   1128.000000   \n",
       "75%             129.000000    711.750000    306.250000   3746.500000   \n",
       "max            3251.000000  26371.000000  14231.000000  77528.000000   \n",
       "\n",
       "          swabs_made   casi_testati  \n",
       "count    1470.000000     315.000000  \n",
       "mean    32729.538776   56916.666667  \n",
       "std     59273.699507   56520.263853  \n",
       "min         0.000000    3482.000000  \n",
       "25%      1229.750000   19803.500000  \n",
       "50%      9535.500000   32961.000000  \n",
       "75%     35694.000000   85297.000000  \n",
       "max    410857.000000  247176.000000  "
      ]
     },
     "execution_count": 85,
     "metadata": {},
     "output_type": "execute_result"
    }
   ],
   "source": [
    "df.describe()"
   ]
  },
  {
   "cell_type": "code",
   "execution_count": 78,
   "metadata": {},
   "outputs": [
    {
     "data": {
      "text/plain": [
       "(1470, 21)"
      ]
     },
     "execution_count": 78,
     "metadata": {},
     "output_type": "execute_result"
    }
   ],
   "source": [
    "#Obtain the number of (rows,columns)\n",
    "df.shape"
   ]
  },
  {
   "cell_type": "code",
   "execution_count": 82,
   "metadata": {},
   "outputs": [],
   "source": [
    "#% of null values for each column\n",
    "df.isnull().sum()/df.shape[1]"
   ]
  },
  {
   "cell_type": "code",
   "execution_count": 89,
   "metadata": {},
   "outputs": [
    {
     "data": {
      "text/html": [
       "<div>\n",
       "<style scoped>\n",
       "    .dataframe tbody tr th:only-of-type {\n",
       "        vertical-align: middle;\n",
       "    }\n",
       "\n",
       "    .dataframe tbody tr th {\n",
       "        vertical-align: top;\n",
       "    }\n",
       "\n",
       "    .dataframe thead th {\n",
       "        text-align: right;\n",
       "    }\n",
       "</style>\n",
       "<table border=\"1\" class=\"dataframe\">\n",
       "  <thead>\n",
       "    <tr style=\"text-align: right;\">\n",
       "      <th></th>\n",
       "      <th>Unnamed: 0</th>\n",
       "      <th>date</th>\n",
       "      <th>state</th>\n",
       "      <th>region_code</th>\n",
       "      <th>region</th>\n",
       "      <th>lat</th>\n",
       "      <th>long</th>\n",
       "      <th>hospitalized_with_symptoms</th>\n",
       "      <th>intensive_care</th>\n",
       "      <th>total_hospitalized</th>\n",
       "      <th>...</th>\n",
       "      <th>total_confirmed_cases</th>\n",
       "      <th>variation_total_confirmed</th>\n",
       "      <th>new_confirmed_cases</th>\n",
       "      <th>recovered</th>\n",
       "      <th>deaths</th>\n",
       "      <th>total_cases</th>\n",
       "      <th>swabs_made</th>\n",
       "      <th>casi_testati</th>\n",
       "      <th>note_it</th>\n",
       "      <th>note_en</th>\n",
       "    </tr>\n",
       "  </thead>\n",
       "  <tbody>\n",
       "    <tr>\n",
       "      <th>0</th>\n",
       "      <td>0</td>\n",
       "      <td>2020-02-24T18:00:00</td>\n",
       "      <td>ITA</td>\n",
       "      <td>13</td>\n",
       "      <td>Abruzzo</td>\n",
       "      <td>42.351222</td>\n",
       "      <td>13.398438</td>\n",
       "      <td>0</td>\n",
       "      <td>0</td>\n",
       "      <td>0</td>\n",
       "      <td>...</td>\n",
       "      <td>0</td>\n",
       "      <td>0</td>\n",
       "      <td>0</td>\n",
       "      <td>0</td>\n",
       "      <td>0</td>\n",
       "      <td>0</td>\n",
       "      <td>5</td>\n",
       "      <td>0.0</td>\n",
       "      <td>0</td>\n",
       "      <td>0</td>\n",
       "    </tr>\n",
       "    <tr>\n",
       "      <th>1</th>\n",
       "      <td>1</td>\n",
       "      <td>2020-02-24T18:00:00</td>\n",
       "      <td>ITA</td>\n",
       "      <td>17</td>\n",
       "      <td>Basilicata</td>\n",
       "      <td>40.639471</td>\n",
       "      <td>15.805148</td>\n",
       "      <td>0</td>\n",
       "      <td>0</td>\n",
       "      <td>0</td>\n",
       "      <td>...</td>\n",
       "      <td>0</td>\n",
       "      <td>0</td>\n",
       "      <td>0</td>\n",
       "      <td>0</td>\n",
       "      <td>0</td>\n",
       "      <td>0</td>\n",
       "      <td>0</td>\n",
       "      <td>0.0</td>\n",
       "      <td>0</td>\n",
       "      <td>0</td>\n",
       "    </tr>\n",
       "    <tr>\n",
       "      <th>2</th>\n",
       "      <td>2</td>\n",
       "      <td>2020-02-24T18:00:00</td>\n",
       "      <td>ITA</td>\n",
       "      <td>4</td>\n",
       "      <td>P.A. Bolzano</td>\n",
       "      <td>46.499335</td>\n",
       "      <td>11.356624</td>\n",
       "      <td>0</td>\n",
       "      <td>0</td>\n",
       "      <td>0</td>\n",
       "      <td>...</td>\n",
       "      <td>0</td>\n",
       "      <td>0</td>\n",
       "      <td>0</td>\n",
       "      <td>0</td>\n",
       "      <td>0</td>\n",
       "      <td>0</td>\n",
       "      <td>1</td>\n",
       "      <td>0.0</td>\n",
       "      <td>0</td>\n",
       "      <td>0</td>\n",
       "    </tr>\n",
       "    <tr>\n",
       "      <th>3</th>\n",
       "      <td>3</td>\n",
       "      <td>2020-02-24T18:00:00</td>\n",
       "      <td>ITA</td>\n",
       "      <td>18</td>\n",
       "      <td>Calabria</td>\n",
       "      <td>38.905976</td>\n",
       "      <td>16.594402</td>\n",
       "      <td>0</td>\n",
       "      <td>0</td>\n",
       "      <td>0</td>\n",
       "      <td>...</td>\n",
       "      <td>0</td>\n",
       "      <td>0</td>\n",
       "      <td>0</td>\n",
       "      <td>0</td>\n",
       "      <td>0</td>\n",
       "      <td>0</td>\n",
       "      <td>1</td>\n",
       "      <td>0.0</td>\n",
       "      <td>0</td>\n",
       "      <td>0</td>\n",
       "    </tr>\n",
       "    <tr>\n",
       "      <th>4</th>\n",
       "      <td>4</td>\n",
       "      <td>2020-02-24T18:00:00</td>\n",
       "      <td>ITA</td>\n",
       "      <td>15</td>\n",
       "      <td>Campania</td>\n",
       "      <td>40.839566</td>\n",
       "      <td>14.250850</td>\n",
       "      <td>0</td>\n",
       "      <td>0</td>\n",
       "      <td>0</td>\n",
       "      <td>...</td>\n",
       "      <td>0</td>\n",
       "      <td>0</td>\n",
       "      <td>0</td>\n",
       "      <td>0</td>\n",
       "      <td>0</td>\n",
       "      <td>0</td>\n",
       "      <td>10</td>\n",
       "      <td>0.0</td>\n",
       "      <td>0</td>\n",
       "      <td>0</td>\n",
       "    </tr>\n",
       "  </tbody>\n",
       "</table>\n",
       "<p>5 rows × 21 columns</p>\n",
       "</div>"
      ],
      "text/plain": [
       "   Unnamed: 0                 date state  region_code        region  \\\n",
       "0           0  2020-02-24T18:00:00   ITA           13       Abruzzo   \n",
       "1           1  2020-02-24T18:00:00   ITA           17    Basilicata   \n",
       "2           2  2020-02-24T18:00:00   ITA            4  P.A. Bolzano   \n",
       "3           3  2020-02-24T18:00:00   ITA           18      Calabria   \n",
       "4           4  2020-02-24T18:00:00   ITA           15      Campania   \n",
       "\n",
       "         lat       long  hospitalized_with_symptoms  intensive_care  \\\n",
       "0  42.351222  13.398438                           0               0   \n",
       "1  40.639471  15.805148                           0               0   \n",
       "2  46.499335  11.356624                           0               0   \n",
       "3  38.905976  16.594402                           0               0   \n",
       "4  40.839566  14.250850                           0               0   \n",
       "\n",
       "   total_hospitalized  ...  total_confirmed_cases  variation_total_confirmed  \\\n",
       "0                   0  ...                      0                          0   \n",
       "1                   0  ...                      0                          0   \n",
       "2                   0  ...                      0                          0   \n",
       "3                   0  ...                      0                          0   \n",
       "4                   0  ...                      0                          0   \n",
       "\n",
       "   new_confirmed_cases  recovered  deaths  total_cases  swabs_made  \\\n",
       "0                    0          0       0            0           5   \n",
       "1                    0          0       0            0           0   \n",
       "2                    0          0       0            0           1   \n",
       "3                    0          0       0            0           1   \n",
       "4                    0          0       0            0          10   \n",
       "\n",
       "   casi_testati  note_it note_en  \n",
       "0           0.0        0       0  \n",
       "1           0.0        0       0  \n",
       "2           0.0        0       0  \n",
       "3           0.0        0       0  \n",
       "4           0.0        0       0  \n",
       "\n",
       "[5 rows x 21 columns]"
      ]
     },
     "execution_count": 89,
     "metadata": {},
     "output_type": "execute_result"
    }
   ],
   "source": [
    "#fill Nanw with 0\n",
    "df.fillna(0).head()"
   ]
  },
  {
   "cell_type": "code",
   "execution_count": 119,
   "metadata": {},
   "outputs": [
    {
     "data": {
      "text/plain": [
       "DatetimeIndex(['2020-02-24 18:00:00', '2020-02-24 18:00:00',\n",
       "               '2020-02-24 18:00:00', '2020-02-24 18:00:00',\n",
       "               '2020-02-24 18:00:00', '2020-02-24 18:00:00',\n",
       "               '2020-02-24 18:00:00', '2020-02-24 18:00:00',\n",
       "               '2020-02-24 18:00:00', '2020-02-24 18:00:00',\n",
       "               ...\n",
       "               '2020-05-03 17:00:00', '2020-05-03 17:00:00',\n",
       "               '2020-05-03 17:00:00', '2020-05-03 17:00:00',\n",
       "               '2020-05-03 17:00:00', '2020-05-03 17:00:00',\n",
       "               '2020-05-03 17:00:00', '2020-05-03 17:00:00',\n",
       "               '2020-05-03 17:00:00', '2020-05-03 17:00:00'],\n",
       "              dtype='datetime64[ns]', name='date', length=1470, freq=None)"
      ]
     },
     "execution_count": 119,
     "metadata": {},
     "output_type": "execute_result"
    }
   ],
   "source": [
    "#convert time to Datatime object\n",
    "pd.to_datetime(df.index)"
   ]
  },
  {
   "cell_type": "code",
   "execution_count": 99,
   "metadata": {},
   "outputs": [],
   "source": [
    "#Region with the most deaths\n",
    "deaths_per_region = pd.DataFrame(df.groupby(['region'])['deaths'].agg(sum))\n"
   ]
  },
  {
   "cell_type": "code",
   "execution_count": 109,
   "metadata": {},
   "outputs": [
    {
     "data": {
      "text/html": [
       "<div>\n",
       "<style scoped>\n",
       "    .dataframe tbody tr th:only-of-type {\n",
       "        vertical-align: middle;\n",
       "    }\n",
       "\n",
       "    .dataframe tbody tr th {\n",
       "        vertical-align: top;\n",
       "    }\n",
       "\n",
       "    .dataframe thead th {\n",
       "        text-align: right;\n",
       "    }\n",
       "</style>\n",
       "<table border=\"1\" class=\"dataframe\">\n",
       "  <thead>\n",
       "    <tr style=\"text-align: right;\">\n",
       "      <th></th>\n",
       "      <th>swabs_made</th>\n",
       "    </tr>\n",
       "    <tr>\n",
       "      <th>region</th>\n",
       "      <th></th>\n",
       "    </tr>\n",
       "  </thead>\n",
       "  <tbody>\n",
       "    <tr>\n",
       "      <th>Abruzzo</th>\n",
       "      <td>908956</td>\n",
       "    </tr>\n",
       "    <tr>\n",
       "      <th>Basilicata</th>\n",
       "      <td>238246</td>\n",
       "    </tr>\n",
       "    <tr>\n",
       "      <th>Calabria</th>\n",
       "      <td>839401</td>\n",
       "    </tr>\n",
       "    <tr>\n",
       "      <th>Campania</th>\n",
       "      <td>1677007</td>\n",
       "    </tr>\n",
       "    <tr>\n",
       "      <th>Emilia-Romagna</th>\n",
       "      <td>4602180</td>\n",
       "    </tr>\n",
       "  </tbody>\n",
       "</table>\n",
       "</div>"
      ],
      "text/plain": [
       "                swabs_made\n",
       "region                    \n",
       "Abruzzo             908956\n",
       "Basilicata          238246\n",
       "Calabria            839401\n",
       "Campania           1677007\n",
       "Emilia-Romagna     4602180"
      ]
     },
     "execution_count": 109,
     "metadata": {},
     "output_type": "execute_result"
    }
   ],
   "source": [
    "#Group regions in terms of number of test performed\n",
    "test_per_region = pd.DataFrame(df.groupby(['region'])['swabs_made'].agg(sum))\n",
    "test_per_region.head()"
   ]
  },
  {
   "cell_type": "code",
   "execution_count": 135,
   "metadata": {
    "scrolled": false
   },
   "outputs": [
    {
     "data": {
      "text/html": [
       "<div>\n",
       "<style scoped>\n",
       "    .dataframe tbody tr th:only-of-type {\n",
       "        vertical-align: middle;\n",
       "    }\n",
       "\n",
       "    .dataframe tbody tr th {\n",
       "        vertical-align: top;\n",
       "    }\n",
       "\n",
       "    .dataframe thead th {\n",
       "        text-align: right;\n",
       "    }\n",
       "</style>\n",
       "<table border=\"1\" class=\"dataframe\">\n",
       "  <thead>\n",
       "    <tr style=\"text-align: right;\">\n",
       "      <th></th>\n",
       "      <th>hospitalized_with_symptoms</th>\n",
       "      <th>intensive_care</th>\n",
       "      <th>total_hospitalized</th>\n",
       "      <th>home_quarantine</th>\n",
       "      <th>total_confirmed_cases</th>\n",
       "      <th>variation_total_confirmed</th>\n",
       "      <th>new_confirmed_cases</th>\n",
       "      <th>recovered</th>\n",
       "      <th>deaths</th>\n",
       "      <th>total_cases</th>\n",
       "      <th>swabs_made</th>\n",
       "    </tr>\n",
       "    <tr>\n",
       "      <th>region</th>\n",
       "      <th></th>\n",
       "      <th></th>\n",
       "      <th></th>\n",
       "      <th></th>\n",
       "      <th></th>\n",
       "      <th></th>\n",
       "      <th></th>\n",
       "      <th></th>\n",
       "      <th></th>\n",
       "      <th></th>\n",
       "      <th></th>\n",
       "    </tr>\n",
       "  </thead>\n",
       "  <tbody>\n",
       "    <tr>\n",
       "      <th>Abruzzo</th>\n",
       "      <td>14690</td>\n",
       "      <td>2400</td>\n",
       "      <td>17090</td>\n",
       "      <td>53146</td>\n",
       "      <td>70236</td>\n",
       "      <td>1868</td>\n",
       "      <td>2996</td>\n",
       "      <td>11380</td>\n",
       "      <td>8687</td>\n",
       "      <td>90303</td>\n",
       "      <td>908956</td>\n",
       "    </tr>\n",
       "    <tr>\n",
       "      <th>Basilicata</th>\n",
       "      <td>2075</td>\n",
       "      <td>531</td>\n",
       "      <td>2606</td>\n",
       "      <td>7088</td>\n",
       "      <td>9694</td>\n",
       "      <td>194</td>\n",
       "      <td>386</td>\n",
       "      <td>2206</td>\n",
       "      <td>680</td>\n",
       "      <td>12580</td>\n",
       "      <td>238246</td>\n",
       "    </tr>\n",
       "    <tr>\n",
       "      <th>Calabria</th>\n",
       "      <td>6227</td>\n",
       "      <td>624</td>\n",
       "      <td>6851</td>\n",
       "      <td>23930</td>\n",
       "      <td>30781</td>\n",
       "      <td>702</td>\n",
       "      <td>1114</td>\n",
       "      <td>4383</td>\n",
       "      <td>2506</td>\n",
       "      <td>37670</td>\n",
       "      <td>839401</td>\n",
       "    </tr>\n",
       "    <tr>\n",
       "      <th>Campania</th>\n",
       "      <td>23777</td>\n",
       "      <td>3957</td>\n",
       "      <td>27734</td>\n",
       "      <td>83600</td>\n",
       "      <td>111334</td>\n",
       "      <td>2726</td>\n",
       "      <td>4484</td>\n",
       "      <td>22349</td>\n",
       "      <td>10214</td>\n",
       "      <td>143897</td>\n",
       "      <td>1677007</td>\n",
       "    </tr>\n",
       "    <tr>\n",
       "      <th>Emilia-Romagna</th>\n",
       "      <td>157771</td>\n",
       "      <td>15597</td>\n",
       "      <td>173368</td>\n",
       "      <td>373840</td>\n",
       "      <td>547208</td>\n",
       "      <td>9027</td>\n",
       "      <td>26016</td>\n",
       "      <td>208854</td>\n",
       "      <td>109772</td>\n",
       "      <td>865834</td>\n",
       "      <td>4602180</td>\n",
       "    </tr>\n",
       "  </tbody>\n",
       "</table>\n",
       "</div>"
      ],
      "text/plain": [
       "                hospitalized_with_symptoms  intensive_care  \\\n",
       "region                                                       \n",
       "Abruzzo                              14690            2400   \n",
       "Basilicata                            2075             531   \n",
       "Calabria                              6227             624   \n",
       "Campania                             23777            3957   \n",
       "Emilia-Romagna                      157771           15597   \n",
       "\n",
       "                total_hospitalized  home_quarantine  total_confirmed_cases  \\\n",
       "region                                                                       \n",
       "Abruzzo                      17090            53146                  70236   \n",
       "Basilicata                    2606             7088                   9694   \n",
       "Calabria                      6851            23930                  30781   \n",
       "Campania                     27734            83600                 111334   \n",
       "Emilia-Romagna              173368           373840                 547208   \n",
       "\n",
       "                variation_total_confirmed  new_confirmed_cases  recovered  \\\n",
       "region                                                                      \n",
       "Abruzzo                              1868                 2996      11380   \n",
       "Basilicata                            194                  386       2206   \n",
       "Calabria                              702                 1114       4383   \n",
       "Campania                             2726                 4484      22349   \n",
       "Emilia-Romagna                       9027                26016     208854   \n",
       "\n",
       "                deaths  total_cases  swabs_made  \n",
       "region                                           \n",
       "Abruzzo           8687        90303      908956  \n",
       "Basilicata         680        12580      238246  \n",
       "Calabria          2506        37670      839401  \n",
       "Campania         10214       143897     1677007  \n",
       "Emilia-Romagna  109772       865834     4602180  "
      ]
     },
     "execution_count": 135,
     "metadata": {},
     "output_type": "execute_result"
    }
   ],
   "source": [
    "#GSummary of covid related info from the dataset\n",
    "df_covid = df_copy.drop(columns = ['region_code','Unnamed: 0','lat','long','casi_testati','note_it','note_en'],axis = 1)\n",
    "df_covid_summary=  pd.DataFrame(df_covid.groupby('region').sum())\n",
    "df_covid_summary.head()"
   ]
  },
  {
   "cell_type": "markdown",
   "metadata": {},
   "source": [
    "The Data is manipulated and transposed to a form suitable to be used to create a racing bar chart with Flourish"
   ]
  },
  {
   "cell_type": "code",
   "execution_count": 168,
   "metadata": {},
   "outputs": [],
   "source": [
    "#create new dataframe with selected columns\n",
    "df_Modify = pd.DataFrame(df_copy,columns = ['date','region','total_confirmed_cases'])"
   ]
  },
  {
   "cell_type": "code",
   "execution_count": 169,
   "metadata": {
    "scrolled": true
   },
   "outputs": [
    {
     "data": {
      "text/html": [
       "<div>\n",
       "<style scoped>\n",
       "    .dataframe tbody tr th:only-of-type {\n",
       "        vertical-align: middle;\n",
       "    }\n",
       "\n",
       "    .dataframe tbody tr th {\n",
       "        vertical-align: top;\n",
       "    }\n",
       "\n",
       "    .dataframe thead tr th {\n",
       "        text-align: left;\n",
       "    }\n",
       "\n",
       "    .dataframe thead tr:last-of-type th {\n",
       "        text-align: right;\n",
       "    }\n",
       "</style>\n",
       "<table border=\"1\" class=\"dataframe\">\n",
       "  <thead>\n",
       "    <tr>\n",
       "      <th></th>\n",
       "      <th colspan=\"21\" halign=\"left\">total_confirmed_cases</th>\n",
       "    </tr>\n",
       "    <tr>\n",
       "      <th>date</th>\n",
       "      <th>2020-02-24T18:00:00</th>\n",
       "      <th>2020-02-25T18:00:00</th>\n",
       "      <th>2020-02-26T18:00:00</th>\n",
       "      <th>2020-02-27T18:00:00</th>\n",
       "      <th>2020-02-28T18:00:00</th>\n",
       "      <th>2020-02-29T17:00:00</th>\n",
       "      <th>2020-03-01T17:00:00</th>\n",
       "      <th>2020-03-02T18:00:00</th>\n",
       "      <th>2020-03-03T18:00:00</th>\n",
       "      <th>2020-03-04T17:00:00</th>\n",
       "      <th>...</th>\n",
       "      <th>2020-04-24T17:00:00</th>\n",
       "      <th>2020-04-25T17:00:00</th>\n",
       "      <th>2020-04-26T17:00:00</th>\n",
       "      <th>2020-04-27T17:00:00</th>\n",
       "      <th>2020-04-28T17:00:00</th>\n",
       "      <th>2020-04-29T17:00:00</th>\n",
       "      <th>2020-04-30T17:00:00</th>\n",
       "      <th>2020-05-01T17:00:00</th>\n",
       "      <th>2020-05-02T17:00:00</th>\n",
       "      <th>2020-05-03T17:00:00</th>\n",
       "    </tr>\n",
       "    <tr>\n",
       "      <th>region</th>\n",
       "      <th></th>\n",
       "      <th></th>\n",
       "      <th></th>\n",
       "      <th></th>\n",
       "      <th></th>\n",
       "      <th></th>\n",
       "      <th></th>\n",
       "      <th></th>\n",
       "      <th></th>\n",
       "      <th></th>\n",
       "      <th></th>\n",
       "      <th></th>\n",
       "      <th></th>\n",
       "      <th></th>\n",
       "      <th></th>\n",
       "      <th></th>\n",
       "      <th></th>\n",
       "      <th></th>\n",
       "      <th></th>\n",
       "      <th></th>\n",
       "      <th></th>\n",
       "    </tr>\n",
       "  </thead>\n",
       "  <tbody>\n",
       "    <tr>\n",
       "      <th>Abruzzo</th>\n",
       "      <td>0</td>\n",
       "      <td>0</td>\n",
       "      <td>0</td>\n",
       "      <td>1</td>\n",
       "      <td>1</td>\n",
       "      <td>2</td>\n",
       "      <td>5</td>\n",
       "      <td>5</td>\n",
       "      <td>6</td>\n",
       "      <td>7</td>\n",
       "      <td>...</td>\n",
       "      <td>2079</td>\n",
       "      <td>2061</td>\n",
       "      <td>2068</td>\n",
       "      <td>2030</td>\n",
       "      <td>1990</td>\n",
       "      <td>1976</td>\n",
       "      <td>1915</td>\n",
       "      <td>1911</td>\n",
       "      <td>1879</td>\n",
       "      <td>1868</td>\n",
       "    </tr>\n",
       "    <tr>\n",
       "      <th>Basilicata</th>\n",
       "      <td>0</td>\n",
       "      <td>0</td>\n",
       "      <td>0</td>\n",
       "      <td>0</td>\n",
       "      <td>0</td>\n",
       "      <td>0</td>\n",
       "      <td>0</td>\n",
       "      <td>0</td>\n",
       "      <td>1</td>\n",
       "      <td>1</td>\n",
       "      <td>...</td>\n",
       "      <td>229</td>\n",
       "      <td>218</td>\n",
       "      <td>219</td>\n",
       "      <td>217</td>\n",
       "      <td>205</td>\n",
       "      <td>194</td>\n",
       "      <td>192</td>\n",
       "      <td>193</td>\n",
       "      <td>191</td>\n",
       "      <td>194</td>\n",
       "    </tr>\n",
       "    <tr>\n",
       "      <th>Calabria</th>\n",
       "      <td>0</td>\n",
       "      <td>0</td>\n",
       "      <td>0</td>\n",
       "      <td>0</td>\n",
       "      <td>1</td>\n",
       "      <td>1</td>\n",
       "      <td>1</td>\n",
       "      <td>1</td>\n",
       "      <td>1</td>\n",
       "      <td>1</td>\n",
       "      <td>...</td>\n",
       "      <td>821</td>\n",
       "      <td>811</td>\n",
       "      <td>797</td>\n",
       "      <td>782</td>\n",
       "      <td>764</td>\n",
       "      <td>753</td>\n",
       "      <td>740</td>\n",
       "      <td>727</td>\n",
       "      <td>713</td>\n",
       "      <td>702</td>\n",
       "    </tr>\n",
       "    <tr>\n",
       "      <th>Campania</th>\n",
       "      <td>0</td>\n",
       "      <td>0</td>\n",
       "      <td>0</td>\n",
       "      <td>3</td>\n",
       "      <td>4</td>\n",
       "      <td>13</td>\n",
       "      <td>17</td>\n",
       "      <td>17</td>\n",
       "      <td>30</td>\n",
       "      <td>31</td>\n",
       "      <td>...</td>\n",
       "      <td>2943</td>\n",
       "      <td>2935</td>\n",
       "      <td>2924</td>\n",
       "      <td>2877</td>\n",
       "      <td>2802</td>\n",
       "      <td>2782</td>\n",
       "      <td>2773</td>\n",
       "      <td>2753</td>\n",
       "      <td>2721</td>\n",
       "      <td>2726</td>\n",
       "    </tr>\n",
       "    <tr>\n",
       "      <th>Emilia-Romagna</th>\n",
       "      <td>18</td>\n",
       "      <td>26</td>\n",
       "      <td>46</td>\n",
       "      <td>96</td>\n",
       "      <td>143</td>\n",
       "      <td>213</td>\n",
       "      <td>277</td>\n",
       "      <td>324</td>\n",
       "      <td>398</td>\n",
       "      <td>516</td>\n",
       "      <td>...</td>\n",
       "      <td>12509</td>\n",
       "      <td>12347</td>\n",
       "      <td>12341</td>\n",
       "      <td>12225</td>\n",
       "      <td>12003</td>\n",
       "      <td>11862</td>\n",
       "      <td>9563</td>\n",
       "      <td>9484</td>\n",
       "      <td>9323</td>\n",
       "      <td>9045</td>\n",
       "    </tr>\n",
       "    <tr>\n",
       "      <th>Friuli Venezia Giulia</th>\n",
       "      <td>0</td>\n",
       "      <td>0</td>\n",
       "      <td>0</td>\n",
       "      <td>0</td>\n",
       "      <td>0</td>\n",
       "      <td>0</td>\n",
       "      <td>6</td>\n",
       "      <td>9</td>\n",
       "      <td>13</td>\n",
       "      <td>18</td>\n",
       "      <td>...</td>\n",
       "      <td>1320</td>\n",
       "      <td>1084</td>\n",
       "      <td>1248</td>\n",
       "      <td>1258</td>\n",
       "      <td>1239</td>\n",
       "      <td>1227</td>\n",
       "      <td>1170</td>\n",
       "      <td>1115</td>\n",
       "      <td>1109</td>\n",
       "      <td>1087</td>\n",
       "    </tr>\n",
       "    <tr>\n",
       "      <th>Lazio</th>\n",
       "      <td>2</td>\n",
       "      <td>2</td>\n",
       "      <td>0</td>\n",
       "      <td>0</td>\n",
       "      <td>0</td>\n",
       "      <td>3</td>\n",
       "      <td>3</td>\n",
       "      <td>4</td>\n",
       "      <td>11</td>\n",
       "      <td>27</td>\n",
       "      <td>...</td>\n",
       "      <td>4492</td>\n",
       "      <td>4561</td>\n",
       "      <td>4573</td>\n",
       "      <td>4562</td>\n",
       "      <td>4562</td>\n",
       "      <td>4535</td>\n",
       "      <td>4468</td>\n",
       "      <td>4446</td>\n",
       "      <td>4452</td>\n",
       "      <td>4385</td>\n",
       "    </tr>\n",
       "    <tr>\n",
       "      <th>Liguria</th>\n",
       "      <td>0</td>\n",
       "      <td>1</td>\n",
       "      <td>11</td>\n",
       "      <td>19</td>\n",
       "      <td>19</td>\n",
       "      <td>38</td>\n",
       "      <td>21</td>\n",
       "      <td>18</td>\n",
       "      <td>19</td>\n",
       "      <td>21</td>\n",
       "      <td>...</td>\n",
       "      <td>3437</td>\n",
       "      <td>3433</td>\n",
       "      <td>3480</td>\n",
       "      <td>3580</td>\n",
       "      <td>3571</td>\n",
       "      <td>3576</td>\n",
       "      <td>3551</td>\n",
       "      <td>3518</td>\n",
       "      <td>3598</td>\n",
       "      <td>3551</td>\n",
       "    </tr>\n",
       "    <tr>\n",
       "      <th>Lombardia</th>\n",
       "      <td>166</td>\n",
       "      <td>231</td>\n",
       "      <td>249</td>\n",
       "      <td>349</td>\n",
       "      <td>474</td>\n",
       "      <td>552</td>\n",
       "      <td>887</td>\n",
       "      <td>1077</td>\n",
       "      <td>1326</td>\n",
       "      <td>1497</td>\n",
       "      <td>...</td>\n",
       "      <td>34368</td>\n",
       "      <td>34473</td>\n",
       "      <td>35166</td>\n",
       "      <td>35441</td>\n",
       "      <td>35744</td>\n",
       "      <td>36122</td>\n",
       "      <td>36211</td>\n",
       "      <td>36473</td>\n",
       "      <td>36667</td>\n",
       "      <td>36926</td>\n",
       "    </tr>\n",
       "    <tr>\n",
       "      <th>Marche</th>\n",
       "      <td>0</td>\n",
       "      <td>0</td>\n",
       "      <td>1</td>\n",
       "      <td>3</td>\n",
       "      <td>6</td>\n",
       "      <td>11</td>\n",
       "      <td>25</td>\n",
       "      <td>34</td>\n",
       "      <td>59</td>\n",
       "      <td>80</td>\n",
       "      <td>...</td>\n",
       "      <td>3273</td>\n",
       "      <td>3272</td>\n",
       "      <td>3308</td>\n",
       "      <td>3310</td>\n",
       "      <td>3334</td>\n",
       "      <td>3347</td>\n",
       "      <td>3210</td>\n",
       "      <td>3211</td>\n",
       "      <td>3205</td>\n",
       "      <td>3198</td>\n",
       "    </tr>\n",
       "    <tr>\n",
       "      <th>Molise</th>\n",
       "      <td>0</td>\n",
       "      <td>0</td>\n",
       "      <td>0</td>\n",
       "      <td>0</td>\n",
       "      <td>0</td>\n",
       "      <td>0</td>\n",
       "      <td>0</td>\n",
       "      <td>0</td>\n",
       "      <td>3</td>\n",
       "      <td>3</td>\n",
       "      <td>...</td>\n",
       "      <td>200</td>\n",
       "      <td>198</td>\n",
       "      <td>200</td>\n",
       "      <td>200</td>\n",
       "      <td>195</td>\n",
       "      <td>193</td>\n",
       "      <td>190</td>\n",
       "      <td>190</td>\n",
       "      <td>182</td>\n",
       "      <td>181</td>\n",
       "    </tr>\n",
       "    <tr>\n",
       "      <th>P.A. Bolzano</th>\n",
       "      <td>0</td>\n",
       "      <td>1</td>\n",
       "      <td>1</td>\n",
       "      <td>1</td>\n",
       "      <td>1</td>\n",
       "      <td>1</td>\n",
       "      <td>1</td>\n",
       "      <td>1</td>\n",
       "      <td>1</td>\n",
       "      <td>1</td>\n",
       "      <td>...</td>\n",
       "      <td>1093</td>\n",
       "      <td>1035</td>\n",
       "      <td>994</td>\n",
       "      <td>940</td>\n",
       "      <td>910</td>\n",
       "      <td>845</td>\n",
       "      <td>802</td>\n",
       "      <td>757</td>\n",
       "      <td>703</td>\n",
       "      <td>665</td>\n",
       "    </tr>\n",
       "    <tr>\n",
       "      <th>P.A. Trento</th>\n",
       "      <td>0</td>\n",
       "      <td>0</td>\n",
       "      <td>0</td>\n",
       "      <td>0</td>\n",
       "      <td>0</td>\n",
       "      <td>0</td>\n",
       "      <td>0</td>\n",
       "      <td>0</td>\n",
       "      <td>4</td>\n",
       "      <td>5</td>\n",
       "      <td>...</td>\n",
       "      <td>1827</td>\n",
       "      <td>1744</td>\n",
       "      <td>1682</td>\n",
       "      <td>1707</td>\n",
       "      <td>1565</td>\n",
       "      <td>1463</td>\n",
       "      <td>1370</td>\n",
       "      <td>1293</td>\n",
       "      <td>1282</td>\n",
       "      <td>1247</td>\n",
       "    </tr>\n",
       "    <tr>\n",
       "      <th>Piemonte</th>\n",
       "      <td>3</td>\n",
       "      <td>3</td>\n",
       "      <td>3</td>\n",
       "      <td>2</td>\n",
       "      <td>11</td>\n",
       "      <td>11</td>\n",
       "      <td>49</td>\n",
       "      <td>51</td>\n",
       "      <td>56</td>\n",
       "      <td>82</td>\n",
       "      <td>...</td>\n",
       "      <td>15391</td>\n",
       "      <td>15502</td>\n",
       "      <td>15519</td>\n",
       "      <td>15508</td>\n",
       "      <td>15506</td>\n",
       "      <td>15521</td>\n",
       "      <td>15493</td>\n",
       "      <td>15562</td>\n",
       "      <td>15719</td>\n",
       "      <td>15638</td>\n",
       "    </tr>\n",
       "    <tr>\n",
       "      <th>Puglia</th>\n",
       "      <td>0</td>\n",
       "      <td>0</td>\n",
       "      <td>0</td>\n",
       "      <td>1</td>\n",
       "      <td>3</td>\n",
       "      <td>3</td>\n",
       "      <td>3</td>\n",
       "      <td>4</td>\n",
       "      <td>6</td>\n",
       "      <td>7</td>\n",
       "      <td>...</td>\n",
       "      <td>2933</td>\n",
       "      <td>2919</td>\n",
       "      <td>2937</td>\n",
       "      <td>2912</td>\n",
       "      <td>2919</td>\n",
       "      <td>2927</td>\n",
       "      <td>2949</td>\n",
       "      <td>2947</td>\n",
       "      <td>2954</td>\n",
       "      <td>2955</td>\n",
       "    </tr>\n",
       "    <tr>\n",
       "      <th>Sardegna</th>\n",
       "      <td>0</td>\n",
       "      <td>0</td>\n",
       "      <td>0</td>\n",
       "      <td>0</td>\n",
       "      <td>0</td>\n",
       "      <td>0</td>\n",
       "      <td>0</td>\n",
       "      <td>0</td>\n",
       "      <td>1</td>\n",
       "      <td>2</td>\n",
       "      <td>...</td>\n",
       "      <td>804</td>\n",
       "      <td>794</td>\n",
       "      <td>783</td>\n",
       "      <td>776</td>\n",
       "      <td>772</td>\n",
       "      <td>761</td>\n",
       "      <td>744</td>\n",
       "      <td>744</td>\n",
       "      <td>730</td>\n",
       "      <td>689</td>\n",
       "    </tr>\n",
       "    <tr>\n",
       "      <th>Sicilia</th>\n",
       "      <td>0</td>\n",
       "      <td>3</td>\n",
       "      <td>3</td>\n",
       "      <td>2</td>\n",
       "      <td>2</td>\n",
       "      <td>2</td>\n",
       "      <td>7</td>\n",
       "      <td>5</td>\n",
       "      <td>5</td>\n",
       "      <td>16</td>\n",
       "      <td>...</td>\n",
       "      <td>2320</td>\n",
       "      <td>2272</td>\n",
       "      <td>2107</td>\n",
       "      <td>2123</td>\n",
       "      <td>2143</td>\n",
       "      <td>2145</td>\n",
       "      <td>2157</td>\n",
       "      <td>2171</td>\n",
       "      <td>2186</td>\n",
       "      <td>2203</td>\n",
       "    </tr>\n",
       "    <tr>\n",
       "      <th>Toscana</th>\n",
       "      <td>0</td>\n",
       "      <td>2</td>\n",
       "      <td>2</td>\n",
       "      <td>2</td>\n",
       "      <td>7</td>\n",
       "      <td>10</td>\n",
       "      <td>12</td>\n",
       "      <td>12</td>\n",
       "      <td>18</td>\n",
       "      <td>37</td>\n",
       "      <td>...</td>\n",
       "      <td>6133</td>\n",
       "      <td>6146</td>\n",
       "      <td>6069</td>\n",
       "      <td>5983</td>\n",
       "      <td>5896</td>\n",
       "      <td>5663</td>\n",
       "      <td>5584</td>\n",
       "      <td>5373</td>\n",
       "      <td>5365</td>\n",
       "      <td>5328</td>\n",
       "    </tr>\n",
       "    <tr>\n",
       "      <th>Umbria</th>\n",
       "      <td>0</td>\n",
       "      <td>0</td>\n",
       "      <td>0</td>\n",
       "      <td>0</td>\n",
       "      <td>0</td>\n",
       "      <td>0</td>\n",
       "      <td>2</td>\n",
       "      <td>2</td>\n",
       "      <td>8</td>\n",
       "      <td>9</td>\n",
       "      <td>...</td>\n",
       "      <td>322</td>\n",
       "      <td>297</td>\n",
       "      <td>296</td>\n",
       "      <td>287</td>\n",
       "      <td>275</td>\n",
       "      <td>261</td>\n",
       "      <td>233</td>\n",
       "      <td>204</td>\n",
       "      <td>196</td>\n",
       "      <td>183</td>\n",
       "    </tr>\n",
       "    <tr>\n",
       "      <th>Valle d'Aosta</th>\n",
       "      <td>0</td>\n",
       "      <td>0</td>\n",
       "      <td>0</td>\n",
       "      <td>0</td>\n",
       "      <td>0</td>\n",
       "      <td>0</td>\n",
       "      <td>0</td>\n",
       "      <td>0</td>\n",
       "      <td>0</td>\n",
       "      <td>0</td>\n",
       "      <td>...</td>\n",
       "      <td>354</td>\n",
       "      <td>313</td>\n",
       "      <td>254</td>\n",
       "      <td>235</td>\n",
       "      <td>209</td>\n",
       "      <td>135</td>\n",
       "      <td>89</td>\n",
       "      <td>92</td>\n",
       "      <td>98</td>\n",
       "      <td>109</td>\n",
       "    </tr>\n",
       "    <tr>\n",
       "      <th>Veneto</th>\n",
       "      <td>32</td>\n",
       "      <td>42</td>\n",
       "      <td>69</td>\n",
       "      <td>109</td>\n",
       "      <td>149</td>\n",
       "      <td>189</td>\n",
       "      <td>261</td>\n",
       "      <td>271</td>\n",
       "      <td>297</td>\n",
       "      <td>345</td>\n",
       "      <td>...</td>\n",
       "      <td>9679</td>\n",
       "      <td>9432</td>\n",
       "      <td>9138</td>\n",
       "      <td>8860</td>\n",
       "      <td>8601</td>\n",
       "      <td>8369</td>\n",
       "      <td>8147</td>\n",
       "      <td>7779</td>\n",
       "      <td>7431</td>\n",
       "      <td>7299</td>\n",
       "    </tr>\n",
       "  </tbody>\n",
       "</table>\n",
       "<p>21 rows × 70 columns</p>\n",
       "</div>"
      ],
      "text/plain": [
       "                      total_confirmed_cases                      \\\n",
       "date                    2020-02-24T18:00:00 2020-02-25T18:00:00   \n",
       "region                                                            \n",
       "Abruzzo                                   0                   0   \n",
       "Basilicata                                0                   0   \n",
       "Calabria                                  0                   0   \n",
       "Campania                                  0                   0   \n",
       "Emilia-Romagna                           18                  26   \n",
       "Friuli Venezia Giulia                     0                   0   \n",
       "Lazio                                     2                   2   \n",
       "Liguria                                   0                   1   \n",
       "Lombardia                               166                 231   \n",
       "Marche                                    0                   0   \n",
       "Molise                                    0                   0   \n",
       "P.A. Bolzano                              0                   1   \n",
       "P.A. Trento                               0                   0   \n",
       "Piemonte                                  3                   3   \n",
       "Puglia                                    0                   0   \n",
       "Sardegna                                  0                   0   \n",
       "Sicilia                                   0                   3   \n",
       "Toscana                                   0                   2   \n",
       "Umbria                                    0                   0   \n",
       "Valle d'Aosta                             0                   0   \n",
       "Veneto                                   32                  42   \n",
       "\n",
       "                                                               \\\n",
       "date                  2020-02-26T18:00:00 2020-02-27T18:00:00   \n",
       "region                                                          \n",
       "Abruzzo                                 0                   1   \n",
       "Basilicata                              0                   0   \n",
       "Calabria                                0                   0   \n",
       "Campania                                0                   3   \n",
       "Emilia-Romagna                         46                  96   \n",
       "Friuli Venezia Giulia                   0                   0   \n",
       "Lazio                                   0                   0   \n",
       "Liguria                                11                  19   \n",
       "Lombardia                             249                 349   \n",
       "Marche                                  1                   3   \n",
       "Molise                                  0                   0   \n",
       "P.A. Bolzano                            1                   1   \n",
       "P.A. Trento                             0                   0   \n",
       "Piemonte                                3                   2   \n",
       "Puglia                                  0                   1   \n",
       "Sardegna                                0                   0   \n",
       "Sicilia                                 3                   2   \n",
       "Toscana                                 2                   2   \n",
       "Umbria                                  0                   0   \n",
       "Valle d'Aosta                           0                   0   \n",
       "Veneto                                 69                 109   \n",
       "\n",
       "                                                               \\\n",
       "date                  2020-02-28T18:00:00 2020-02-29T17:00:00   \n",
       "region                                                          \n",
       "Abruzzo                                 1                   2   \n",
       "Basilicata                              0                   0   \n",
       "Calabria                                1                   1   \n",
       "Campania                                4                  13   \n",
       "Emilia-Romagna                        143                 213   \n",
       "Friuli Venezia Giulia                   0                   0   \n",
       "Lazio                                   0                   3   \n",
       "Liguria                                19                  38   \n",
       "Lombardia                             474                 552   \n",
       "Marche                                  6                  11   \n",
       "Molise                                  0                   0   \n",
       "P.A. Bolzano                            1                   1   \n",
       "P.A. Trento                             0                   0   \n",
       "Piemonte                               11                  11   \n",
       "Puglia                                  3                   3   \n",
       "Sardegna                                0                   0   \n",
       "Sicilia                                 2                   2   \n",
       "Toscana                                 7                  10   \n",
       "Umbria                                  0                   0   \n",
       "Valle d'Aosta                           0                   0   \n",
       "Veneto                                149                 189   \n",
       "\n",
       "                                                               \\\n",
       "date                  2020-03-01T17:00:00 2020-03-02T18:00:00   \n",
       "region                                                          \n",
       "Abruzzo                                 5                   5   \n",
       "Basilicata                              0                   0   \n",
       "Calabria                                1                   1   \n",
       "Campania                               17                  17   \n",
       "Emilia-Romagna                        277                 324   \n",
       "Friuli Venezia Giulia                   6                   9   \n",
       "Lazio                                   3                   4   \n",
       "Liguria                                21                  18   \n",
       "Lombardia                             887                1077   \n",
       "Marche                                 25                  34   \n",
       "Molise                                  0                   0   \n",
       "P.A. Bolzano                            1                   1   \n",
       "P.A. Trento                             0                   0   \n",
       "Piemonte                               49                  51   \n",
       "Puglia                                  3                   4   \n",
       "Sardegna                                0                   0   \n",
       "Sicilia                                 7                   5   \n",
       "Toscana                                12                  12   \n",
       "Umbria                                  2                   2   \n",
       "Valle d'Aosta                           0                   0   \n",
       "Veneto                                261                 271   \n",
       "\n",
       "                                                               ...  \\\n",
       "date                  2020-03-03T18:00:00 2020-03-04T17:00:00  ...   \n",
       "region                                                         ...   \n",
       "Abruzzo                                 6                   7  ...   \n",
       "Basilicata                              1                   1  ...   \n",
       "Calabria                                1                   1  ...   \n",
       "Campania                               30                  31  ...   \n",
       "Emilia-Romagna                        398                 516  ...   \n",
       "Friuli Venezia Giulia                  13                  18  ...   \n",
       "Lazio                                  11                  27  ...   \n",
       "Liguria                                19                  21  ...   \n",
       "Lombardia                            1326                1497  ...   \n",
       "Marche                                 59                  80  ...   \n",
       "Molise                                  3                   3  ...   \n",
       "P.A. Bolzano                            1                   1  ...   \n",
       "P.A. Trento                             4                   5  ...   \n",
       "Piemonte                               56                  82  ...   \n",
       "Puglia                                  6                   7  ...   \n",
       "Sardegna                                1                   2  ...   \n",
       "Sicilia                                 5                  16  ...   \n",
       "Toscana                                18                  37  ...   \n",
       "Umbria                                  8                   9  ...   \n",
       "Valle d'Aosta                           0                   0  ...   \n",
       "Veneto                                297                 345  ...   \n",
       "\n",
       "                                                               \\\n",
       "date                  2020-04-24T17:00:00 2020-04-25T17:00:00   \n",
       "region                                                          \n",
       "Abruzzo                              2079                2061   \n",
       "Basilicata                            229                 218   \n",
       "Calabria                              821                 811   \n",
       "Campania                             2943                2935   \n",
       "Emilia-Romagna                      12509               12347   \n",
       "Friuli Venezia Giulia                1320                1084   \n",
       "Lazio                                4492                4561   \n",
       "Liguria                              3437                3433   \n",
       "Lombardia                           34368               34473   \n",
       "Marche                               3273                3272   \n",
       "Molise                                200                 198   \n",
       "P.A. Bolzano                         1093                1035   \n",
       "P.A. Trento                          1827                1744   \n",
       "Piemonte                            15391               15502   \n",
       "Puglia                               2933                2919   \n",
       "Sardegna                              804                 794   \n",
       "Sicilia                              2320                2272   \n",
       "Toscana                              6133                6146   \n",
       "Umbria                                322                 297   \n",
       "Valle d'Aosta                         354                 313   \n",
       "Veneto                               9679                9432   \n",
       "\n",
       "                                                               \\\n",
       "date                  2020-04-26T17:00:00 2020-04-27T17:00:00   \n",
       "region                                                          \n",
       "Abruzzo                              2068                2030   \n",
       "Basilicata                            219                 217   \n",
       "Calabria                              797                 782   \n",
       "Campania                             2924                2877   \n",
       "Emilia-Romagna                      12341               12225   \n",
       "Friuli Venezia Giulia                1248                1258   \n",
       "Lazio                                4573                4562   \n",
       "Liguria                              3480                3580   \n",
       "Lombardia                           35166               35441   \n",
       "Marche                               3308                3310   \n",
       "Molise                                200                 200   \n",
       "P.A. Bolzano                          994                 940   \n",
       "P.A. Trento                          1682                1707   \n",
       "Piemonte                            15519               15508   \n",
       "Puglia                               2937                2912   \n",
       "Sardegna                              783                 776   \n",
       "Sicilia                              2107                2123   \n",
       "Toscana                              6069                5983   \n",
       "Umbria                                296                 287   \n",
       "Valle d'Aosta                         254                 235   \n",
       "Veneto                               9138                8860   \n",
       "\n",
       "                                                               \\\n",
       "date                  2020-04-28T17:00:00 2020-04-29T17:00:00   \n",
       "region                                                          \n",
       "Abruzzo                              1990                1976   \n",
       "Basilicata                            205                 194   \n",
       "Calabria                              764                 753   \n",
       "Campania                             2802                2782   \n",
       "Emilia-Romagna                      12003               11862   \n",
       "Friuli Venezia Giulia                1239                1227   \n",
       "Lazio                                4562                4535   \n",
       "Liguria                              3571                3576   \n",
       "Lombardia                           35744               36122   \n",
       "Marche                               3334                3347   \n",
       "Molise                                195                 193   \n",
       "P.A. Bolzano                          910                 845   \n",
       "P.A. Trento                          1565                1463   \n",
       "Piemonte                            15506               15521   \n",
       "Puglia                               2919                2927   \n",
       "Sardegna                              772                 761   \n",
       "Sicilia                              2143                2145   \n",
       "Toscana                              5896                5663   \n",
       "Umbria                                275                 261   \n",
       "Valle d'Aosta                         209                 135   \n",
       "Veneto                               8601                8369   \n",
       "\n",
       "                                                               \\\n",
       "date                  2020-04-30T17:00:00 2020-05-01T17:00:00   \n",
       "region                                                          \n",
       "Abruzzo                              1915                1911   \n",
       "Basilicata                            192                 193   \n",
       "Calabria                              740                 727   \n",
       "Campania                             2773                2753   \n",
       "Emilia-Romagna                       9563                9484   \n",
       "Friuli Venezia Giulia                1170                1115   \n",
       "Lazio                                4468                4446   \n",
       "Liguria                              3551                3518   \n",
       "Lombardia                           36211               36473   \n",
       "Marche                               3210                3211   \n",
       "Molise                                190                 190   \n",
       "P.A. Bolzano                          802                 757   \n",
       "P.A. Trento                          1370                1293   \n",
       "Piemonte                            15493               15562   \n",
       "Puglia                               2949                2947   \n",
       "Sardegna                              744                 744   \n",
       "Sicilia                              2157                2171   \n",
       "Toscana                              5584                5373   \n",
       "Umbria                                233                 204   \n",
       "Valle d'Aosta                          89                  92   \n",
       "Veneto                               8147                7779   \n",
       "\n",
       "                                                               \n",
       "date                  2020-05-02T17:00:00 2020-05-03T17:00:00  \n",
       "region                                                         \n",
       "Abruzzo                              1879                1868  \n",
       "Basilicata                            191                 194  \n",
       "Calabria                              713                 702  \n",
       "Campania                             2721                2726  \n",
       "Emilia-Romagna                       9323                9045  \n",
       "Friuli Venezia Giulia                1109                1087  \n",
       "Lazio                                4452                4385  \n",
       "Liguria                              3598                3551  \n",
       "Lombardia                           36667               36926  \n",
       "Marche                               3205                3198  \n",
       "Molise                                182                 181  \n",
       "P.A. Bolzano                          703                 665  \n",
       "P.A. Trento                          1282                1247  \n",
       "Piemonte                            15719               15638  \n",
       "Puglia                               2954                2955  \n",
       "Sardegna                              730                 689  \n",
       "Sicilia                              2186                2203  \n",
       "Toscana                              5365                5328  \n",
       "Umbria                                196                 183  \n",
       "Valle d'Aosta                          98                 109  \n",
       "Veneto                               7431                7299  \n",
       "\n",
       "[21 rows x 70 columns]"
      ]
     },
     "execution_count": 169,
     "metadata": {},
     "output_type": "execute_result"
    }
   ],
   "source": [
    "#Transpose Data\n",
    "df_T= pd.DataFrame(df_Modify.groupby(['region','date'],as_index = False).sum().pivot('region','date').fillna(0))\n",
    "df_T"
   ]
  },
  {
   "cell_type": "markdown",
   "metadata": {},
   "source": [
    "### Tableau Dashboard\n",
    "\n",
    " An Intereactive Tableau Dashboard for visualizing the  data"
   ]
  },
  {
   "cell_type": "code",
   "execution_count": 148,
   "metadata": {
    "scrolled": true
   },
   "outputs": [
    {
     "data": {
      "text/html": [
       "<script type='text/javascript' src='https://dub01.online.tableau.com/javascripts/api/viz_v1.js'></script><div class='tableauPlaceholder' style='width: 1000px; height: 827px;'><object class='tableauViz' width='1000' height='827' style='display:none;'><param name='host_url' value='https%3A%2F%2Fdub01.online.tableau.com%2F' /> <param name='embed_code_version' value='3' /> <param name='site_root' value='&#47;t&#47;idatavisualizations' /><param name='name' value='covid-19_italydashboard&#47;Covid-19_Italy' /><param name='tabs' value='no' /><param name='toolbar' value='yes' /><param name='showAppBanner' value='false' /></object></div>\n"
      ],
      "text/plain": [
       "<IPython.core.display.HTML object>"
      ]
     },
     "metadata": {},
     "output_type": "display_data"
    }
   ],
   "source": [
    "%%HTML \n",
    "<script type='text/javascript' src='https://dub01.online.tableau.com/javascripts/api/viz_v1.js'></script><div class='tableauPlaceholder' style='width: 1000px; height: 827px;'><object class='tableauViz' width='1000' height='827' style='display:none;'><param name='host_url' value='https%3A%2F%2Fdub01.online.tableau.com%2F' /> <param name='embed_code_version' value='3' /> <param name='site_root' value='&#47;t&#47;idatavisualizations' /><param name='name' value='covid-19_italydashboard&#47;Covid-19_Italy' /><param name='tabs' value='no' /><param name='toolbar' value='yes' /><param name='showAppBanner' value='false' /></object></div>"
   ]
  },
  {
   "cell_type": "markdown",
   "metadata": {},
   "source": [
    "## Racing bar charts \n",
    "\n",
    "I made a racing bar chart with Flourish for visualizing cumulative data across Regions."
   ]
  },
  {
   "cell_type": "code",
   "execution_count": 172,
   "metadata": {},
   "outputs": [
    {
     "data": {
      "text/html": [
       "<amp-iframe sandbox='allow-scripts allow-same-origin' layout=responsive resizable noloading src='https://flo.uri.sh/visualisation/3099006/embed?auto=1' width=400 height=300><amp-img layout=fixed height=64 width=64 src='https://public.flourish.studio/resources/bosh.svg' placeholder style='margin: auto'></amp-img><div overflow></div></amp-iframe><p><a href='https://public.flourish.studio/visualisation/3099006/?utm_source=embed&utm_campaign=visualisation/3099006'><amp-img layout=fixed height=16 width=105 src='https://public.flourish.studio/resources/made_with_flourish.svg' alt='Made with Flourish'></amp-img></a></p>\n"
      ],
      "text/plain": [
       "<IPython.core.display.HTML object>"
      ]
     },
     "metadata": {},
     "output_type": "display_data"
    }
   ],
   "source": [
    "%%HTML\n",
    "<div class=\"flourish-embed flourish-bar-chart-race\" data-src=\"visualisation/3099006\" data-url=\"https://flo.uri.sh/visualisation/3099006/embed\"><script src=\"https://public.flourish.studio/resources/embed.js\"></script></div>"
   ]
  },
  {
   "cell_type": "code",
   "execution_count": null,
   "metadata": {},
   "outputs": [],
   "source": []
  }
 ],
 "metadata": {
  "kernelspec": {
   "display_name": "Python 3",
   "language": "python",
   "name": "python3"
  },
  "language_info": {
   "codemirror_mode": {
    "name": "ipython",
    "version": 3
   },
   "file_extension": ".py",
   "mimetype": "text/x-python",
   "name": "python",
   "nbconvert_exporter": "python",
   "pygments_lexer": "ipython3",
   "version": "3.7.4"
  }
 },
 "nbformat": 4,
 "nbformat_minor": 2
}
